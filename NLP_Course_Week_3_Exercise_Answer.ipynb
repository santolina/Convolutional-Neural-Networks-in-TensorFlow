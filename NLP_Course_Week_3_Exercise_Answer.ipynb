{
  "nbformat": 4,
  "nbformat_minor": 0,
  "metadata": {
    "colab": {
      "name": "NLP Course - Week 3 Exercise Answer.ipynb のコピー",
      "provenance": [],
      "collapsed_sections": [],
      "include_colab_link": true
    },
    "kernelspec": {
      "name": "python3",
      "display_name": "Python 3"
    },
    "accelerator": "GPU"
  },
  "cells": [
    {
      "cell_type": "markdown",
      "metadata": {
        "id": "view-in-github",
        "colab_type": "text"
      },
      "source": [
        "<a href=\"https://colab.research.google.com/github/santolina/Convolutional-Neural-Networks-in-TensorFlow/blob/master/NLP_Course_Week_3_Exercise_Answer.ipynb\" target=\"_parent\"><img src=\"https://colab.research.google.com/assets/colab-badge.svg\" alt=\"Open In Colab\"/></a>"
      ]
    },
    {
      "cell_type": "code",
      "metadata": {
        "id": "hmA6EzkQJ5jt",
        "colab_type": "code",
        "colab": {
          "base_uri": "https://localhost:8080/",
          "height": 80
        },
        "outputId": "e0ec9791-e131-4525-e412-10cc3ef50179"
      },
      "source": [
        "import json\n",
        "import tensorflow as tf\n",
        "import csv\n",
        "import random\n",
        "import numpy as np\n",
        "\n",
        "from tensorflow.keras.preprocessing.text import Tokenizer\n",
        "from tensorflow.keras.preprocessing.sequence import pad_sequences\n",
        "from tensorflow.keras.utils import to_categorical\n",
        "from tensorflow.keras import regularizers\n",
        "\n",
        "\n",
        "embedding_dim = 100\n",
        "max_length = 16\n",
        "trunc_type='post'\n",
        "padding_type='post'\n",
        "oov_tok = \"<OOV>\"\n",
        "training_size=160000\n",
        "test_portion=.1\n",
        "\n",
        "corpus = []\n"
      ],
      "execution_count": 1,
      "outputs": [
        {
          "output_type": "display_data",
          "data": {
            "text/html": [
              "<p style=\"color: red;\">\n",
              "The default version of TensorFlow in Colab will soon switch to TensorFlow 2.x.<br>\n",
              "We recommend you <a href=\"https://www.tensorflow.org/guide/migrate\" target=\"_blank\">upgrade</a> now \n",
              "or ensure your notebook will continue to use TensorFlow 1.x via the <code>%tensorflow_version 1.x</code> magic:\n",
              "<a href=\"https://colab.research.google.com/notebooks/tensorflow_version.ipynb\" target=\"_blank\">more info</a>.</p>\n"
            ],
            "text/plain": [
              "<IPython.core.display.HTML object>"
            ]
          },
          "metadata": {
            "tags": []
          }
        }
      ]
    },
    {
      "cell_type": "code",
      "metadata": {
        "id": "bM0l_dORKqE0",
        "colab_type": "code",
        "outputId": "8024e77c-e430-4a22-cf56-95bb165f4492",
        "colab": {
          "base_uri": "https://localhost:8080/",
          "height": 224
        }
      },
      "source": [
        "\n",
        "# Note that I cleaned the Stanford dataset to remove LATIN1 encoding to make it easier for Python CSV reader\n",
        "# You can do that yourself with:\n",
        "# iconv -f LATIN1 -t UTF8 training.1600000.processed.noemoticon.csv -o training_cleaned.csv\n",
        "# I then hosted it on my site to make it easier to use in this notebook\n",
        "\n",
        "!wget --no-check-certificate \\\n",
        "    https://storage.googleapis.com/laurencemoroney-blog.appspot.com/training_cleaned.csv \\\n",
        "    -O /tmp/training_cleaned.csv\n",
        "\n",
        "num_sentences = 0\n",
        "\n",
        "with open(\"/tmp/training_cleaned.csv\") as csvfile:\n",
        "    reader = csv.reader(csvfile, delimiter=',')\n",
        "    for row in reader:\n",
        "        list_item=[]\n",
        "        list_item.append(row[5])\n",
        "        this_label=row[0]\n",
        "        if this_label=='0':\n",
        "            list_item.append(0)\n",
        "        else:\n",
        "            list_item.append(1)\n",
        "        num_sentences = num_sentences + 1\n",
        "        corpus.append(list_item)\n",
        "\n",
        "\n"
      ],
      "execution_count": 2,
      "outputs": [
        {
          "output_type": "stream",
          "text": [
            "--2019-11-18 13:32:55--  https://storage.googleapis.com/laurencemoroney-blog.appspot.com/training_cleaned.csv\n",
            "Resolving storage.googleapis.com (storage.googleapis.com)... 173.194.76.128, 2a00:1450:400c:c02::80\n",
            "Connecting to storage.googleapis.com (storage.googleapis.com)|173.194.76.128|:443... connected.\n",
            "HTTP request sent, awaiting response... 200 OK\n",
            "Length: 238942690 (228M) [application/octet-stream]\n",
            "Saving to: ‘/tmp/training_cleaned.csv’\n",
            "\n",
            "/tmp/training_clean 100%[===================>] 227.87M  55.3MB/s    in 4.1s    \n",
            "\n",
            "2019-11-18 13:33:00 (55.3 MB/s) - ‘/tmp/training_cleaned.csv’ saved [238942690/238942690]\n",
            "\n"
          ],
          "name": "stdout"
        }
      ]
    },
    {
      "cell_type": "code",
      "metadata": {
        "id": "3kxblBUjEUX-",
        "colab_type": "code",
        "outputId": "823fce9f-94fd-444d-b1b1-daf54edada77",
        "colab": {
          "base_uri": "https://localhost:8080/",
          "height": 88
        }
      },
      "source": [
        "print(num_sentences)\n",
        "print(len(corpus))\n",
        "print(corpus[1])\n",
        "\n",
        "# Expected Output:\n",
        "# 1600000\n",
        "# 1600000\n",
        "# [\"is upset that he can't update his Facebook by texting it... and might cry as a result  School today also. Blah!\", 0]"
      ],
      "execution_count": 3,
      "outputs": [
        {
          "output_type": "stream",
          "text": [
            "1600000\n",
            "1600000\n",
            "[\"is upset that he can't update his Facebook by texting it... and might cry as a result  School today also. Blah!\", 0]\n"
          ],
          "name": "stdout"
        }
      ]
    },
    {
      "cell_type": "code",
      "metadata": {
        "id": "ohOGz24lsNAD",
        "colab_type": "code",
        "colab": {}
      },
      "source": [
        "sentences=[]\n",
        "labels=[]\n",
        "random.shuffle(corpus)\n",
        "for x in range(training_size):\n",
        "    sentences.append(corpus[x][0])\n",
        "    labels.append(corpus[x][1])\n",
        "\n",
        "\n",
        "tokenizer = Tokenizer()\n",
        "tokenizer.fit_on_texts(sentences)\n",
        "\n",
        "word_index = tokenizer.word_index\n",
        "vocab_size=len(word_index)\n",
        "\n",
        "sequences = tokenizer.texts_to_sequences(sentences)\n",
        "padded = pad_sequences(sequences, maxlen=max_length, padding=padding_type, truncating=trunc_type)\n",
        "\n",
        "split = int(test_portion * training_size)\n",
        "\n",
        "test_sequences = padded[0:split]\n",
        "training_sequences = padded[split:training_size]\n",
        "test_labels = labels[0:split]\n",
        "training_labels = labels[split:training_size]"
      ],
      "execution_count": 0,
      "outputs": []
    },
    {
      "cell_type": "code",
      "metadata": {
        "id": "gIrtRem1En3N",
        "colab_type": "code",
        "outputId": "4ad8401c-8dba-420d-8aee-38dac0b0839a",
        "colab": {
          "base_uri": "https://localhost:8080/",
          "height": 51
        }
      },
      "source": [
        "print(vocab_size)\n",
        "print(word_index['i'])\n",
        "# Expected Output\n",
        "# 138858\n",
        "# 1"
      ],
      "execution_count": 0,
      "outputs": [
        {
          "output_type": "stream",
          "text": [
            "138858\n",
            "1\n"
          ],
          "name": "stdout"
        }
      ]
    },
    {
      "cell_type": "code",
      "metadata": {
        "id": "C1zdgJkusRh0",
        "colab_type": "code",
        "outputId": "225423dc-94de-4c17-8172-987b451c8cbd",
        "colab": {
          "base_uri": "https://localhost:8080/",
          "height": 224
        }
      },
      "source": [
        "# Note this is the 100 dimension version of GloVe from Stanford\n",
        "# I unzipped and hosted it on my site to make this notebook easier\n",
        "!wget --no-check-certificate \\\n",
        "    https://storage.googleapis.com/laurencemoroney-blog.appspot.com/glove.6B.100d.txt \\\n",
        "    -O /tmp/glove.6B.100d.txt\n",
        "embeddings_index = {};\n",
        "with open('/tmp/glove.6B.100d.txt') as f:\n",
        "    for line in f:\n",
        "        values = line.split();\n",
        "        word = values[0];\n",
        "        coefs = np.asarray(values[1:], dtype='float32');\n",
        "        embeddings_index[word] = coefs;\n",
        "\n",
        "embeddings_matrix = np.zeros((vocab_size+1, embedding_dim));\n",
        "for word, i in word_index.items():\n",
        "    embedding_vector = embeddings_index.get(word);\n",
        "    if embedding_vector is not None:\n",
        "        embeddings_matrix[i] = embedding_vector;"
      ],
      "execution_count": 5,
      "outputs": [
        {
          "output_type": "stream",
          "text": [
            "--2019-11-18 13:33:23--  https://storage.googleapis.com/laurencemoroney-blog.appspot.com/glove.6B.100d.txt\n",
            "Resolving storage.googleapis.com (storage.googleapis.com)... 173.194.76.128, 2a00:1450:400c:c02::80\n",
            "Connecting to storage.googleapis.com (storage.googleapis.com)|173.194.76.128|:443... connected.\n",
            "HTTP request sent, awaiting response... 200 OK\n",
            "Length: 347116733 (331M) [text/plain]\n",
            "Saving to: ‘/tmp/glove.6B.100d.txt’\n",
            "\n",
            "/tmp/glove.6B.100d. 100%[===================>] 331.04M  73.7MB/s    in 4.5s    \n",
            "\n",
            "2019-11-18 13:33:28 (73.7 MB/s) - ‘/tmp/glove.6B.100d.txt’ saved [347116733/347116733]\n",
            "\n"
          ],
          "name": "stdout"
        }
      ]
    },
    {
      "cell_type": "code",
      "metadata": {
        "id": "71NLk_lpFLNt",
        "colab_type": "code",
        "outputId": "6847391c-6835-47c3-f5e9-d712cb79a6d3",
        "colab": {
          "base_uri": "https://localhost:8080/",
          "height": 34
        }
      },
      "source": [
        "print(len(embeddings_matrix))\n",
        "# Expected Output\n",
        "# 138859"
      ],
      "execution_count": 6,
      "outputs": [
        {
          "output_type": "stream",
          "text": [
            "138513\n"
          ],
          "name": "stdout"
        }
      ]
    },
    {
      "cell_type": "code",
      "metadata": {
        "colab_type": "code",
        "id": "iKKvbuEBOGFz",
        "colab": {
          "base_uri": "https://localhost:8080/",
          "height": 1000
        },
        "outputId": "7a315ad6-54ff-4560-94d7-0f827989ec7b"
      },
      "source": [
        "model = tf.keras.Sequential([\n",
        "    tf.keras.layers.Embedding(vocab_size+1, embedding_dim, input_length=max_length, weights=[embeddings_matrix], trainable=False),\n",
        "    tf.keras.layers.Dropout(0.2),\n",
        "    tf.keras.layers.Conv1D(64, 5, activation='relu'),\n",
        "    tf.keras.layers.MaxPooling1D(pool_size=4),\n",
        "    tf.keras.layers.LSTM(64),\n",
        "    tf.keras.layers.Dense(1, activation='sigmoid')\n",
        "])\n",
        "model.compile(loss='binary_crossentropy',optimizer='adam',metrics=['accuracy'])\n",
        "model.summary()\n",
        "\n",
        "num_epochs = 50\n",
        "history = model.fit(training_sequences, training_labels, epochs=num_epochs, validation_data=(test_sequences, test_labels), verbose=2)\n",
        "\n",
        "print(\"Training Complete\")\n"
      ],
      "execution_count": 7,
      "outputs": [
        {
          "output_type": "stream",
          "text": [
            "WARNING:tensorflow:From /usr/local/lib/python3.6/dist-packages/tensorflow_core/python/keras/initializers.py:119: calling RandomUniform.__init__ (from tensorflow.python.ops.init_ops) with dtype is deprecated and will be removed in a future version.\n",
            "Instructions for updating:\n",
            "Call initializer instance with the dtype argument instead of passing it to the constructor\n",
            "WARNING:tensorflow:From /usr/local/lib/python3.6/dist-packages/tensorflow_core/python/ops/resource_variable_ops.py:1630: calling BaseResourceVariable.__init__ (from tensorflow.python.ops.resource_variable_ops) with constraint is deprecated and will be removed in a future version.\n",
            "Instructions for updating:\n",
            "If using Keras pass *_constraint arguments to layers.\n",
            "WARNING:tensorflow:From /usr/local/lib/python3.6/dist-packages/tensorflow_core/python/ops/nn_impl.py:183: where (from tensorflow.python.ops.array_ops) is deprecated and will be removed in a future version.\n",
            "Instructions for updating:\n",
            "Use tf.where in 2.0, which has the same broadcast rule as np.where\n",
            "Model: \"sequential\"\n",
            "_________________________________________________________________\n",
            "Layer (type)                 Output Shape              Param #   \n",
            "=================================================================\n",
            "embedding (Embedding)        (None, 16, 100)           13851300  \n",
            "_________________________________________________________________\n",
            "dropout (Dropout)            (None, 16, 100)           0         \n",
            "_________________________________________________________________\n",
            "conv1d (Conv1D)              (None, 12, 64)            32064     \n",
            "_________________________________________________________________\n",
            "max_pooling1d (MaxPooling1D) (None, 3, 64)             0         \n",
            "_________________________________________________________________\n",
            "lstm (LSTM)                  (None, 64)                33024     \n",
            "_________________________________________________________________\n",
            "dense (Dense)                (None, 1)                 65        \n",
            "=================================================================\n",
            "Total params: 13,916,453\n",
            "Trainable params: 65,153\n",
            "Non-trainable params: 13,851,300\n",
            "_________________________________________________________________\n",
            "Train on 144000 samples, validate on 16000 samples\n",
            "Epoch 1/50\n",
            "144000/144000 - 47s - loss: 0.5677 - acc: 0.6987 - val_loss: 0.5267 - val_acc: 0.7286\n",
            "Epoch 2/50\n",
            "144000/144000 - 44s - loss: 0.5265 - acc: 0.7325 - val_loss: 0.5154 - val_acc: 0.7409\n",
            "Epoch 3/50\n",
            "144000/144000 - 44s - loss: 0.5119 - acc: 0.7428 - val_loss: 0.5142 - val_acc: 0.7416\n",
            "Epoch 4/50\n",
            "144000/144000 - 47s - loss: 0.5004 - acc: 0.7507 - val_loss: 0.5031 - val_acc: 0.7471\n",
            "Epoch 5/50\n",
            "144000/144000 - 48s - loss: 0.4916 - acc: 0.7576 - val_loss: 0.5012 - val_acc: 0.7494\n",
            "Epoch 6/50\n",
            "144000/144000 - 49s - loss: 0.4856 - acc: 0.7603 - val_loss: 0.5010 - val_acc: 0.7506\n",
            "Epoch 7/50\n",
            "144000/144000 - 50s - loss: 0.4785 - acc: 0.7656 - val_loss: 0.5039 - val_acc: 0.7517\n",
            "Epoch 8/50\n",
            "144000/144000 - 51s - loss: 0.4741 - acc: 0.7675 - val_loss: 0.5018 - val_acc: 0.7499\n",
            "Epoch 9/50\n",
            "144000/144000 - 51s - loss: 0.4685 - acc: 0.7721 - val_loss: 0.5007 - val_acc: 0.7531\n",
            "Epoch 10/50\n",
            "144000/144000 - 47s - loss: 0.4654 - acc: 0.7733 - val_loss: 0.5068 - val_acc: 0.7509\n",
            "Epoch 11/50\n",
            "144000/144000 - 50s - loss: 0.4611 - acc: 0.7768 - val_loss: 0.5170 - val_acc: 0.7449\n",
            "Epoch 12/50\n",
            "144000/144000 - 49s - loss: 0.4587 - acc: 0.7779 - val_loss: 0.5028 - val_acc: 0.7519\n",
            "Epoch 13/50\n",
            "144000/144000 - 46s - loss: 0.4558 - acc: 0.7797 - val_loss: 0.5105 - val_acc: 0.7467\n",
            "Epoch 14/50\n",
            "144000/144000 - 49s - loss: 0.4530 - acc: 0.7816 - val_loss: 0.5048 - val_acc: 0.7528\n",
            "Epoch 15/50\n",
            "144000/144000 - 50s - loss: 0.4529 - acc: 0.7815 - val_loss: 0.5075 - val_acc: 0.7547\n",
            "Epoch 16/50\n",
            "144000/144000 - 51s - loss: 0.4499 - acc: 0.7832 - val_loss: 0.5069 - val_acc: 0.7510\n",
            "Epoch 17/50\n",
            "144000/144000 - 50s - loss: 0.4480 - acc: 0.7858 - val_loss: 0.5070 - val_acc: 0.7523\n",
            "Epoch 18/50\n",
            "144000/144000 - 50s - loss: 0.4464 - acc: 0.7854 - val_loss: 0.5126 - val_acc: 0.7474\n",
            "Epoch 19/50\n",
            "144000/144000 - 48s - loss: 0.4471 - acc: 0.7853 - val_loss: 0.5098 - val_acc: 0.7504\n",
            "Epoch 20/50\n",
            "144000/144000 - 49s - loss: 0.4443 - acc: 0.7873 - val_loss: 0.5136 - val_acc: 0.7487\n",
            "Epoch 21/50\n",
            "144000/144000 - 48s - loss: 0.4429 - acc: 0.7878 - val_loss: 0.5140 - val_acc: 0.7507\n",
            "Epoch 22/50\n",
            "144000/144000 - 43s - loss: 0.4419 - acc: 0.7882 - val_loss: 0.5110 - val_acc: 0.7496\n",
            "Epoch 23/50\n",
            "144000/144000 - 44s - loss: 0.4416 - acc: 0.7887 - val_loss: 0.5182 - val_acc: 0.7476\n",
            "Epoch 24/50\n",
            "144000/144000 - 43s - loss: 0.4420 - acc: 0.7879 - val_loss: 0.5158 - val_acc: 0.7514\n",
            "Epoch 25/50\n",
            "144000/144000 - 43s - loss: 0.4397 - acc: 0.7885 - val_loss: 0.5175 - val_acc: 0.7466\n",
            "Epoch 26/50\n",
            "144000/144000 - 43s - loss: 0.4378 - acc: 0.7912 - val_loss: 0.5215 - val_acc: 0.7471\n",
            "Epoch 27/50\n",
            "144000/144000 - 43s - loss: 0.4374 - acc: 0.7922 - val_loss: 0.5148 - val_acc: 0.7491\n",
            "Epoch 28/50\n",
            "144000/144000 - 43s - loss: 0.4361 - acc: 0.7909 - val_loss: 0.5136 - val_acc: 0.7479\n",
            "Epoch 29/50\n",
            "144000/144000 - 43s - loss: 0.4375 - acc: 0.7911 - val_loss: 0.5153 - val_acc: 0.7461\n",
            "Epoch 30/50\n",
            "144000/144000 - 43s - loss: 0.4366 - acc: 0.7924 - val_loss: 0.5168 - val_acc: 0.7502\n",
            "Epoch 31/50\n",
            "144000/144000 - 43s - loss: 0.4356 - acc: 0.7914 - val_loss: 0.5220 - val_acc: 0.7458\n",
            "Epoch 32/50\n",
            "144000/144000 - 43s - loss: 0.4360 - acc: 0.7917 - val_loss: 0.5176 - val_acc: 0.7484\n",
            "Epoch 33/50\n",
            "144000/144000 - 43s - loss: 0.4341 - acc: 0.7928 - val_loss: 0.5194 - val_acc: 0.7496\n",
            "Epoch 34/50\n",
            "144000/144000 - 46s - loss: 0.4350 - acc: 0.7927 - val_loss: 0.5190 - val_acc: 0.7476\n",
            "Epoch 35/50\n",
            "144000/144000 - 46s - loss: 0.4311 - acc: 0.7949 - val_loss: 0.5219 - val_acc: 0.7517\n",
            "Epoch 36/50\n",
            "144000/144000 - 46s - loss: 0.4332 - acc: 0.7930 - val_loss: 0.5200 - val_acc: 0.7486\n",
            "Epoch 37/50\n",
            "144000/144000 - 46s - loss: 0.4343 - acc: 0.7926 - val_loss: 0.5206 - val_acc: 0.7456\n",
            "Epoch 38/50\n",
            "144000/144000 - 47s - loss: 0.4324 - acc: 0.7939 - val_loss: 0.5211 - val_acc: 0.7449\n",
            "Epoch 39/50\n",
            "144000/144000 - 48s - loss: 0.4326 - acc: 0.7945 - val_loss: 0.5222 - val_acc: 0.7470\n",
            "Epoch 40/50\n",
            "144000/144000 - 48s - loss: 0.4318 - acc: 0.7945 - val_loss: 0.5196 - val_acc: 0.7479\n",
            "Epoch 41/50\n",
            "144000/144000 - 47s - loss: 0.4324 - acc: 0.7935 - val_loss: 0.5162 - val_acc: 0.7466\n",
            "Epoch 42/50\n",
            "144000/144000 - 50s - loss: 0.4308 - acc: 0.7955 - val_loss: 0.5214 - val_acc: 0.7463\n",
            "Epoch 43/50\n",
            "144000/144000 - 48s - loss: 0.4311 - acc: 0.7943 - val_loss: 0.5224 - val_acc: 0.7516\n",
            "Epoch 44/50\n",
            "144000/144000 - 48s - loss: 0.4297 - acc: 0.7967 - val_loss: 0.5192 - val_acc: 0.7473\n",
            "Epoch 45/50\n",
            "144000/144000 - 48s - loss: 0.4299 - acc: 0.7957 - val_loss: 0.5236 - val_acc: 0.7486\n",
            "Epoch 46/50\n",
            "144000/144000 - 44s - loss: 0.4312 - acc: 0.7947 - val_loss: 0.5237 - val_acc: 0.7470\n",
            "Epoch 47/50\n",
            "144000/144000 - 47s - loss: 0.4310 - acc: 0.7942 - val_loss: 0.5228 - val_acc: 0.7514\n",
            "Epoch 48/50\n",
            "144000/144000 - 48s - loss: 0.4289 - acc: 0.7961 - val_loss: 0.5178 - val_acc: 0.7481\n",
            "Epoch 49/50\n",
            "144000/144000 - 43s - loss: 0.4298 - acc: 0.7946 - val_loss: 0.5237 - val_acc: 0.7491\n",
            "Epoch 50/50\n",
            "144000/144000 - 43s - loss: 0.4287 - acc: 0.7964 - val_loss: 0.5194 - val_acc: 0.7498\n",
            "Training Complete\n"
          ],
          "name": "stdout"
        }
      ]
    },
    {
      "cell_type": "code",
      "metadata": {
        "id": "qxju4ItJKO8F",
        "colab_type": "code",
        "colab": {
          "base_uri": "https://localhost:8080/",
          "height": 607
        },
        "outputId": "29b403ec-5684-4929-e5bb-2b2ed9c24bf6"
      },
      "source": [
        "import matplotlib.image  as mpimg\n",
        "import matplotlib.pyplot as plt\n",
        "\n",
        "#-----------------------------------------------------------\n",
        "# Retrieve a list of list results on training and test data\n",
        "# sets for each training epoch\n",
        "#-----------------------------------------------------------\n",
        "acc=history.history['acc']\n",
        "val_acc=history.history['val_acc']\n",
        "loss=history.history['loss']\n",
        "val_loss=history.history['val_loss']\n",
        "\n",
        "epochs=range(len(acc)) # Get number of epochs\n",
        "\n",
        "#------------------------------------------------\n",
        "# Plot training and validation accuracy per epoch\n",
        "#------------------------------------------------\n",
        "plt.plot(epochs, acc, 'r')\n",
        "plt.plot(epochs, val_acc, 'b')\n",
        "plt.title('Training and validation accuracy')\n",
        "plt.xlabel(\"Epochs\")\n",
        "plt.ylabel(\"Accuracy\")\n",
        "plt.legend([\"Accuracy\", \"Validation Accuracy\"])\n",
        "\n",
        "plt.figure()\n",
        "\n",
        "#------------------------------------------------\n",
        "# Plot training and validation loss per epoch\n",
        "#------------------------------------------------\n",
        "plt.plot(epochs, loss, 'r')\n",
        "plt.plot(epochs, val_loss, 'b')\n",
        "plt.title('Training and validation loss')\n",
        "plt.xlabel(\"Epochs\")\n",
        "plt.ylabel(\"Loss\")\n",
        "plt.legend([\"Loss\", \"Validation Loss\"])\n",
        "\n",
        "plt.figure()\n",
        "\n",
        "\n",
        "# Expected Output\n",
        "# A chart where the validation loss does not increase sharply!"
      ],
      "execution_count": 8,
      "outputs": [
        {
          "output_type": "execute_result",
          "data": {
            "text/plain": [
              "<Figure size 432x288 with 0 Axes>"
            ]
          },
          "metadata": {
            "tags": []
          },
          "execution_count": 8
        },
        {
          "output_type": "display_data",
          "data": {
            "image/png": "[encoded data removed]",
            "text/plain": [
              "<Figure size 432x288 with 1 Axes>"
            ]
          },
          "metadata": {
            "tags": []
          }
        },
        {
          "output_type": "display_data",
          "data": {
            "image/png": "[encoded data removed]",
            "text/plain": [
              "<Figure size 432x288 with 1 Axes>"
            ]
          },
          "metadata": {
            "tags": []
          }
        },
        {
          "output_type": "display_data",
          "data": {
            "text/plain": [
              "<Figure size 432x288 with 0 Axes>"
            ]
          },
          "metadata": {
            "tags": []
          }
        }
      ]
    },
    {
      "cell_type": "code",
      "metadata": {
        "id": "TiE4DLAJ2zhd",
        "colab_type": "code",
        "colab": {}
      },
      "source": [
        ""
      ],
      "execution_count": 0,
      "outputs": []
    }
  ]
}