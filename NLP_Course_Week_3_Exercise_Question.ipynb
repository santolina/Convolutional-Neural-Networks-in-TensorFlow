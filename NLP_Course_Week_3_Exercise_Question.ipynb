{
  "nbformat": 4,
  "nbformat_minor": 0,
  "metadata": {
    "colab": {
      "name": "NLP Course - Week 3 Exercise Question",
      "provenance": [],
      "collapsed_sections": [],
      "include_colab_link": true
    },
    "kernelspec": {
      "name": "python3",
      "display_name": "Python 3"
    },
    "accelerator": "GPU"
  },
  "cells": [
    {
      "cell_type": "markdown",
      "metadata": {
        "id": "view-in-github",
        "colab_type": "text"
      },
      "source": [
        "<a href=\"https://colab.research.google.com/github/santolina/Convolutional-Neural-Networks-in-TensorFlow/blob/master/NLP_Course_Week_3_Exercise_Question.ipynb\" target=\"_parent\"><img src=\"https://colab.research.google.com/assets/colab-badge.svg\" alt=\"Open In Colab\"/></a>"
      ]
    },
    {
      "cell_type": "code",
      "metadata": {
        "id": "hmA6EzkQJ5jt",
        "colab_type": "code",
        "colab": {}
      },
      "source": [
        "import json\n",
        "import tensorflow as tf\n",
        "import csv\n",
        "import random\n",
        "import numpy as np\n",
        "\n",
        "from tensorflow.keras.preprocessing.text import Tokenizer\n",
        "from tensorflow.keras.preprocessing.sequence import pad_sequences\n",
        "from tensorflow.keras.utils import to_categorical\n",
        "from tensorflow.keras import regularizers\n",
        "\n",
        "\n",
        "embedding_dim = 100\n",
        "max_length = 16\n",
        "trunc_type='post'\n",
        "padding_type='post'\n",
        "oov_tok = \"<OOV>\"\n",
        "training_size=160000 #Your dataset size here. Experiment using smaller values (i.e. 16000), but don't forget to train on at least 160000 to see the best effects\n",
        "test_portion=.1\n",
        "\n",
        "corpus = []\n"
      ],
      "execution_count": 0,
      "outputs": []
    },
    {
      "cell_type": "code",
      "metadata": {
        "id": "bM0l_dORKqE0",
        "colab_type": "code",
        "outputId": "bf8cb95c-02d4-43e4-ef16-4e511d35c662",
        "colab": {
          "base_uri": "https://localhost:8080/",
          "height": 224
        }
      },
      "source": [
        "\n",
        "# Note that I cleaned the Stanford dataset to remove LATIN1 encoding to make it easier for Python CSV reader\n",
        "# You can do that yourself with:\n",
        "# iconv -f LATIN1 -t UTF8 training.1600000.processed.noemoticon.csv -o training_cleaned.csv\n",
        "# I then hosted it on my site to make it easier to use in this notebook\n",
        "\n",
        "!wget --no-check-certificate \\\n",
        "    https://storage.googleapis.com/laurencemoroney-blog.appspot.com/training_cleaned.csv \\\n",
        "    -O /tmp/training_cleaned.csv\n",
        "\n",
        "num_sentences = 0\n",
        "\n",
        "with open(\"/tmp/training_cleaned.csv\") as csvfile:\n",
        "    reader = csv.reader(csvfile, delimiter=',')\n",
        "    for row in reader:\n",
        "      # Your Code here. Create list items where the first item is the text, found in row[5], and the second is the label. Note that the label is a '0' or a '4' in the text. When it's the former, make\n",
        "      # your label to be 0, otherwise 1. Keep a count of the number of sentences in num_sentences\n",
        "        list_item=[]\n",
        "        label = int(row[0].replace(\"4\", \"1\"))          \n",
        "\n",
        "        list_item.append([row[5], label])\n",
        "\n",
        "        # YOUR CODE HERE\n",
        "        num_sentences = num_sentences + 1\n",
        "        corpus.append(list_item)\n",
        "\n",
        "\n"
      ],
      "execution_count": 32,
      "outputs": [
        {
          "output_type": "stream",
          "text": [
            "--2019-11-18 12:58:29--  https://storage.googleapis.com/laurencemoroney-blog.appspot.com/training_cleaned.csv\n",
            "Resolving storage.googleapis.com (storage.googleapis.com)... 172.217.218.128, 2a00:1450:4013:c05::80\n",
            "Connecting to storage.googleapis.com (storage.googleapis.com)|172.217.218.128|:443... connected.\n",
            "HTTP request sent, awaiting response... 200 OK\n",
            "Length: 238942690 (228M) [application/octet-stream]\n",
            "Saving to: ‘/tmp/training_cleaned.csv’\n",
            "\n",
            "/tmp/training_clean 100%[===================>] 227.87M   189MB/s    in 1.2s    \n",
            "\n",
            "2019-11-18 12:58:30 (189 MB/s) - ‘/tmp/training_cleaned.csv’ saved [238942690/238942690]\n",
            "\n"
          ],
          "name": "stdout"
        }
      ]
    },
    {
      "cell_type": "code",
      "metadata": {
        "id": "3kxblBUjEUX-",
        "colab_type": "code",
        "outputId": "056e124c-3543-472b-dfb7-3d188b1d448e",
        "colab": {
          "base_uri": "https://localhost:8080/",
          "height": 88
        }
      },
      "source": [
        "print(num_sentences)\n",
        "print(len(corpus))\n",
        "print(corpus[1])\n",
        "\n",
        "# Expected Output:\n",
        "# 1600000\n",
        "# 1600000\n",
        "# [\"is upset that he can't update his Facebook by texting it... and might cry as a result  School today also. Blah!\", 0]"
      ],
      "execution_count": 33,
      "outputs": [
        {
          "output_type": "stream",
          "text": [
            "1600000\n",
            "1600000\n",
            "[[\"is upset that he can't update his Facebook by texting it... and might cry as a result  School today also. Blah!\", 0]]\n"
          ],
          "name": "stdout"
        }
      ]
    },
    {
      "cell_type": "code",
      "metadata": {
        "id": "ohOGz24lsNAD",
        "colab_type": "code",
        "colab": {}
      },
      "source": [
        "sentences=[]\n",
        "labels=[]\n",
        "random.shuffle(corpus)\n",
        "for x in range(training_size):\n",
        "    sentence, label = corpus[x][0]\n",
        "    sentences.append(sentence)\n",
        "    labels.append(label)\n",
        "\n",
        "tokenizer = Tokenizer()\n",
        "tokenizer.fit_on_texts(sentences)\n",
        "\n",
        "word_index = tokenizer.word_index\n",
        "vocab_size=len(word_index)\n",
        "\n",
        "sequences = tokenizer.texts_to_sequences(sentences) # YOUR CODE HERE)\n",
        "padded = pad_sequences(sequences, maxlen=max_length, padding=padding_type, truncating=trunc_type) # YOUR CODE HERE)\n",
        "\n",
        "split = int(test_portion * training_size)\n",
        "\n",
        "test_sequences = padded[split:] # YOUR CODE HERE]\n",
        "training_sequences = padded[:split] # YOUR CODE HERE]\n",
        "test_labels = labels[split:] # YOUR CODE HERE]\n",
        "training_labels = labels[:split] # YOUR CODE HERE]"
      ],
      "execution_count": 0,
      "outputs": []
    },
    {
      "cell_type": "code",
      "metadata": {
        "id": "gIrtRem1En3N",
        "colab_type": "code",
        "outputId": "e33a1e70-978e-4972-b644-81d74891053a",
        "colab": {
          "base_uri": "https://localhost:8080/",
          "height": 51
        }
      },
      "source": [
        "print(vocab_size)\n",
        "print(word_index['i'])\n",
        "# Expected Output\n",
        "# 138858\n",
        "# 1"
      ],
      "execution_count": 35,
      "outputs": [
        {
          "output_type": "stream",
          "text": [
            "138536\n",
            "1\n"
          ],
          "name": "stdout"
        }
      ]
    },
    {
      "cell_type": "code",
      "metadata": {
        "id": "C1zdgJkusRh0",
        "colab_type": "code",
        "outputId": "55aa24b9-9c62-4624-b49b-e6755084ce3d",
        "colab": {
          "base_uri": "https://localhost:8080/",
          "height": 224
        }
      },
      "source": [
        "# Note this is the 100 dimension version of GloVe from Stanford\n",
        "# I unzipped and hosted it on my site to make this notebook easier\n",
        "!wget --no-check-certificate \\\n",
        "    https://storage.googleapis.com/laurencemoroney-blog.appspot.com/glove.6B.100d.txt \\\n",
        "    -O /tmp/glove.6B.100d.txt\n",
        "embeddings_index = {};\n",
        "with open('/tmp/glove.6B.100d.txt') as f:\n",
        "    for line in f:\n",
        "        values = line.split();\n",
        "        word = values[0];\n",
        "        coefs = np.asarray(values[1:], dtype='float32');\n",
        "        embeddings_index[word] = coefs;\n",
        "\n",
        "embeddings_matrix = np.zeros((vocab_size+1, embedding_dim));\n",
        "for word, i in word_index.items():\n",
        "    embedding_vector = embeddings_index.get(word);\n",
        "    if embedding_vector is not None:\n",
        "        embeddings_matrix[i] = embedding_vector;"
      ],
      "execution_count": 36,
      "outputs": [
        {
          "output_type": "stream",
          "text": [
            "--2019-11-18 12:59:00--  https://storage.googleapis.com/laurencemoroney-blog.appspot.com/glove.6B.100d.txt\n",
            "Resolving storage.googleapis.com (storage.googleapis.com)... 108.177.126.128, 2a00:1450:4013:c00::80\n",
            "Connecting to storage.googleapis.com (storage.googleapis.com)|108.177.126.128|:443... connected.\n",
            "HTTP request sent, awaiting response... 200 OK\n",
            "Length: 347116733 (331M) [text/plain]\n",
            "Saving to: ‘/tmp/glove.6B.100d.txt’\n",
            "\n",
            "/tmp/glove.6B.100d. 100%[===================>] 331.04M   159MB/s    in 2.1s    \n",
            "\n",
            "2019-11-18 12:59:02 (159 MB/s) - ‘/tmp/glove.6B.100d.txt’ saved [347116733/347116733]\n",
            "\n"
          ],
          "name": "stdout"
        }
      ]
    },
    {
      "cell_type": "code",
      "metadata": {
        "id": "71NLk_lpFLNt",
        "colab_type": "code",
        "outputId": "9e1a2cd3-228d-4680-c0be-83f2bce63ce2",
        "colab": {
          "base_uri": "https://localhost:8080/",
          "height": 34
        }
      },
      "source": [
        "print(len(embeddings_matrix))\n",
        "# Expected Output\n",
        "# 138859"
      ],
      "execution_count": 37,
      "outputs": [
        {
          "output_type": "stream",
          "text": [
            "138537\n"
          ],
          "name": "stdout"
        }
      ]
    },
    {
      "cell_type": "code",
      "metadata": {
        "colab_type": "code",
        "id": "iKKvbuEBOGFz",
        "colab": {
          "base_uri": "https://localhost:8080/",
          "height": 1000
        },
        "outputId": "50d48382-9e18-4700-99e9-c1874fdfd0f4"
      },
      "source": [
        "model = tf.keras.Sequential([\n",
        "    tf.keras.layers.Embedding(vocab_size+1, embedding_dim, input_length=max_length, weights=[embeddings_matrix], trainable=False),\n",
        "    tf.keras.layers.Conv1D(64, 5, activation=\"relu\"),\n",
        "    tf.keras.layers.GlobalAveragePooling1D(),\n",
        "    tf.keras.layers.Dense(6, activation=\"relu\"),\n",
        "    tf.keras.layers.Dense(1, activation='sigmoid')\n",
        "    # YOUR CODE HERE - experiment with combining different types, such as convolutions and LSTMs\n",
        "])\n",
        "model.compile(loss='binary_crossentropy', optimizer='adam', metrics=['acc'])\n",
        "model.summary()\n",
        "\n",
        "num_epochs = 50\n",
        "history = model.fit(training_sequences, training_labels, epochs=num_epochs, validation_data=(test_sequences, test_labels), verbose=1)\n",
        "\n",
        "print(\"Training Complete\")\n"
      ],
      "execution_count": 40,
      "outputs": [
        {
          "output_type": "stream",
          "text": [
            "Model: \"sequential_3\"\n",
            "_________________________________________________________________\n",
            "Layer (type)                 Output Shape              Param #   \n",
            "=================================================================\n",
            "embedding_3 (Embedding)      (None, 16, 100)           13853700  \n",
            "_________________________________________________________________\n",
            "conv1d_3 (Conv1D)            (None, 12, 64)            32064     \n",
            "_________________________________________________________________\n",
            "global_average_pooling1d_3 ( (None, 64)                0         \n",
            "_________________________________________________________________\n",
            "dense_6 (Dense)              (None, 6)                 390       \n",
            "_________________________________________________________________\n",
            "dense_7 (Dense)              (None, 1)                 7         \n",
            "=================================================================\n",
            "Total params: 13,886,161\n",
            "Trainable params: 32,461\n",
            "Non-trainable params: 13,853,700\n",
            "_________________________________________________________________\n",
            "Train on 16000 samples, validate on 144000 samples\n",
            "Epoch 1/50\n",
            "16000/16000 [==============================] - 8s 530us/sample - loss: 0.6355 - acc: 0.6466 - val_loss: 0.6194 - val_acc: 0.6628\n",
            "Epoch 2/50\n",
            "16000/16000 [==============================] - 8s 520us/sample - loss: 0.5844 - acc: 0.6921 - val_loss: 0.5834 - val_acc: 0.6951\n",
            "Epoch 3/50\n",
            "16000/16000 [==============================] - 8s 513us/sample - loss: 0.5580 - acc: 0.7130 - val_loss: 0.5701 - val_acc: 0.7016\n",
            "Epoch 4/50\n",
            "16000/16000 [==============================] - 8s 523us/sample - loss: 0.5333 - acc: 0.7324 - val_loss: 0.5697 - val_acc: 0.6997\n",
            "Epoch 5/50\n",
            "16000/16000 [==============================] - 8s 522us/sample - loss: 0.5096 - acc: 0.7476 - val_loss: 0.5651 - val_acc: 0.7043\n",
            "Epoch 6/50\n",
            "16000/16000 [==============================] - 8s 518us/sample - loss: 0.4821 - acc: 0.7701 - val_loss: 0.5652 - val_acc: 0.7140\n",
            "Epoch 7/50\n",
            "16000/16000 [==============================] - 8s 522us/sample - loss: 0.4584 - acc: 0.7796 - val_loss: 0.5752 - val_acc: 0.7121\n",
            "Epoch 8/50\n",
            "16000/16000 [==============================] - 8s 526us/sample - loss: 0.4323 - acc: 0.7968 - val_loss: 0.5704 - val_acc: 0.7150\n",
            "Epoch 9/50\n",
            "16000/16000 [==============================] - 9s 540us/sample - loss: 0.4039 - acc: 0.8136 - val_loss: 0.5919 - val_acc: 0.7087\n",
            "Epoch 10/50\n",
            "16000/16000 [==============================] - 8s 526us/sample - loss: 0.3753 - acc: 0.8298 - val_loss: 0.6082 - val_acc: 0.7060\n",
            "Epoch 11/50\n",
            "16000/16000 [==============================] - 8s 520us/sample - loss: 0.3496 - acc: 0.8447 - val_loss: 0.6464 - val_acc: 0.7110\n",
            "Epoch 12/50\n",
            "16000/16000 [==============================] - 8s 518us/sample - loss: 0.3272 - acc: 0.8579 - val_loss: 0.6441 - val_acc: 0.7085\n",
            "Epoch 13/50\n",
            "16000/16000 [==============================] - 8s 515us/sample - loss: 0.3025 - acc: 0.8706 - val_loss: 0.6615 - val_acc: 0.6996\n",
            "Epoch 14/50\n",
            "16000/16000 [==============================] - 8s 521us/sample - loss: 0.2723 - acc: 0.8869 - val_loss: 0.6901 - val_acc: 0.6989\n",
            "Epoch 15/50\n",
            "16000/16000 [==============================] - 8s 520us/sample - loss: 0.2492 - acc: 0.8993 - val_loss: 0.7450 - val_acc: 0.6990\n",
            "Epoch 16/50\n",
            "16000/16000 [==============================] - 8s 517us/sample - loss: 0.2358 - acc: 0.9053 - val_loss: 0.8041 - val_acc: 0.6920\n",
            "Epoch 17/50\n",
            "16000/16000 [==============================] - 8s 522us/sample - loss: 0.2126 - acc: 0.9155 - val_loss: 0.8576 - val_acc: 0.6979\n",
            "Epoch 18/50\n",
            "16000/16000 [==============================] - 8s 513us/sample - loss: 0.1898 - acc: 0.9271 - val_loss: 0.8380 - val_acc: 0.6917\n",
            "Epoch 19/50\n",
            "16000/16000 [==============================] - 8s 520us/sample - loss: 0.1702 - acc: 0.9374 - val_loss: 0.9318 - val_acc: 0.6914\n",
            "Epoch 20/50\n",
            "16000/16000 [==============================] - 8s 518us/sample - loss: 0.1550 - acc: 0.9434 - val_loss: 0.9661 - val_acc: 0.6911\n",
            "Epoch 21/50\n",
            "16000/16000 [==============================] - 8s 519us/sample - loss: 0.1451 - acc: 0.9466 - val_loss: 1.0339 - val_acc: 0.6912\n",
            "Epoch 22/50\n",
            "16000/16000 [==============================] - 8s 522us/sample - loss: 0.1243 - acc: 0.9578 - val_loss: 1.1028 - val_acc: 0.6820\n",
            "Epoch 23/50\n",
            "16000/16000 [==============================] - 8s 520us/sample - loss: 0.1118 - acc: 0.9613 - val_loss: 1.1262 - val_acc: 0.6846\n",
            "Epoch 24/50\n",
            "16000/16000 [==============================] - 8s 523us/sample - loss: 0.1048 - acc: 0.9661 - val_loss: 1.1357 - val_acc: 0.6883\n",
            "Epoch 25/50\n",
            "16000/16000 [==============================] - 8s 522us/sample - loss: 0.0910 - acc: 0.9704 - val_loss: 1.2678 - val_acc: 0.6805\n",
            "Epoch 26/50\n",
            "16000/16000 [==============================] - 8s 520us/sample - loss: 0.0851 - acc: 0.9729 - val_loss: 1.2503 - val_acc: 0.6851\n",
            "Epoch 27/50\n",
            "16000/16000 [==============================] - 8s 520us/sample - loss: 0.0777 - acc: 0.9747 - val_loss: 1.3518 - val_acc: 0.6852\n",
            "Epoch 28/50\n",
            "16000/16000 [==============================] - 8s 516us/sample - loss: 0.0780 - acc: 0.9736 - val_loss: 1.3897 - val_acc: 0.6835\n",
            "Epoch 29/50\n",
            "16000/16000 [==============================] - 8s 521us/sample - loss: 0.0612 - acc: 0.9810 - val_loss: 1.4665 - val_acc: 0.6843\n",
            "Epoch 30/50\n",
            "16000/16000 [==============================] - 8s 519us/sample - loss: 0.0513 - acc: 0.9858 - val_loss: 1.5336 - val_acc: 0.6777\n",
            "Epoch 31/50\n",
            "16000/16000 [==============================] - 8s 521us/sample - loss: 0.0513 - acc: 0.9845 - val_loss: 1.6358 - val_acc: 0.6792\n",
            "Epoch 32/50\n",
            "16000/16000 [==============================] - 8s 520us/sample - loss: 0.0556 - acc: 0.9820 - val_loss: 1.5823 - val_acc: 0.6793\n",
            "Epoch 33/50\n",
            "16000/16000 [==============================] - 8s 522us/sample - loss: 0.0401 - acc: 0.9887 - val_loss: 1.7038 - val_acc: 0.6802\n",
            "Epoch 34/50\n",
            "16000/16000 [==============================] - 8s 528us/sample - loss: 0.0512 - acc: 0.9824 - val_loss: 1.7005 - val_acc: 0.6797\n",
            "Epoch 35/50\n",
            "16000/16000 [==============================] - 8s 523us/sample - loss: 0.0514 - acc: 0.9825 - val_loss: 1.8380 - val_acc: 0.6764\n",
            "Epoch 36/50\n",
            "16000/16000 [==============================] - 8s 519us/sample - loss: 0.0303 - acc: 0.9924 - val_loss: 1.8194 - val_acc: 0.6846\n",
            "Epoch 37/50\n",
            "16000/16000 [==============================] - 8s 511us/sample - loss: 0.0497 - acc: 0.9818 - val_loss: 1.8974 - val_acc: 0.6715\n",
            "Epoch 38/50\n",
            "16000/16000 [==============================] - 8s 515us/sample - loss: 0.0391 - acc: 0.9889 - val_loss: 1.9136 - val_acc: 0.6787\n",
            "Epoch 39/50\n",
            "16000/16000 [==============================] - 8s 517us/sample - loss: 0.0197 - acc: 0.9958 - val_loss: 2.0041 - val_acc: 0.6804\n",
            "Epoch 40/50\n",
            "16000/16000 [==============================] - 8s 515us/sample - loss: 0.0668 - acc: 0.9756 - val_loss: 1.9489 - val_acc: 0.6807\n",
            "Epoch 41/50\n",
            "16000/16000 [==============================] - 8s 522us/sample - loss: 0.0297 - acc: 0.9911 - val_loss: 1.9876 - val_acc: 0.6816\n",
            "Epoch 42/50\n",
            "16000/16000 [==============================] - 8s 517us/sample - loss: 0.0184 - acc: 0.9951 - val_loss: 2.0515 - val_acc: 0.6792\n",
            "Epoch 43/50\n",
            "16000/16000 [==============================] - 8s 523us/sample - loss: 0.0154 - acc: 0.9964 - val_loss: 2.0813 - val_acc: 0.6813\n",
            "Epoch 44/50\n",
            "16000/16000 [==============================] - 8s 528us/sample - loss: 0.0675 - acc: 0.9758 - val_loss: 2.1654 - val_acc: 0.6712\n",
            "Epoch 45/50\n",
            "16000/16000 [==============================] - 8s 515us/sample - loss: 0.0344 - acc: 0.9873 - val_loss: 2.0656 - val_acc: 0.6767\n",
            "Epoch 46/50\n",
            "16000/16000 [==============================] - 9s 535us/sample - loss: 0.0191 - acc: 0.9951 - val_loss: 2.1503 - val_acc: 0.6782\n",
            "Epoch 47/50\n",
            "16000/16000 [==============================] - 8s 526us/sample - loss: 0.0155 - acc: 0.9962 - val_loss: 2.2890 - val_acc: 0.6767\n",
            "Epoch 48/50\n",
            "16000/16000 [==============================] - 8s 518us/sample - loss: 0.0132 - acc: 0.9966 - val_loss: 2.2558 - val_acc: 0.6779\n",
            "Epoch 49/50\n",
            "16000/16000 [==============================] - 8s 520us/sample - loss: 0.0695 - acc: 0.9761 - val_loss: 2.2545 - val_acc: 0.6776\n",
            "Epoch 50/50\n",
            "16000/16000 [==============================] - 8s 519us/sample - loss: 0.0277 - acc: 0.9910 - val_loss: 2.2371 - val_acc: 0.6753\n",
            "Training Complete\n"
          ],
          "name": "stdout"
        }
      ]
    },
    {
      "cell_type": "code",
      "metadata": {
        "id": "qxju4ItJKO8F",
        "colab_type": "code",
        "colab": {
          "base_uri": "https://localhost:8080/",
          "height": 607
        },
        "outputId": "edbacc2b-c569-4bc4-82a6-f3797e25c0e8"
      },
      "source": [
        "import matplotlib.image  as mpimg\n",
        "import matplotlib.pyplot as plt\n",
        "\n",
        "#-----------------------------------------------------------\n",
        "# Retrieve a list of list results on training and test data\n",
        "# sets for each training epoch\n",
        "#-----------------------------------------------------------\n",
        "acc=history.history['acc']\n",
        "val_acc=history.history['val_acc']\n",
        "loss=history.history['loss']\n",
        "val_loss=history.history['val_loss']\n",
        "\n",
        "epochs=range(len(acc)) # Get number of epochs\n",
        "\n",
        "#------------------------------------------------\n",
        "# Plot training and validation accuracy per epoch\n",
        "#------------------------------------------------\n",
        "plt.plot(epochs, acc, 'r')\n",
        "plt.plot(epochs, val_acc, 'b')\n",
        "plt.title('Training and validation accuracy')\n",
        "plt.xlabel(\"Epochs\")\n",
        "plt.ylabel(\"Accuracy\")\n",
        "plt.legend([\"Accuracy\", \"Validation Accuracy\"])\n",
        "\n",
        "plt.figure()\n",
        "\n",
        "#------------------------------------------------\n",
        "# Plot training and validation loss per epoch\n",
        "#------------------------------------------------\n",
        "plt.plot(epochs, loss, 'r')\n",
        "plt.plot(epochs, val_loss, 'b')\n",
        "plt.title('Training and validation loss')\n",
        "plt.xlabel(\"Epochs\")\n",
        "plt.ylabel(\"Loss\")\n",
        "plt.legend([\"Loss\", \"Validation Loss\"])\n",
        "\n",
        "plt.figure()\n",
        "\n",
        "\n",
        "# Expected Output\n",
        "# A chart where the validation loss does not increase sharply!"
      ],
      "execution_count": 41,
      "outputs": [
        {
          "output_type": "execute_result",
          "data": {
            "text/plain": [
              "<Figure size 432x288 with 0 Axes>"
            ]
          },
          "metadata": {
            "tags": []
          },
          "execution_count": 41
        },
        {
          "output_type": "display_data",
          "data": {
            "image/png": "[encoded data removed]",
            "text/plain": [
              "<Figure size 432x288 with 1 Axes>"
            ]
          },
          "metadata": {
            "tags": []
          }
        },
        {
          "output_type": "display_data",
          "data": {
            "image/png": "[encoded data removed]",
            "text/plain": [
              "<Figure size 432x288 with 1 Axes>"
            ]
          },
          "metadata": {
            "tags": []
          }
        },
        {
          "output_type": "display_data",
          "data": {
            "text/plain": [
              "<Figure size 432x288 with 0 Axes>"
            ]
          },
          "metadata": {
            "tags": []
          }
        }
      ]
    },
    {
      "cell_type": "code",
      "metadata": {
        "id": "v9gwHQysl2ej",
        "colab_type": "code",
        "colab": {
          "base_uri": "https://localhost:8080/",
          "height": 1000
        },
        "outputId": "4fdc8402-09b0-4e41-d543-086c7e4c082a"
      },
      "source": [
        "model2 = tf.keras.Sequential([\n",
        "    tf.keras.layers.Embedding(vocab_size+1, embedding_dim, input_length=max_length, weights=[embeddings_matrix], trainable=False),\n",
        "    tf.keras.layers.Conv1D(64, 5, activation=\"relu\"),\n",
        "    tf.keras.layers.Bidirectional(tf.keras.layers.LSTM(64)),\n",
        "    tf.keras.layers.Dense(6, activation=\"relu\"),\n",
        "    tf.keras.layers.Dense(1, activation='sigmoid')\n",
        "    # YOUR CODE HERE - experiment with combining different types, such as convolutions and LSTMs\n",
        "])\n",
        "model2.compile(loss='binary_crossentropy', optimizer='adam', metrics=['acc'])\n",
        "model2.summary()\n",
        "\n",
        "num_epochs = 50\n",
        "history2 = model2.fit(training_sequences, training_labels, epochs=num_epochs, validation_data=(test_sequences, test_labels), verbose=1)\n",
        "\n",
        "print(\"Training Complete\")\n"
      ],
      "execution_count": 42,
      "outputs": [
        {
          "output_type": "stream",
          "text": [
            "WARNING:tensorflow:From /usr/local/lib/python3.6/dist-packages/tensorflow_core/python/ops/init_ops.py:97: calling GlorotUniform.__init__ (from tensorflow.python.ops.init_ops) with dtype is deprecated and will be removed in a future version.\n",
            "Instructions for updating:\n",
            "Call initializer instance with the dtype argument instead of passing it to the constructor\n"
          ],
          "name": "stdout"
        },
        {
          "output_type": "stream",
          "text": [
            "WARNING:tensorflow:From /usr/local/lib/python3.6/dist-packages/tensorflow_core/python/ops/init_ops.py:97: calling GlorotUniform.__init__ (from tensorflow.python.ops.init_ops) with dtype is deprecated and will be removed in a future version.\n",
            "Instructions for updating:\n",
            "Call initializer instance with the dtype argument instead of passing it to the constructor\n"
          ],
          "name": "stderr"
        },
        {
          "output_type": "stream",
          "text": [
            "WARNING:tensorflow:From /usr/local/lib/python3.6/dist-packages/tensorflow_core/python/ops/init_ops.py:97: calling Orthogonal.__init__ (from tensorflow.python.ops.init_ops) with dtype is deprecated and will be removed in a future version.\n",
            "Instructions for updating:\n",
            "Call initializer instance with the dtype argument instead of passing it to the constructor\n"
          ],
          "name": "stdout"
        },
        {
          "output_type": "stream",
          "text": [
            "WARNING:tensorflow:From /usr/local/lib/python3.6/dist-packages/tensorflow_core/python/ops/init_ops.py:97: calling Orthogonal.__init__ (from tensorflow.python.ops.init_ops) with dtype is deprecated and will be removed in a future version.\n",
            "Instructions for updating:\n",
            "Call initializer instance with the dtype argument instead of passing it to the constructor\n"
          ],
          "name": "stderr"
        },
        {
          "output_type": "stream",
          "text": [
            "WARNING:tensorflow:From /usr/local/lib/python3.6/dist-packages/tensorflow_core/python/ops/init_ops.py:97: calling Zeros.__init__ (from tensorflow.python.ops.init_ops) with dtype is deprecated and will be removed in a future version.\n",
            "Instructions for updating:\n",
            "Call initializer instance with the dtype argument instead of passing it to the constructor\n"
          ],
          "name": "stdout"
        },
        {
          "output_type": "stream",
          "text": [
            "WARNING:tensorflow:From /usr/local/lib/python3.6/dist-packages/tensorflow_core/python/ops/init_ops.py:97: calling Zeros.__init__ (from tensorflow.python.ops.init_ops) with dtype is deprecated and will be removed in a future version.\n",
            "Instructions for updating:\n",
            "Call initializer instance with the dtype argument instead of passing it to the constructor\n"
          ],
          "name": "stderr"
        },
        {
          "output_type": "stream",
          "text": [
            "Model: \"sequential_4\"\n",
            "_________________________________________________________________\n",
            "Layer (type)                 Output Shape              Param #   \n",
            "=================================================================\n",
            "embedding_4 (Embedding)      (None, 16, 100)           13853700  \n",
            "_________________________________________________________________\n",
            "conv1d_4 (Conv1D)            (None, 12, 64)            32064     \n",
            "_________________________________________________________________\n",
            "bidirectional (Bidirectional (None, 128)               66048     \n",
            "_________________________________________________________________\n",
            "dense_8 (Dense)              (None, 6)                 774       \n",
            "_________________________________________________________________\n",
            "dense_9 (Dense)              (None, 1)                 7         \n",
            "=================================================================\n",
            "Total params: 13,952,593\n",
            "Trainable params: 98,893\n",
            "Non-trainable params: 13,853,700\n",
            "_________________________________________________________________\n",
            "Train on 16000 samples, validate on 144000 samples\n",
            "Epoch 1/50\n",
            "16000/16000 [==============================] - 62s 4ms/sample - loss: 0.6230 - acc: 0.6452 - val_loss: 0.5826 - val_acc: 0.6928\n",
            "Epoch 2/50\n",
            "16000/16000 [==============================] - 60s 4ms/sample - loss: 0.5542 - acc: 0.7133 - val_loss: 0.5693 - val_acc: 0.6994\n",
            "Epoch 3/50\n",
            "16000/16000 [==============================] - 60s 4ms/sample - loss: 0.5105 - acc: 0.7463 - val_loss: 0.5869 - val_acc: 0.6906\n",
            "Epoch 4/50\n",
            "16000/16000 [==============================] - 60s 4ms/sample - loss: 0.4628 - acc: 0.7764 - val_loss: 0.5728 - val_acc: 0.7044\n",
            "Epoch 5/50\n",
            "16000/16000 [==============================] - 60s 4ms/sample - loss: 0.4102 - acc: 0.8093 - val_loss: 0.6278 - val_acc: 0.7038\n",
            "Epoch 6/50\n",
            "16000/16000 [==============================] - 61s 4ms/sample - loss: 0.3585 - acc: 0.8372 - val_loss: 0.6678 - val_acc: 0.7036\n",
            "Epoch 7/50\n",
            "16000/16000 [==============================] - 60s 4ms/sample - loss: 0.3051 - acc: 0.8626 - val_loss: 0.7387 - val_acc: 0.6962\n",
            "Epoch 8/50\n",
            "16000/16000 [==============================] - 60s 4ms/sample - loss: 0.2544 - acc: 0.8901 - val_loss: 0.8471 - val_acc: 0.6923\n",
            "Epoch 9/50\n",
            "16000/16000 [==============================] - 60s 4ms/sample - loss: 0.2136 - acc: 0.9097 - val_loss: 0.9642 - val_acc: 0.6855\n",
            "Epoch 10/50\n",
            "16000/16000 [==============================] - 60s 4ms/sample - loss: 0.1812 - acc: 0.9229 - val_loss: 0.9826 - val_acc: 0.6858\n",
            "Epoch 11/50\n",
            "16000/16000 [==============================] - 60s 4ms/sample - loss: 0.1451 - acc: 0.9399 - val_loss: 1.1475 - val_acc: 0.6857\n",
            "Epoch 12/50\n",
            "16000/16000 [==============================] - 60s 4ms/sample - loss: 0.1170 - acc: 0.9533 - val_loss: 1.3474 - val_acc: 0.6790\n",
            "Epoch 13/50\n",
            "16000/16000 [==============================] - 60s 4ms/sample - loss: 0.1101 - acc: 0.9568 - val_loss: 1.3751 - val_acc: 0.6740\n",
            "Epoch 14/50\n",
            "16000/16000 [==============================] - 62s 4ms/sample - loss: 0.0856 - acc: 0.9676 - val_loss: 1.4503 - val_acc: 0.6739\n",
            "Epoch 15/50\n",
            "16000/16000 [==============================] - 61s 4ms/sample - loss: 0.0747 - acc: 0.9704 - val_loss: 1.5473 - val_acc: 0.6654\n",
            "Epoch 16/50\n",
            "16000/16000 [==============================] - 60s 4ms/sample - loss: 0.0643 - acc: 0.9758 - val_loss: 1.6951 - val_acc: 0.6802\n",
            "Epoch 17/50\n",
            "16000/16000 [==============================] - 60s 4ms/sample - loss: 0.0558 - acc: 0.9791 - val_loss: 1.7193 - val_acc: 0.6722\n",
            "Epoch 18/50\n",
            "16000/16000 [==============================] - 60s 4ms/sample - loss: 0.0515 - acc: 0.9811 - val_loss: 1.8036 - val_acc: 0.6756\n",
            "Epoch 19/50\n",
            "16000/16000 [==============================] - 60s 4ms/sample - loss: 0.0555 - acc: 0.9802 - val_loss: 1.8079 - val_acc: 0.6809\n",
            "Epoch 20/50\n",
            "16000/16000 [==============================] - 60s 4ms/sample - loss: 0.0420 - acc: 0.9843 - val_loss: 1.9756 - val_acc: 0.6800\n",
            "Epoch 21/50\n",
            "16000/16000 [==============================] - 60s 4ms/sample - loss: 0.0636 - acc: 0.9759 - val_loss: 1.7489 - val_acc: 0.6820\n",
            "Epoch 22/50\n",
            "16000/16000 [==============================] - 61s 4ms/sample - loss: 0.0306 - acc: 0.9891 - val_loss: 2.0415 - val_acc: 0.6763\n",
            "Epoch 23/50\n",
            "16000/16000 [==============================] - 60s 4ms/sample - loss: 0.0281 - acc: 0.9887 - val_loss: 2.0881 - val_acc: 0.6805\n",
            "Epoch 24/50\n",
            "16000/16000 [==============================] - 60s 4ms/sample - loss: 0.0497 - acc: 0.9818 - val_loss: 1.8516 - val_acc: 0.6807\n",
            "Epoch 25/50\n",
            "16000/16000 [==============================] - 60s 4ms/sample - loss: 0.0383 - acc: 0.9843 - val_loss: 1.9532 - val_acc: 0.6623\n",
            "Epoch 26/50\n",
            "16000/16000 [==============================] - 60s 4ms/sample - loss: 0.0295 - acc: 0.9889 - val_loss: 2.2716 - val_acc: 0.6727\n",
            "Epoch 27/50\n",
            "16000/16000 [==============================] - 60s 4ms/sample - loss: 0.0341 - acc: 0.9876 - val_loss: 2.0547 - val_acc: 0.6784\n",
            "Epoch 28/50\n",
            "16000/16000 [==============================] - 60s 4ms/sample - loss: 0.0423 - acc: 0.9845 - val_loss: 1.9897 - val_acc: 0.6816\n",
            "Epoch 29/50\n",
            "16000/16000 [==============================] - 61s 4ms/sample - loss: 0.0391 - acc: 0.9843 - val_loss: 2.0396 - val_acc: 0.6800\n",
            "Epoch 30/50\n",
            "16000/16000 [==============================] - 61s 4ms/sample - loss: 0.0307 - acc: 0.9885 - val_loss: 2.1324 - val_acc: 0.6813\n",
            "Epoch 31/50\n",
            "16000/16000 [==============================] - 60s 4ms/sample - loss: 0.0232 - acc: 0.9908 - val_loss: 2.2136 - val_acc: 0.6855\n",
            "Epoch 32/50\n",
            "16000/16000 [==============================] - 60s 4ms/sample - loss: 0.0344 - acc: 0.9871 - val_loss: 2.1079 - val_acc: 0.6868\n",
            "Epoch 33/50\n",
            "16000/16000 [==============================] - 60s 4ms/sample - loss: 0.0346 - acc: 0.9871 - val_loss: 2.2130 - val_acc: 0.6801\n",
            "Epoch 34/50\n",
            "16000/16000 [==============================] - 60s 4ms/sample - loss: 0.0254 - acc: 0.9908 - val_loss: 2.1726 - val_acc: 0.6846\n",
            "Epoch 35/50\n",
            "16000/16000 [==============================] - 60s 4ms/sample - loss: 0.0202 - acc: 0.9923 - val_loss: 2.2610 - val_acc: 0.6653\n",
            "Epoch 36/50\n",
            "16000/16000 [==============================] - 61s 4ms/sample - loss: 0.0361 - acc: 0.9862 - val_loss: 2.2039 - val_acc: 0.6815\n",
            "Epoch 37/50\n",
            "16000/16000 [==============================] - 61s 4ms/sample - loss: 0.0216 - acc: 0.9915 - val_loss: 2.3330 - val_acc: 0.6805\n",
            "Epoch 38/50\n",
            "16000/16000 [==============================] - 61s 4ms/sample - loss: 0.0248 - acc: 0.9904 - val_loss: 2.2098 - val_acc: 0.6778\n",
            "Epoch 39/50\n",
            "16000/16000 [==============================] - 60s 4ms/sample - loss: 0.0308 - acc: 0.9881 - val_loss: 2.1535 - val_acc: 0.6785\n",
            "Epoch 40/50\n",
            "16000/16000 [==============================] - 60s 4ms/sample - loss: 0.0294 - acc: 0.9881 - val_loss: 2.2460 - val_acc: 0.6823\n",
            "Epoch 41/50\n",
            "16000/16000 [==============================] - 60s 4ms/sample - loss: 0.0203 - acc: 0.9926 - val_loss: 2.2894 - val_acc: 0.6710\n",
            "Epoch 42/50\n",
            "16000/16000 [==============================] - 60s 4ms/sample - loss: 0.0232 - acc: 0.9916 - val_loss: 2.3112 - val_acc: 0.6743\n",
            "Epoch 43/50\n",
            "16000/16000 [==============================] - 60s 4ms/sample - loss: 0.0209 - acc: 0.9919 - val_loss: 2.3181 - val_acc: 0.6803\n",
            "Epoch 44/50\n",
            "16000/16000 [==============================] - 60s 4ms/sample - loss: 0.0159 - acc: 0.9931 - val_loss: 2.4922 - val_acc: 0.6855\n",
            "Epoch 45/50\n",
            "16000/16000 [==============================] - 60s 4ms/sample - loss: 0.0303 - acc: 0.9893 - val_loss: 2.2242 - val_acc: 0.6705\n",
            "Epoch 46/50\n",
            "16000/16000 [==============================] - 60s 4ms/sample - loss: 0.0255 - acc: 0.9903 - val_loss: 2.2759 - val_acc: 0.6797\n",
            "Epoch 47/50\n",
            "16000/16000 [==============================] - 60s 4ms/sample - loss: 0.0134 - acc: 0.9949 - val_loss: 2.4584 - val_acc: 0.6786\n",
            "Epoch 48/50\n",
            "16000/16000 [==============================] - 60s 4ms/sample - loss: 0.0234 - acc: 0.9908 - val_loss: 2.3405 - val_acc: 0.6733\n",
            "Epoch 49/50\n",
            "16000/16000 [==============================] - 60s 4ms/sample - loss: 0.0242 - acc: 0.9911 - val_loss: 2.4068 - val_acc: 0.6800\n",
            "Epoch 50/50\n",
            "16000/16000 [==============================] - 60s 4ms/sample - loss: 0.0226 - acc: 0.9910 - val_loss: 2.3944 - val_acc: 0.6786\n",
            "Training Complete\n"
          ],
          "name": "stdout"
        }
      ]
    },
    {
      "cell_type": "code",
      "metadata": {
        "id": "D3Ovg49Hp-bz",
        "colab_type": "code",
        "colab": {
          "base_uri": "https://localhost:8080/",
          "height": 607
        },
        "outputId": "0252edf4-53da-4427-bfa1-645759c34c0f"
      },
      "source": [
        "import matplotlib.image  as mpimg\n",
        "import matplotlib.pyplot as plt\n",
        "\n",
        "#-----------------------------------------------------------\n",
        "# Retrieve a list of list results on training and test data\n",
        "# sets for each training epoch\n",
        "#-----------------------------------------------------------\n",
        "acc2=history2.history['acc']\n",
        "val_acc2=history2.history['val_acc']\n",
        "loss2=history2.history['loss']\n",
        "val_loss2=history2.history['val_loss']\n",
        "\n",
        "epochs=range(len(acc2)) # Get number of epochs\n",
        "\n",
        "#------------------------------------------------\n",
        "# Plot training and validation accuracy per epoch\n",
        "#------------------------------------------------\n",
        "plt.plot(epochs, acc2, 'r', label='acc2')\n",
        "plt.plot(epochs, val_acc2, 'b', label='val_acc2')\n",
        "plt.plot(epochs, acc, 'yellow', label='acc1')\n",
        "plt.plot(epochs, val_acc, 'green', label='val_acc1')\n",
        "plt.title('Training and validation accuracy')\n",
        "plt.xlabel(\"Epochs\")\n",
        "plt.ylabel(\"Accuracy\")\n",
        "#plt.legend([\"Accuracy\", \"Validation Accuracy\"])\n",
        "plt.legend(loc='best')\n",
        "\n",
        "plt.figure()\n",
        "\n",
        "#------------------------------------------------\n",
        "# Plot training and validation loss per epoch\n",
        "#------------------------------------------------\n",
        "plt.plot(epochs, loss2, 'r', label='loss2')\n",
        "plt.plot(epochs, val_loss2, 'b', label='val_loss2')\n",
        "plt.plot(epochs, loss, 'yellow', label='loss1')\n",
        "plt.plot(epochs, val_loss, 'green', label='val_loss1')\n",
        "\n",
        "plt.title('Training and validation loss')\n",
        "plt.xlabel(\"Epochs\")\n",
        "plt.ylabel(\"Loss\")\n",
        "#plt.legend([\"Loss\", \"Validation Loss\"])\n",
        "plt.legend(loc='best')\n",
        "\n",
        "plt.figure()\n",
        "\n",
        "\n",
        "# Expected Output\n",
        "# A chart where the validation loss does not increase sharply!"
      ],
      "execution_count": 45,
      "outputs": [
        {
          "output_type": "execute_result",
          "data": {
            "text/plain": [
              "<Figure size 432x288 with 0 Axes>"
            ]
          },
          "metadata": {
            "tags": []
          },
          "execution_count": 45
        },
        {
          "output_type": "display_data",
          "data": {
            "image/png": "[encoded data removed]",
            "text/plain": [
              "<Figure size 432x288 with 1 Axes>"
            ]
          },
          "metadata": {
            "tags": []
          }
        },
        {
          "output_type": "display_data",
          "data": {
            "image/png": "[encoded data removed]",
            "text/plain": [
              "<Figure size 432x288 with 1 Axes>"
            ]
          },
          "metadata": {
            "tags": []
          }
        },
        {
          "output_type": "display_data",
          "data": {
            "text/plain": [
              "<Figure size 432x288 with 0 Axes>"
            ]
          },
          "metadata": {
            "tags": []
          }
        }
      ]
    },
    {
      "cell_type": "code",
      "metadata": {
        "id": "8YirgReguwGt",
        "colab_type": "code",
        "colab": {}
      },
      "source": [
        ""
      ],
      "execution_count": 0,
      "outputs": []
    }
  ]
}