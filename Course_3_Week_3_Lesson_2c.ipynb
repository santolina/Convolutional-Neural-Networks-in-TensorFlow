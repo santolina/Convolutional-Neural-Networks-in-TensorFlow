{
  "nbformat": 4,
  "nbformat_minor": 0,
  "metadata": {
    "colab": {
      "name": "Course 3 - Week 3 - Lesson 2c.ipynb のコピー",
      "provenance": [],
      "collapsed_sections": [],
      "include_colab_link": true
    },
    "kernelspec": {
      "name": "python3",
      "display_name": "Python 3"
    },
    "accelerator": "GPU"
  },
  "cells": [
    {
      "cell_type": "markdown",
      "metadata": {
        "id": "view-in-github",
        "colab_type": "text"
      },
      "source": [
        "<a href=\"https://colab.research.google.com/github/santolina/Convolutional-Neural-Networks-in-TensorFlow/blob/master/Course_3_Week_3_Lesson_2c.ipynb\" target=\"_parent\"><img src=\"https://colab.research.google.com/assets/colab-badge.svg\" alt=\"Open In Colab\"/></a>"
      ]
    },
    {
      "cell_type": "code",
      "metadata": {
        "id": "jGwXGIXvFhXW",
        "colab_type": "code",
        "colab": {
          "base_uri": "https://localhost:8080/",
          "height": 1000
        },
        "outputId": "128f7b9d-1c4e-4b7c-a67a-32348138de02"
      },
      "source": [
        "import json\n",
        "import tensorflow as tf\n",
        "\n",
        "from tensorflow.keras.preprocessing.text import Tokenizer\n",
        "from tensorflow.keras.preprocessing.sequence import pad_sequences\n",
        "\n",
        "!wget --no-check-certificate \\\n",
        "    https://storage.googleapis.com/laurencemoroney-blog.appspot.com/sarcasm.json \\\n",
        "    -O /tmp/sarcasm.json\n",
        "\n",
        "vocab_size = 1000\n",
        "embedding_dim = 16\n",
        "max_length = 120\n",
        "trunc_type='post'\n",
        "padding_type='post'\n",
        "oov_tok = \"<OOV>\"\n",
        "training_size = 20000\n",
        "\n",
        "\n",
        "with open(\"/tmp/sarcasm.json\", 'r') as f:\n",
        "    datastore = json.load(f)\n",
        "\n",
        "\n",
        "sentences = []\n",
        "labels = []\n",
        "urls = []\n",
        "for item in datastore:\n",
        "    sentences.append(item['headline'])\n",
        "    labels.append(item['is_sarcastic'])\n",
        "\n",
        "training_sentences = sentences[0:training_size]\n",
        "testing_sentences = sentences[training_size:]\n",
        "training_labels = labels[0:training_size]\n",
        "testing_labels = labels[training_size:]\n",
        "\n",
        "tokenizer = Tokenizer(num_words=vocab_size, oov_token=oov_tok)\n",
        "tokenizer.fit_on_texts(training_sentences)\n",
        "\n",
        "word_index = tokenizer.word_index\n",
        "\n",
        "training_sequences = tokenizer.texts_to_sequences(training_sentences)\n",
        "training_padded = pad_sequences(training_sequences, maxlen=max_length, padding=padding_type, truncating=trunc_type)\n",
        "\n",
        "testing_sequences = tokenizer.texts_to_sequences(testing_sentences)\n",
        "testing_padded = pad_sequences(testing_sequences, maxlen=max_length, padding=padding_type, truncating=trunc_type)\n",
        "\n",
        "model = tf.keras.Sequential([\n",
        "    tf.keras.layers.Embedding(vocab_size, embedding_dim, input_length=max_length),\n",
        "    tf.keras.layers.Conv1D(128, 5, activation='relu'),\n",
        "    tf.keras.layers.GlobalMaxPooling1D(),\n",
        "    tf.keras.layers.Dense(24, activation='relu'),\n",
        "    tf.keras.layers.Dense(1, activation='sigmoid')\n",
        "])\n",
        "model.compile(loss='binary_crossentropy',optimizer='adam',metrics=['accuracy'])\n",
        "model.summary()\n",
        "\n",
        "num_epochs = 50\n",
        "history = model.fit(training_padded, training_labels, epochs=num_epochs, validation_data=(testing_padded, testing_labels), verbose=1)\n",
        "\n"
      ],
      "execution_count": 1,
      "outputs": [
        {
          "output_type": "display_data",
          "data": {
            "text/html": [
              "<p style=\"color: red;\">\n",
              "The default version of TensorFlow in Colab will soon switch to TensorFlow 2.x.<br>\n",
              "We recommend you <a href=\"https://www.tensorflow.org/guide/migrate\" target=\"_blank\">upgrade</a> now \n",
              "or ensure your notebook will continue to use TensorFlow 1.x via the <code>%tensorflow_version 1.x</code> magic:\n",
              "<a href=\"https://colab.research.google.com/notebooks/tensorflow_version.ipynb\" target=\"_blank\">more info</a>.</p>\n"
            ],
            "text/plain": [
              "<IPython.core.display.HTML object>"
            ]
          },
          "metadata": {
            "tags": []
          }
        },
        {
          "output_type": "stream",
          "text": [
            "--2019-11-17 02:41:19--  https://storage.googleapis.com/laurencemoroney-blog.appspot.com/sarcasm.json\n",
            "Resolving storage.googleapis.com (storage.googleapis.com)... 108.177.119.128, 2a00:1450:4013:c08::80\n",
            "Connecting to storage.googleapis.com (storage.googleapis.com)|108.177.119.128|:443... connected.\n",
            "HTTP request sent, awaiting response... 200 OK\n",
            "Length: 5643545 (5.4M) [application/json]\n",
            "Saving to: ‘/tmp/sarcasm.json’\n",
            "\n",
            "\r/tmp/sarcasm.json     0%[                    ]       0  --.-KB/s               \r/tmp/sarcasm.json   100%[===================>]   5.38M  --.-KB/s    in 0.04s   \n",
            "\n",
            "2019-11-17 02:41:19 (137 MB/s) - ‘/tmp/sarcasm.json’ saved [5643545/5643545]\n",
            "\n",
            "WARNING:tensorflow:From /usr/local/lib/python3.6/dist-packages/tensorflow_core/python/keras/initializers.py:119: calling RandomUniform.__init__ (from tensorflow.python.ops.init_ops) with dtype is deprecated and will be removed in a future version.\n",
            "Instructions for updating:\n",
            "Call initializer instance with the dtype argument instead of passing it to the constructor\n",
            "WARNING:tensorflow:From /usr/local/lib/python3.6/dist-packages/tensorflow_core/python/ops/resource_variable_ops.py:1630: calling BaseResourceVariable.__init__ (from tensorflow.python.ops.resource_variable_ops) with constraint is deprecated and will be removed in a future version.\n",
            "Instructions for updating:\n",
            "If using Keras pass *_constraint arguments to layers.\n",
            "WARNING:tensorflow:From /usr/local/lib/python3.6/dist-packages/tensorflow_core/python/ops/nn_impl.py:183: where (from tensorflow.python.ops.array_ops) is deprecated and will be removed in a future version.\n",
            "Instructions for updating:\n",
            "Use tf.where in 2.0, which has the same broadcast rule as np.where\n",
            "Model: \"sequential\"\n",
            "_________________________________________________________________\n",
            "Layer (type)                 Output Shape              Param #   \n",
            "=================================================================\n",
            "embedding (Embedding)        (None, 120, 16)           16000     \n",
            "_________________________________________________________________\n",
            "conv1d (Conv1D)              (None, 116, 128)          10368     \n",
            "_________________________________________________________________\n",
            "global_max_pooling1d (Global (None, 128)               0         \n",
            "_________________________________________________________________\n",
            "dense (Dense)                (None, 24)                3096      \n",
            "_________________________________________________________________\n",
            "dense_1 (Dense)              (None, 1)                 25        \n",
            "=================================================================\n",
            "Total params: 29,489\n",
            "Trainable params: 29,489\n",
            "Non-trainable params: 0\n",
            "_________________________________________________________________\n",
            "Train on 20000 samples, validate on 6709 samples\n",
            "Epoch 1/50\n",
            "20000/20000 [==============================] - 6s 321us/sample - loss: 0.4820 - acc: 0.7526 - val_loss: 0.4031 - val_acc: 0.8188\n",
            "Epoch 2/50\n",
            "20000/20000 [==============================] - 3s 128us/sample - loss: 0.3589 - acc: 0.8385 - val_loss: 0.3935 - val_acc: 0.8231\n",
            "Epoch 3/50\n",
            "20000/20000 [==============================] - 3s 133us/sample - loss: 0.3172 - acc: 0.8597 - val_loss: 0.3925 - val_acc: 0.8271\n",
            "Epoch 4/50\n",
            "20000/20000 [==============================] - 3s 128us/sample - loss: 0.2824 - acc: 0.8766 - val_loss: 0.4083 - val_acc: 0.8255\n",
            "Epoch 5/50\n",
            "20000/20000 [==============================] - 3s 133us/sample - loss: 0.2501 - acc: 0.8950 - val_loss: 0.4278 - val_acc: 0.8213\n",
            "Epoch 6/50\n",
            "20000/20000 [==============================] - 3s 132us/sample - loss: 0.2158 - acc: 0.9137 - val_loss: 0.4806 - val_acc: 0.8079\n",
            "Epoch 7/50\n",
            "20000/20000 [==============================] - 3s 133us/sample - loss: 0.1826 - acc: 0.9295 - val_loss: 0.5219 - val_acc: 0.8137\n",
            "Epoch 8/50\n",
            "20000/20000 [==============================] - 3s 131us/sample - loss: 0.1531 - acc: 0.9431 - val_loss: 0.5785 - val_acc: 0.8071\n",
            "Epoch 9/50\n",
            "20000/20000 [==============================] - 3s 132us/sample - loss: 0.1254 - acc: 0.9546 - val_loss: 0.6472 - val_acc: 0.8050\n",
            "Epoch 10/50\n",
            "20000/20000 [==============================] - 3s 129us/sample - loss: 0.1055 - acc: 0.9615 - val_loss: 0.7376 - val_acc: 0.7945\n",
            "Epoch 11/50\n",
            "20000/20000 [==============================] - 3s 133us/sample - loss: 0.0862 - acc: 0.9689 - val_loss: 0.7875 - val_acc: 0.7964\n",
            "Epoch 12/50\n",
            "20000/20000 [==============================] - 3s 129us/sample - loss: 0.0748 - acc: 0.9736 - val_loss: 0.8492 - val_acc: 0.7995\n",
            "Epoch 13/50\n",
            "20000/20000 [==============================] - 3s 129us/sample - loss: 0.0630 - acc: 0.9783 - val_loss: 0.9483 - val_acc: 0.7952\n",
            "Epoch 14/50\n",
            "20000/20000 [==============================] - 3s 129us/sample - loss: 0.0570 - acc: 0.9799 - val_loss: 1.0484 - val_acc: 0.7983\n",
            "Epoch 15/50\n",
            "20000/20000 [==============================] - 3s 129us/sample - loss: 0.0509 - acc: 0.9826 - val_loss: 1.1243 - val_acc: 0.7910\n",
            "Epoch 16/50\n",
            "20000/20000 [==============================] - 3s 129us/sample - loss: 0.0467 - acc: 0.9819 - val_loss: 1.1365 - val_acc: 0.7939\n",
            "Epoch 17/50\n",
            "20000/20000 [==============================] - 3s 126us/sample - loss: 0.0438 - acc: 0.9840 - val_loss: 1.2540 - val_acc: 0.7934\n",
            "Epoch 18/50\n",
            "20000/20000 [==============================] - 3s 129us/sample - loss: 0.0399 - acc: 0.9859 - val_loss: 1.3102 - val_acc: 0.7967\n",
            "Epoch 19/50\n",
            "20000/20000 [==============================] - 3s 131us/sample - loss: 0.0393 - acc: 0.9856 - val_loss: 1.3409 - val_acc: 0.7955\n",
            "Epoch 20/50\n",
            "20000/20000 [==============================] - 3s 130us/sample - loss: 0.0349 - acc: 0.9872 - val_loss: 1.5065 - val_acc: 0.7949\n",
            "Epoch 21/50\n",
            "20000/20000 [==============================] - 3s 128us/sample - loss: 0.0349 - acc: 0.9869 - val_loss: 1.4388 - val_acc: 0.7962\n",
            "Epoch 22/50\n",
            "20000/20000 [==============================] - 3s 129us/sample - loss: 0.0338 - acc: 0.9870 - val_loss: 1.5689 - val_acc: 0.7913\n",
            "Epoch 23/50\n",
            "20000/20000 [==============================] - 3s 130us/sample - loss: 0.0310 - acc: 0.9883 - val_loss: 1.5442 - val_acc: 0.7910\n",
            "Epoch 24/50\n",
            "20000/20000 [==============================] - 3s 130us/sample - loss: 0.0298 - acc: 0.9883 - val_loss: 1.6553 - val_acc: 0.7931\n",
            "Epoch 25/50\n",
            "20000/20000 [==============================] - 3s 128us/sample - loss: 0.0315 - acc: 0.9877 - val_loss: 1.6920 - val_acc: 0.7903\n",
            "Epoch 26/50\n",
            "20000/20000 [==============================] - 3s 128us/sample - loss: 0.0323 - acc: 0.9876 - val_loss: 1.7745 - val_acc: 0.7889\n",
            "Epoch 27/50\n",
            "20000/20000 [==============================] - 3s 129us/sample - loss: 0.0256 - acc: 0.9901 - val_loss: 1.7928 - val_acc: 0.7900\n",
            "Epoch 28/50\n",
            "20000/20000 [==============================] - 3s 126us/sample - loss: 0.0257 - acc: 0.9894 - val_loss: 1.7703 - val_acc: 0.7877\n",
            "Epoch 29/50\n",
            "20000/20000 [==============================] - 3s 127us/sample - loss: 0.0261 - acc: 0.9894 - val_loss: 1.8592 - val_acc: 0.7872\n",
            "Epoch 30/50\n",
            "20000/20000 [==============================] - 3s 127us/sample - loss: 0.0271 - acc: 0.9884 - val_loss: 1.9511 - val_acc: 0.7903\n",
            "Epoch 31/50\n",
            "20000/20000 [==============================] - 3s 128us/sample - loss: 0.0260 - acc: 0.9895 - val_loss: 1.9268 - val_acc: 0.7910\n",
            "Epoch 32/50\n",
            "20000/20000 [==============================] - 3s 130us/sample - loss: 0.0226 - acc: 0.9913 - val_loss: 2.0327 - val_acc: 0.7898\n",
            "Epoch 33/50\n",
            "20000/20000 [==============================] - 3s 126us/sample - loss: 0.0253 - acc: 0.9898 - val_loss: 2.0554 - val_acc: 0.7860\n",
            "Epoch 34/50\n",
            "20000/20000 [==============================] - 3s 126us/sample - loss: 0.0250 - acc: 0.9898 - val_loss: 2.0743 - val_acc: 0.7891\n",
            "Epoch 35/50\n",
            "20000/20000 [==============================] - 3s 128us/sample - loss: 0.0263 - acc: 0.9889 - val_loss: 2.0953 - val_acc: 0.7898\n",
            "Epoch 36/50\n",
            "20000/20000 [==============================] - 3s 127us/sample - loss: 0.0250 - acc: 0.9901 - val_loss: 2.1106 - val_acc: 0.7931\n",
            "Epoch 37/50\n",
            "20000/20000 [==============================] - 3s 127us/sample - loss: 0.0240 - acc: 0.9898 - val_loss: 2.0066 - val_acc: 0.7897\n",
            "Epoch 38/50\n",
            "20000/20000 [==============================] - 3s 125us/sample - loss: 0.0195 - acc: 0.9920 - val_loss: 2.1478 - val_acc: 0.7886\n",
            "Epoch 39/50\n",
            "20000/20000 [==============================] - 3s 128us/sample - loss: 0.0214 - acc: 0.9908 - val_loss: 2.1913 - val_acc: 0.7919\n",
            "Epoch 40/50\n",
            "20000/20000 [==============================] - 3s 126us/sample - loss: 0.0213 - acc: 0.9913 - val_loss: 2.2141 - val_acc: 0.7858\n",
            "Epoch 41/50\n",
            "20000/20000 [==============================] - 3s 131us/sample - loss: 0.0253 - acc: 0.9897 - val_loss: 2.3141 - val_acc: 0.7870\n",
            "Epoch 42/50\n",
            "20000/20000 [==============================] - 3s 127us/sample - loss: 0.0279 - acc: 0.9888 - val_loss: 2.1893 - val_acc: 0.7904\n",
            "Epoch 43/50\n",
            "20000/20000 [==============================] - 3s 127us/sample - loss: 0.0218 - acc: 0.9912 - val_loss: 2.2156 - val_acc: 0.7924\n",
            "Epoch 44/50\n",
            "20000/20000 [==============================] - 3s 131us/sample - loss: 0.0188 - acc: 0.9918 - val_loss: 2.2792 - val_acc: 0.7891\n",
            "Epoch 45/50\n",
            "20000/20000 [==============================] - 2s 123us/sample - loss: 0.0185 - acc: 0.9924 - val_loss: 2.3887 - val_acc: 0.7803\n",
            "Epoch 46/50\n",
            "20000/20000 [==============================] - 3s 125us/sample - loss: 0.0231 - acc: 0.9906 - val_loss: 2.1975 - val_acc: 0.7892\n",
            "Epoch 47/50\n",
            "20000/20000 [==============================] - 3s 125us/sample - loss: 0.0194 - acc: 0.9916 - val_loss: 2.3743 - val_acc: 0.7888\n",
            "Epoch 48/50\n",
            "20000/20000 [==============================] - 3s 127us/sample - loss: 0.0231 - acc: 0.9901 - val_loss: 2.4390 - val_acc: 0.7921\n",
            "Epoch 49/50\n",
            "20000/20000 [==============================] - 3s 126us/sample - loss: 0.0250 - acc: 0.9898 - val_loss: 2.2742 - val_acc: 0.7958\n",
            "Epoch 50/50\n",
            "20000/20000 [==============================] - 3s 126us/sample - loss: 0.0209 - acc: 0.9912 - val_loss: 2.4078 - val_acc: 0.7907\n"
          ],
          "name": "stdout"
        }
      ]
    },
    {
      "cell_type": "code",
      "metadata": {
        "id": "g9DC6dmLF8DC",
        "colab_type": "code",
        "colab": {
          "base_uri": "https://localhost:8080/",
          "height": 542
        },
        "outputId": "e89fa2d3-fad6-4820-a654-c19984cf32c5"
      },
      "source": [
        "import matplotlib.pyplot as plt\n",
        "\n",
        "\n",
        "def plot_graphs(history, string):\n",
        "  plt.plot(history.history[string])\n",
        "  plt.plot(history.history['val_'+string])\n",
        "  plt.xlabel(\"Epochs\")\n",
        "  plt.ylabel(string)\n",
        "  plt.legend([string, 'val_'+string])\n",
        "  plt.show()\n",
        "\n",
        "plot_graphs(history, 'acc')\n",
        "plot_graphs(history, 'loss')"
      ],
      "execution_count": 2,
      "outputs": [
        {
          "output_type": "display_data",
          "data": {
            "image/png": "[encoded data removed]",
            "text/plain": [
              "<Figure size 432x288 with 1 Axes>"
            ]
          },
          "metadata": {
            "tags": []
          }
        },
        {
          "output_type": "display_data",
          "data": {
            "image/png": "[encoded data removed]",
            "text/plain": [
              "<Figure size 432x288 with 1 Axes>"
            ]
          },
          "metadata": {
            "tags": []
          }
        }
      ]
    },
    {
      "cell_type": "code",
      "metadata": {
        "id": "7ZEZIUppGhdi",
        "colab_type": "code",
        "colab": {}
      },
      "source": [
        "model.save(\"test.h5\")"
      ],
      "execution_count": 0,
      "outputs": []
    },
    {
      "cell_type": "code",
      "metadata": {
        "id": "-u1XYmNOPFv4",
        "colab_type": "code",
        "colab": {}
      },
      "source": [
        ""
      ],
      "execution_count": 0,
      "outputs": []
    }
  ]
}