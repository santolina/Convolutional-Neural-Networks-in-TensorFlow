{
  "nbformat": 4,
  "nbformat_minor": 0,
  "metadata": {
    "colab": {
      "name": "Course 4 - Week 2 - Exercise - Question",
      "provenance": [],
      "collapsed_sections": [],
      "include_colab_link": true
    },
    "kernelspec": {
      "name": "python3",
      "display_name": "Python 3"
    },
    "accelerator": "GPU"
  },
  "cells": [
    {
      "cell_type": "markdown",
      "metadata": {
        "id": "view-in-github",
        "colab_type": "text"
      },
      "source": [
        "<a href=\"https://colab.research.google.com/github/santolina/Convolutional-Neural-Networks-in-TensorFlow/blob/master/Course_4_Week_2_Exercise_Question.ipynb\" target=\"_parent\"><img src=\"https://colab.research.google.com/assets/colab-badge.svg\" alt=\"Open In Colab\"/></a>"
      ]
    },
    {
      "cell_type": "code",
      "metadata": {
        "id": "gnwiOnGyW5JK",
        "colab_type": "code",
        "colab": {
          "base_uri": "https://localhost:8080/",
          "height": 267
        },
        "outputId": "015ac7df-5ae6-4e9b-b405-04440fa05621"
      },
      "source": [
        "import csv\n",
        "import tensorflow as tf\n",
        "import numpy as np\n",
        "from tensorflow.keras.preprocessing.text import Tokenizer\n",
        "from tensorflow.keras.preprocessing.sequence import pad_sequences\n",
        "\n",
        "!wget --no-check-certificate \\\n",
        "    https://storage.googleapis.com/laurencemoroney-blog.appspot.com/bbc-text.csv \\\n",
        "    -O /tmp/bbc-text.csv"
      ],
      "execution_count": 1,
      "outputs": [
        {
          "output_type": "display_data",
          "data": {
            "text/html": [
              "<p style=\"color: red;\">\n",
              "The default version of TensorFlow in Colab will soon switch to TensorFlow 2.x.<br>\n",
              "We recommend you <a href=\"https://www.tensorflow.org/guide/migrate\" target=\"_blank\">upgrade</a> now \n",
              "or ensure your notebook will continue to use TensorFlow 1.x via the <code>%tensorflow_version 1.x</code> magic:\n",
              "<a href=\"https://colab.research.google.com/notebooks/tensorflow_version.ipynb\" target=\"_blank\">more info</a>.</p>\n"
            ],
            "text/plain": [
              "<IPython.core.display.HTML object>"
            ]
          },
          "metadata": {
            "tags": []
          }
        },
        {
          "output_type": "stream",
          "text": [
            "--2019-11-14 15:21:13--  https://storage.googleapis.com/laurencemoroney-blog.appspot.com/bbc-text.csv\n",
            "Resolving storage.googleapis.com (storage.googleapis.com)... 108.177.125.128, 2404:6800:4008:c00::80\n",
            "Connecting to storage.googleapis.com (storage.googleapis.com)|108.177.125.128|:443... connected.\n",
            "HTTP request sent, awaiting response... 200 OK\n",
            "Length: 5057493 (4.8M) [application/octet-stream]\n",
            "Saving to: ‘/tmp/bbc-text.csv’\n",
            "\n",
            "\r/tmp/bbc-text.csv     0%[                    ]       0  --.-KB/s               \r/tmp/bbc-text.csv   100%[===================>]   4.82M  --.-KB/s    in 0.04s   \n",
            "\n",
            "2019-11-14 15:21:13 (137 MB/s) - ‘/tmp/bbc-text.csv’ saved [5057493/5057493]\n",
            "\n"
          ],
          "name": "stdout"
        }
      ]
    },
    {
      "cell_type": "code",
      "metadata": {
        "id": "EYo6A4v5ZABQ",
        "colab_type": "code",
        "colab": {}
      },
      "source": [
        "vocab_size = 1000 # YOUR CODE HERE\n",
        "embedding_dim = 16 # YOUR CODE HERE\n",
        "max_length = 120 # YOUR CODE HERE\n",
        "trunc_type = 'post' # YOUR CODE HERE\n",
        "padding_type = 'post' # YOUR CODE HERE\n",
        "oov_tok = '<OOV>' # YOUR CODE HERE\n",
        "training_portion = .8"
      ],
      "execution_count": 0,
      "outputs": []
    },
    {
      "cell_type": "code",
      "metadata": {
        "id": "iU1qq3_SZBx_",
        "colab_type": "code",
        "colab": {
          "base_uri": "https://localhost:8080/",
          "height": 34
        },
        "outputId": "9e8ef2bd-2669-460b-c8fe-b48336db4938"
      },
      "source": [
        "sentences = []\n",
        "labels = []\n",
        "stopwords = [ \"a\", \"about\", \"above\", \"after\", \"again\", \"against\", \"all\", \"am\", \"an\", \"and\", \"any\", \"are\", \"as\", \"at\", \"be\", \"because\", \"been\", \"before\", \"being\", \"below\", \"between\", \"both\", \"but\", \"by\", \"could\", \"did\", \"do\", \"does\", \"doing\", \"down\", \"during\", \"each\", \"few\", \"for\", \"from\", \"further\", \"had\", \"has\", \"have\", \"having\", \"he\", \"he'd\", \"he'll\", \"he's\", \"her\", \"here\", \"here's\", \"hers\", \"herself\", \"him\", \"himself\", \"his\", \"how\", \"how's\", \"i\", \"i'd\", \"i'll\", \"i'm\", \"i've\", \"if\", \"in\", \"into\", \"is\", \"it\", \"it's\", \"its\", \"itself\", \"let's\", \"me\", \"more\", \"most\", \"my\", \"myself\", \"nor\", \"of\", \"on\", \"once\", \"only\", \"or\", \"other\", \"ought\", \"our\", \"ours\", \"ourselves\", \"out\", \"over\", \"own\", \"same\", \"she\", \"she'd\", \"she'll\", \"she's\", \"should\", \"so\", \"some\", \"such\", \"than\", \"that\", \"that's\", \"the\", \"their\", \"theirs\", \"them\", \"themselves\", \"then\", \"there\", \"there's\", \"these\", \"they\", \"they'd\", \"they'll\", \"they're\", \"they've\", \"this\", \"those\", \"through\", \"to\", \"too\", \"under\", \"until\", \"up\", \"very\", \"was\", \"we\", \"we'd\", \"we'll\", \"we're\", \"we've\", \"were\", \"what\", \"what's\", \"when\", \"when's\", \"where\", \"where's\", \"which\", \"while\", \"who\", \"who's\", \"whom\", \"why\", \"why's\", \"with\", \"would\", \"you\", \"you'd\", \"you'll\", \"you're\", \"you've\", \"your\", \"yours\", \"yourself\", \"yourselves\" ]\n",
        "print(len(stopwords))\n",
        "# Expected Output\n",
        "# 153"
      ],
      "execution_count": 27,
      "outputs": [
        {
          "output_type": "stream",
          "text": [
            "153\n"
          ],
          "name": "stdout"
        }
      ]
    },
    {
      "cell_type": "code",
      "metadata": {
        "id": "eutB2xMiZD0e",
        "colab_type": "code",
        "colab": {
          "base_uri": "https://localhost:8080/",
          "height": 105
        },
        "outputId": "b66356f4-6fd3-43c9-eaaf-8d411519be4e"
      },
      "source": [
        "with open(\"/tmp/bbc-text.csv\", 'r') as csvfile:\n",
        "    # YOUR CODE HERE\n",
        "    idx = 0\n",
        "    for line in csvfile:\n",
        "      #print(line)\n",
        "      if idx > 0:\n",
        "        items = line.split(',')\n",
        "        labels.append(items[0])\n",
        "\n",
        "        for word in stopwords:\n",
        "          token = \" \" + word + \" \"\n",
        "          items[1] = items[1].replace(token, \" \")\n",
        "        sentences.append(items[1])\n",
        "      idx += 1\n",
        "    \n",
        "print(len(labels))\n",
        "print(len(sentences))\n",
        "print(sentences[0])\n",
        "# Expected Output\n",
        "# 2225\n",
        "# 2225\n",
        "# tv future hands viewers home theatre systems  plasma high-definition tvs  digital video recorders moving living room  way people watch tv will radically different five years  time.  according expert panel gathered annual consumer electronics show las vegas discuss new technologies will impact one favourite pastimes. us leading trend  programmes content will delivered viewers via home networks  cable  satellite  telecoms companies  broadband service providers front rooms portable devices.  one talked-about technologies ces digital personal video recorders (dvr pvr). set-top boxes  like us s tivo uk s sky+ system  allow people record  store  play  pause forward wind tv programmes want.  essentially  technology allows much personalised tv. also built-in high-definition tv sets  big business japan us  slower take off europe lack high-definition programming. not can people forward wind adverts  can also forget abiding network channel schedules  putting together a-la-carte entertainment. us networks cable satellite companies worried means terms advertising revenues well  brand identity  viewer loyalty channels. although us leads technology moment  also concern raised europe  particularly growing uptake services like sky+.  happens today  will see nine months years  time uk   adam hume  bbc broadcast s futurologist told bbc news website. likes bbc  no issues lost advertising revenue yet. pressing issue moment commercial uk broadcasters  brand loyalty important everyone.  will talking content brands rather network brands   said tim hanlon  brand communications firm starcom mediavest.  reality broadband connections  anybody can producer content.  added:  challenge now hard promote programme much choice.   means  said stacey jolna  senior vice president tv guide tv group  way people find content want watch simplified tv viewers. means networks  us terms  channels take leaf google s book search engine future  instead scheduler help people find want watch. kind channel model might work younger ipod generation used taking control gadgets play them. might not suit everyone  panel recognised. older generations comfortable familiar schedules channel brands know getting. perhaps not want much choice put hands  mr hanlon suggested.  end  kids just diapers pushing buttons already - everything possible available   said mr hanlon.  ultimately  consumer will tell market want.   50 000 new gadgets technologies showcased ces  many enhancing tv-watching experience. high-definition tv sets everywhere many new models lcd (liquid crystal display) tvs launched dvr capability built  instead external boxes. one example launched show humax s 26-inch lcd tv 80-hour tivo dvr dvd recorder. one us s biggest satellite tv companies  directtv  even launched branded dvr show 100-hours recording capability  instant replay  search function. set can pause rewind tv 90 hours. microsoft chief bill gates announced pre-show keynote speech partnership tivo  called tivotogo  means people can play recorded programmes windows pcs mobile devices. reflect increasing trend freeing multimedia people can watch want  want."
      ],
      "execution_count": 28,
      "outputs": [
        {
          "output_type": "stream",
          "text": [
            "2225\n",
            "2225\n",
            "tv future hands viewers home theatre systems  plasma high-definition tvs  digital video recorders moving living room  way people watch tv will radically different five years  time.  according expert panel gathered annual consumer electronics show las vegas discuss new technologies will impact one favourite pastimes. us leading trend  programmes content will delivered viewers via home networks  cable  satellite  telecoms companies  broadband service providers front rooms portable devices.  one talked-about technologies ces digital personal video recorders (dvr pvr). set-top boxes  like us s tivo uk s sky+ system  allow people record  store  play  pause forward wind tv programmes want.  essentially  technology allows much personalised tv. also built-in high-definition tv sets  big business japan us  slower take off europe lack high-definition programming. not can people forward wind adverts  can also forget abiding network channel schedules  putting together a-la-carte entertainment. us networks cable satellite companies worried means terms advertising revenues well  brand identity  viewer loyalty channels. although us leads technology moment  also concern raised europe  particularly growing uptake services like sky+.  happens today  will see nine months years  time uk   adam hume  bbc broadcast s futurologist told bbc news website. likes bbc  no issues lost advertising revenue yet. pressing issue moment commercial uk broadcasters  brand loyalty important everyone.  will talking content brands rather network brands   said tim hanlon  brand communications firm starcom mediavest.  reality broadband connections  anybody can producer content.  added:  challenge now hard promote programme much choice.   means  said stacey jolna  senior vice president tv guide tv group  way people find content want watch simplified tv viewers. means networks  us terms  channels take leaf google s book search engine future  instead scheduler help people find want watch. kind channel model might work younger ipod generation used taking control gadgets play them. might not suit everyone  panel recognised. older generations comfortable familiar schedules channel brands know getting. perhaps not want much choice put hands  mr hanlon suggested.  end  kids just diapers pushing buttons already - everything possible available   said mr hanlon.  ultimately  consumer will tell market want.   50 000 new gadgets technologies showcased ces  many enhancing tv-watching experience. high-definition tv sets everywhere many new models lcd (liquid crystal display) tvs launched dvr capability built  instead external boxes. one example launched show humax s 26-inch lcd tv 80-hour tivo dvr dvd recorder. one us s biggest satellite tv companies  directtv  even launched branded dvr show 100-hours recording capability  instant replay  search function. set can pause rewind tv 90 hours. microsoft chief bill gates announced pre-show keynote speech partnership tivo  called tivotogo  means people can play recorded programmes windows pcs mobile devices. reflect increasing trend freeing multimedia people can watch want  want.\n",
            "\n"
          ],
          "name": "stdout"
        }
      ]
    },
    {
      "cell_type": "code",
      "metadata": {
        "id": "XfdaWh06ZGe3",
        "colab_type": "code",
        "colab": {
          "base_uri": "https://localhost:8080/",
          "height": 102
        },
        "outputId": "24059167-ef25-4bdc-c0d1-2aeb2ba9b459"
      },
      "source": [
        "train_size = int(len(sentences) * training_portion) # YOUR CODE HERE\n",
        "\n",
        "train_sentences = sentences[0 : train_size] # YOUR CODE HERE\n",
        "train_labels = labels[0: train_size] # YOUR CODE HERE\n",
        "\n",
        "validation_sentences = sentences[train_size: ]# YOUR CODE HERE\n",
        "validation_labels = labels[train_size: ] # YOUR CODE HERE\n",
        "\n",
        "print(train_size)\n",
        "print(len(train_sentences))\n",
        "print(len(train_labels))\n",
        "print(len(validation_sentences))\n",
        "print(len(validation_labels))\n",
        "\n",
        "# Expected output (if training_portion=.8)\n",
        "# 1780\n",
        "# 1780\n",
        "# 1780\n",
        "# 445\n",
        "# 445"
      ],
      "execution_count": 29,
      "outputs": [
        {
          "output_type": "stream",
          "text": [
            "1780\n",
            "1780\n",
            "1780\n",
            "445\n",
            "445\n"
          ],
          "name": "stdout"
        }
      ]
    },
    {
      "cell_type": "code",
      "metadata": {
        "id": "ULzA8xhwZI22",
        "colab_type": "code",
        "colab": {
          "base_uri": "https://localhost:8080/",
          "height": 119
        },
        "outputId": "d67488f3-b5ee-4add-fb77-c2a466076e92"
      },
      "source": [
        "tokenizer = Tokenizer(num_words=vocab_size, oov_token=oov_tok) # YOUR CODE HERE\n",
        "tokenizer.fit_on_texts(train_sentences) # YOUR CODE HERE)\n",
        "word_index = tokenizer.word_index # YOUR CODE HERE\n",
        "\n",
        "train_sequences = tokenizer.texts_to_sequences(train_sentences) # YOUR CODE HERE\n",
        "train_padded = pad_sequences(train_sequences, maxlen=max_length) # YOUR CODE HERE\n",
        "\n",
        "print(len(train_sequences[0]))\n",
        "print(len(train_padded[0]))\n",
        "\n",
        "print(len(train_sequences[1]))\n",
        "print(len(train_padded[1]))\n",
        "\n",
        "print(len(train_sequences[10]))\n",
        "print(len(train_padded[10]))\n",
        "\n",
        "# Expected Ouput\n",
        "# 449\n",
        "# 120\n",
        "# 200\n",
        "# 120\n",
        "# 192\n",
        "# 120"
      ],
      "execution_count": 30,
      "outputs": [
        {
          "output_type": "stream",
          "text": [
            "449\n",
            "120\n",
            "200\n",
            "120\n",
            "192\n",
            "120\n"
          ],
          "name": "stdout"
        }
      ]
    },
    {
      "cell_type": "code",
      "metadata": {
        "id": "c8PeFWzPZLW_",
        "colab_type": "code",
        "colab": {
          "base_uri": "https://localhost:8080/",
          "height": 51
        },
        "outputId": "e01a4064-09f4-450a-9c3b-1179b8e069fc"
      },
      "source": [
        "validation_sequences = tokenizer.texts_to_sequences(validation_sentences) # YOUR CODE HERE\n",
        "validation_padded = pad_sequences(validation_sequences, maxlen=max_length) # YOUR CODE HERE\n",
        "\n",
        "print(len(validation_sequences))\n",
        "print(validation_padded.shape)\n",
        "\n",
        "# Expected output\n",
        "# 445\n",
        "# (445, 120)"
      ],
      "execution_count": 31,
      "outputs": [
        {
          "output_type": "stream",
          "text": [
            "445\n",
            "(445, 120)\n"
          ],
          "name": "stdout"
        }
      ]
    },
    {
      "cell_type": "code",
      "metadata": {
        "id": "XkWiQ_FKZNp2",
        "colab_type": "code",
        "colab": {
          "base_uri": "https://localhost:8080/",
          "height": 153
        },
        "outputId": "31a8d44f-cd61-4493-9539-c588838052c4"
      },
      "source": [
        "label_tokenizer = Tokenizer() # YOUR CODE HERE\n",
        "label_tokenizer.fit_on_texts(np.array(labels)) # YOUR CODE HERE)\n",
        "\n",
        "training_label_seq = np.array(label_tokenizer.texts_to_sequences(train_labels)) # YOUR CODE HERE\n",
        "validation_label_seq = np.array(label_tokenizer.texts_to_sequences(validation_labels)) # YOUR CODE HERE\n",
        "\n",
        "print(training_label_seq[0])\n",
        "print(training_label_seq[1])\n",
        "print(training_label_seq[2])\n",
        "print(training_label_seq.shape)\n",
        "\n",
        "print(validation_label_seq[0])\n",
        "print(validation_label_seq[1])\n",
        "print(validation_label_seq[2])\n",
        "print(validation_label_seq.shape)\n",
        "\n",
        "# Expected output\n",
        "# [4]\n",
        "# [2]\n",
        "# [1]\n",
        "# (1780, 1)\n",
        "# [5]\n",
        "# [4]\n",
        "# [3]\n",
        "# (445, 1)"
      ],
      "execution_count": 33,
      "outputs": [
        {
          "output_type": "stream",
          "text": [
            "[4]\n",
            "[2]\n",
            "[1]\n",
            "(1780, 1)\n",
            "[5]\n",
            "[4]\n",
            "[3]\n",
            "(445, 1)\n"
          ],
          "name": "stdout"
        }
      ]
    },
    {
      "cell_type": "code",
      "metadata": {
        "id": "HZ5um4MWZP-W",
        "colab_type": "code",
        "colab": {
          "base_uri": "https://localhost:8080/",
          "height": 289
        },
        "outputId": "3f7abea1-6ee3-4182-aaf9-148db7d7d350"
      },
      "source": [
        "model = tf.keras.Sequential([\n",
        "# YOUR CODE HERE\n",
        "tf.keras.layers.Embedding(input_dim=vocab_size, output_dim=embedding_dim, input_length=max_length), \n",
        "tf.keras.layers.GlobalAveragePooling1D(),\n",
        "tf.keras.layers.Dense(24, activation='relu'),\n",
        "tf.keras.layers.Dense(6, activation='softmax')\n",
        "])\n",
        "model.compile(loss='sparse_categorical_crossentropy',optimizer='adam',metrics=['accuracy'])\n",
        "model.summary()\n",
        "\n",
        "# Expected Output\n",
        "# Layer (type)                 Output Shape              Param #   \n",
        "# =================================================================\n",
        "# embedding (Embedding)        (None, 120, 16)           16000     \n",
        "# _________________________________________________________________\n",
        "# global_average_pooling1d (Gl (None, 16)                0         \n",
        "# _________________________________________________________________\n",
        "# dense (Dense)                (None, 24)                408       \n",
        "# _________________________________________________________________\n",
        "# dense_1 (Dense)              (None, 6)                 150       \n",
        "# =================================================================\n",
        "# Total params: 16,558\n",
        "# Trainable params: 16,558\n",
        "# Non-trainable params: 0"
      ],
      "execution_count": 34,
      "outputs": [
        {
          "output_type": "stream",
          "text": [
            "Model: \"sequential_3\"\n",
            "_________________________________________________________________\n",
            "Layer (type)                 Output Shape              Param #   \n",
            "=================================================================\n",
            "embedding_3 (Embedding)      (None, 120, 16)           16000     \n",
            "_________________________________________________________________\n",
            "global_average_pooling1d_3 ( (None, 16)                0         \n",
            "_________________________________________________________________\n",
            "dense_6 (Dense)              (None, 24)                408       \n",
            "_________________________________________________________________\n",
            "dense_7 (Dense)              (None, 6)                 150       \n",
            "=================================================================\n",
            "Total params: 16,558\n",
            "Trainable params: 16,558\n",
            "Non-trainable params: 0\n",
            "_________________________________________________________________\n"
          ],
          "name": "stdout"
        }
      ]
    },
    {
      "cell_type": "code",
      "metadata": {
        "id": "XsfdxySKZSXu",
        "colab_type": "code",
        "colab": {
          "base_uri": "https://localhost:8080/",
          "height": 1000
        },
        "outputId": "87c6096e-05db-4a22-a2ca-5a3617cb0834"
      },
      "source": [
        "num_epochs = 30\n",
        "history = model.fit(train_padded, training_label_seq, batch_size=32, epochs=100, validation_data=(validation_padded, validation_label_seq)) # YOUR CODE HERE)"
      ],
      "execution_count": 38,
      "outputs": [
        {
          "output_type": "stream",
          "text": [
            "Train on 1780 samples, validate on 445 samples\n",
            "Epoch 1/100\n",
            "1780/1780 [==============================] - 0s 130us/sample - loss: 0.0193 - acc: 1.0000 - val_loss: 0.1870 - val_acc: 0.9348\n",
            "Epoch 2/100\n",
            "1780/1780 [==============================] - 0s 140us/sample - loss: 0.0179 - acc: 1.0000 - val_loss: 0.1884 - val_acc: 0.9303\n",
            "Epoch 3/100\n",
            "1780/1780 [==============================] - 0s 149us/sample - loss: 0.0166 - acc: 1.0000 - val_loss: 0.1874 - val_acc: 0.9348\n",
            "Epoch 4/100\n",
            "1780/1780 [==============================] - 0s 130us/sample - loss: 0.0155 - acc: 1.0000 - val_loss: 0.1862 - val_acc: 0.9326\n",
            "Epoch 5/100\n",
            "1780/1780 [==============================] - 0s 139us/sample - loss: 0.0144 - acc: 1.0000 - val_loss: 0.1872 - val_acc: 0.9303\n",
            "Epoch 6/100\n",
            "1780/1780 [==============================] - 0s 138us/sample - loss: 0.0134 - acc: 1.0000 - val_loss: 0.1869 - val_acc: 0.9303\n",
            "Epoch 7/100\n",
            "1780/1780 [==============================] - 0s 141us/sample - loss: 0.0125 - acc: 1.0000 - val_loss: 0.1885 - val_acc: 0.9303\n",
            "Epoch 8/100\n",
            "1780/1780 [==============================] - 0s 129us/sample - loss: 0.0117 - acc: 1.0000 - val_loss: 0.1871 - val_acc: 0.9303\n",
            "Epoch 9/100\n",
            "1780/1780 [==============================] - 0s 138us/sample - loss: 0.0109 - acc: 1.0000 - val_loss: 0.1886 - val_acc: 0.9326\n",
            "Epoch 10/100\n",
            "1780/1780 [==============================] - 0s 132us/sample - loss: 0.0102 - acc: 1.0000 - val_loss: 0.1889 - val_acc: 0.9326\n",
            "Epoch 11/100\n",
            "1780/1780 [==============================] - 0s 137us/sample - loss: 0.0096 - acc: 1.0000 - val_loss: 0.1890 - val_acc: 0.9326\n",
            "Epoch 12/100\n",
            "1780/1780 [==============================] - 0s 125us/sample - loss: 0.0090 - acc: 1.0000 - val_loss: 0.1900 - val_acc: 0.9326\n",
            "Epoch 13/100\n",
            "1780/1780 [==============================] - 0s 138us/sample - loss: 0.0084 - acc: 1.0000 - val_loss: 0.1904 - val_acc: 0.9326\n",
            "Epoch 14/100\n",
            "1780/1780 [==============================] - 0s 131us/sample - loss: 0.0079 - acc: 1.0000 - val_loss: 0.1908 - val_acc: 0.9303\n",
            "Epoch 15/100\n",
            "1780/1780 [==============================] - 0s 135us/sample - loss: 0.0075 - acc: 1.0000 - val_loss: 0.1911 - val_acc: 0.9326\n",
            "Epoch 16/100\n",
            "1780/1780 [==============================] - 0s 142us/sample - loss: 0.0071 - acc: 1.0000 - val_loss: 0.1922 - val_acc: 0.9326\n",
            "Epoch 17/100\n",
            "1780/1780 [==============================] - 0s 132us/sample - loss: 0.0066 - acc: 1.0000 - val_loss: 0.1922 - val_acc: 0.9326\n",
            "Epoch 18/100\n",
            "1780/1780 [==============================] - 0s 141us/sample - loss: 0.0063 - acc: 1.0000 - val_loss: 0.1926 - val_acc: 0.9326\n",
            "Epoch 19/100\n",
            "1780/1780 [==============================] - 0s 141us/sample - loss: 0.0059 - acc: 1.0000 - val_loss: 0.1935 - val_acc: 0.9326\n",
            "Epoch 20/100\n",
            "1780/1780 [==============================] - 0s 128us/sample - loss: 0.0056 - acc: 1.0000 - val_loss: 0.1943 - val_acc: 0.9326\n",
            "Epoch 21/100\n",
            "1780/1780 [==============================] - 0s 131us/sample - loss: 0.0053 - acc: 1.0000 - val_loss: 0.1939 - val_acc: 0.9326\n",
            "Epoch 22/100\n",
            "1780/1780 [==============================] - 0s 136us/sample - loss: 0.0050 - acc: 1.0000 - val_loss: 0.1950 - val_acc: 0.9326\n",
            "Epoch 23/100\n",
            "1780/1780 [==============================] - 0s 143us/sample - loss: 0.0047 - acc: 1.0000 - val_loss: 0.1951 - val_acc: 0.9303\n",
            "Epoch 24/100\n",
            "1780/1780 [==============================] - 0s 135us/sample - loss: 0.0045 - acc: 1.0000 - val_loss: 0.1957 - val_acc: 0.9326\n",
            "Epoch 25/100\n",
            "1780/1780 [==============================] - 0s 129us/sample - loss: 0.0043 - acc: 1.0000 - val_loss: 0.1972 - val_acc: 0.9303\n",
            "Epoch 26/100\n",
            "1780/1780 [==============================] - 0s 132us/sample - loss: 0.0040 - acc: 1.0000 - val_loss: 0.1970 - val_acc: 0.9326\n",
            "Epoch 27/100\n",
            "1780/1780 [==============================] - 0s 129us/sample - loss: 0.0038 - acc: 1.0000 - val_loss: 0.1981 - val_acc: 0.9326\n",
            "Epoch 28/100\n",
            "1780/1780 [==============================] - 0s 153us/sample - loss: 0.0036 - acc: 1.0000 - val_loss: 0.1981 - val_acc: 0.9326\n",
            "Epoch 29/100\n",
            "1780/1780 [==============================] - 0s 128us/sample - loss: 0.0035 - acc: 1.0000 - val_loss: 0.1986 - val_acc: 0.9326\n",
            "Epoch 30/100\n",
            "1780/1780 [==============================] - 0s 131us/sample - loss: 0.0033 - acc: 1.0000 - val_loss: 0.1993 - val_acc: 0.9326\n",
            "Epoch 31/100\n",
            "1780/1780 [==============================] - 0s 132us/sample - loss: 0.0031 - acc: 1.0000 - val_loss: 0.2005 - val_acc: 0.9326\n",
            "Epoch 32/100\n",
            "1780/1780 [==============================] - 0s 140us/sample - loss: 0.0030 - acc: 1.0000 - val_loss: 0.2008 - val_acc: 0.9326\n",
            "Epoch 33/100\n",
            "1780/1780 [==============================] - 0s 132us/sample - loss: 0.0028 - acc: 1.0000 - val_loss: 0.2022 - val_acc: 0.9303\n",
            "Epoch 34/100\n",
            "1780/1780 [==============================] - 0s 138us/sample - loss: 0.0027 - acc: 1.0000 - val_loss: 0.2017 - val_acc: 0.9326\n",
            "Epoch 35/100\n",
            "1780/1780 [==============================] - 0s 130us/sample - loss: 0.0026 - acc: 1.0000 - val_loss: 0.2022 - val_acc: 0.9326\n",
            "Epoch 36/100\n",
            "1780/1780 [==============================] - 0s 134us/sample - loss: 0.0024 - acc: 1.0000 - val_loss: 0.2033 - val_acc: 0.9326\n",
            "Epoch 37/100\n",
            "1780/1780 [==============================] - 0s 141us/sample - loss: 0.0023 - acc: 1.0000 - val_loss: 0.2043 - val_acc: 0.9326\n",
            "Epoch 38/100\n",
            "1780/1780 [==============================] - 0s 144us/sample - loss: 0.0022 - acc: 1.0000 - val_loss: 0.2047 - val_acc: 0.9326\n",
            "Epoch 39/100\n",
            "1780/1780 [==============================] - 0s 140us/sample - loss: 0.0021 - acc: 1.0000 - val_loss: 0.2056 - val_acc: 0.9326\n",
            "Epoch 40/100\n",
            "1780/1780 [==============================] - 0s 132us/sample - loss: 0.0020 - acc: 1.0000 - val_loss: 0.2061 - val_acc: 0.9326\n",
            "Epoch 41/100\n",
            "1780/1780 [==============================] - 0s 126us/sample - loss: 0.0019 - acc: 1.0000 - val_loss: 0.2067 - val_acc: 0.9326\n",
            "Epoch 42/100\n",
            "1780/1780 [==============================] - 0s 137us/sample - loss: 0.0019 - acc: 1.0000 - val_loss: 0.2080 - val_acc: 0.9326\n",
            "Epoch 43/100\n",
            "1780/1780 [==============================] - 0s 143us/sample - loss: 0.0018 - acc: 1.0000 - val_loss: 0.2076 - val_acc: 0.9326\n",
            "Epoch 44/100\n",
            "1780/1780 [==============================] - 0s 137us/sample - loss: 0.0017 - acc: 1.0000 - val_loss: 0.2085 - val_acc: 0.9326\n",
            "Epoch 45/100\n",
            "1780/1780 [==============================] - 0s 135us/sample - loss: 0.0016 - acc: 1.0000 - val_loss: 0.2097 - val_acc: 0.9326\n",
            "Epoch 46/100\n",
            "1780/1780 [==============================] - 0s 136us/sample - loss: 0.0016 - acc: 1.0000 - val_loss: 0.2099 - val_acc: 0.9326\n",
            "Epoch 47/100\n",
            "1780/1780 [==============================] - 0s 128us/sample - loss: 0.0015 - acc: 1.0000 - val_loss: 0.2107 - val_acc: 0.9326\n",
            "Epoch 48/100\n",
            "1780/1780 [==============================] - 0s 130us/sample - loss: 0.0014 - acc: 1.0000 - val_loss: 0.2112 - val_acc: 0.9326\n",
            "Epoch 49/100\n",
            "1780/1780 [==============================] - 0s 139us/sample - loss: 0.0014 - acc: 1.0000 - val_loss: 0.2121 - val_acc: 0.9326\n",
            "Epoch 50/100\n",
            "1780/1780 [==============================] - 0s 131us/sample - loss: 0.0013 - acc: 1.0000 - val_loss: 0.2129 - val_acc: 0.9326\n",
            "Epoch 51/100\n",
            "1780/1780 [==============================] - 0s 136us/sample - loss: 0.0013 - acc: 1.0000 - val_loss: 0.2132 - val_acc: 0.9326\n",
            "Epoch 52/100\n",
            "1780/1780 [==============================] - 0s 133us/sample - loss: 0.0012 - acc: 1.0000 - val_loss: 0.2144 - val_acc: 0.9326\n",
            "Epoch 53/100\n",
            "1780/1780 [==============================] - 0s 135us/sample - loss: 0.0012 - acc: 1.0000 - val_loss: 0.2148 - val_acc: 0.9326\n",
            "Epoch 54/100\n",
            "1780/1780 [==============================] - 0s 128us/sample - loss: 0.0011 - acc: 1.0000 - val_loss: 0.2155 - val_acc: 0.9326\n",
            "Epoch 55/100\n",
            "1780/1780 [==============================] - 0s 132us/sample - loss: 0.0011 - acc: 1.0000 - val_loss: 0.2161 - val_acc: 0.9326\n",
            "Epoch 56/100\n",
            "1780/1780 [==============================] - 0s 132us/sample - loss: 0.0010 - acc: 1.0000 - val_loss: 0.2172 - val_acc: 0.9326\n",
            "Epoch 57/100\n",
            "1780/1780 [==============================] - 0s 142us/sample - loss: 9.7833e-04 - acc: 1.0000 - val_loss: 0.2174 - val_acc: 0.9326\n",
            "Epoch 58/100\n",
            "1780/1780 [==============================] - 0s 129us/sample - loss: 9.4022e-04 - acc: 1.0000 - val_loss: 0.2181 - val_acc: 0.9326\n",
            "Epoch 59/100\n",
            "1780/1780 [==============================] - 0s 132us/sample - loss: 9.0055e-04 - acc: 1.0000 - val_loss: 0.2190 - val_acc: 0.9326\n",
            "Epoch 60/100\n",
            "1780/1780 [==============================] - 0s 140us/sample - loss: 8.6496e-04 - acc: 1.0000 - val_loss: 0.2197 - val_acc: 0.9326\n",
            "Epoch 61/100\n",
            "1780/1780 [==============================] - 0s 136us/sample - loss: 8.3272e-04 - acc: 1.0000 - val_loss: 0.2199 - val_acc: 0.9326\n",
            "Epoch 62/100\n",
            "1780/1780 [==============================] - 0s 140us/sample - loss: 7.9941e-04 - acc: 1.0000 - val_loss: 0.2209 - val_acc: 0.9326\n",
            "Epoch 63/100\n",
            "1780/1780 [==============================] - 0s 143us/sample - loss: 7.6767e-04 - acc: 1.0000 - val_loss: 0.2221 - val_acc: 0.9326\n",
            "Epoch 64/100\n",
            "1780/1780 [==============================] - 0s 130us/sample - loss: 7.3825e-04 - acc: 1.0000 - val_loss: 0.2221 - val_acc: 0.9326\n",
            "Epoch 65/100\n",
            "1780/1780 [==============================] - 0s 131us/sample - loss: 7.1113e-04 - acc: 1.0000 - val_loss: 0.2229 - val_acc: 0.9326\n",
            "Epoch 66/100\n",
            "1780/1780 [==============================] - 0s 138us/sample - loss: 6.8174e-04 - acc: 1.0000 - val_loss: 0.2239 - val_acc: 0.9326\n",
            "Epoch 67/100\n",
            "1780/1780 [==============================] - 0s 129us/sample - loss: 6.5539e-04 - acc: 1.0000 - val_loss: 0.2245 - val_acc: 0.9326\n",
            "Epoch 68/100\n",
            "1780/1780 [==============================] - 0s 128us/sample - loss: 6.3011e-04 - acc: 1.0000 - val_loss: 0.2253 - val_acc: 0.9326\n",
            "Epoch 69/100\n",
            "1780/1780 [==============================] - 0s 133us/sample - loss: 6.0620e-04 - acc: 1.0000 - val_loss: 0.2259 - val_acc: 0.9326\n",
            "Epoch 70/100\n",
            "1780/1780 [==============================] - 0s 133us/sample - loss: 5.8412e-04 - acc: 1.0000 - val_loss: 0.2261 - val_acc: 0.9326\n",
            "Epoch 71/100\n",
            "1780/1780 [==============================] - 0s 129us/sample - loss: 5.6171e-04 - acc: 1.0000 - val_loss: 0.2274 - val_acc: 0.9326\n",
            "Epoch 72/100\n",
            "1780/1780 [==============================] - 0s 140us/sample - loss: 5.3999e-04 - acc: 1.0000 - val_loss: 0.2278 - val_acc: 0.9326\n",
            "Epoch 73/100\n",
            "1780/1780 [==============================] - 0s 124us/sample - loss: 5.2100e-04 - acc: 1.0000 - val_loss: 0.2285 - val_acc: 0.9326\n",
            "Epoch 74/100\n",
            "1780/1780 [==============================] - 0s 140us/sample - loss: 5.0035e-04 - acc: 1.0000 - val_loss: 0.2293 - val_acc: 0.9326\n",
            "Epoch 75/100\n",
            "1780/1780 [==============================] - 0s 136us/sample - loss: 4.8194e-04 - acc: 1.0000 - val_loss: 0.2294 - val_acc: 0.9326\n",
            "Epoch 76/100\n",
            "1780/1780 [==============================] - 0s 135us/sample - loss: 4.6445e-04 - acc: 1.0000 - val_loss: 0.2308 - val_acc: 0.9326\n",
            "Epoch 77/100\n",
            "1780/1780 [==============================] - 0s 131us/sample - loss: 4.4684e-04 - acc: 1.0000 - val_loss: 0.2313 - val_acc: 0.9326\n",
            "Epoch 78/100\n",
            "1780/1780 [==============================] - 0s 149us/sample - loss: 4.3074e-04 - acc: 1.0000 - val_loss: 0.2318 - val_acc: 0.9326\n",
            "Epoch 79/100\n",
            "1780/1780 [==============================] - 0s 134us/sample - loss: 4.1478e-04 - acc: 1.0000 - val_loss: 0.2326 - val_acc: 0.9326\n",
            "Epoch 80/100\n",
            "1780/1780 [==============================] - 0s 131us/sample - loss: 3.9996e-04 - acc: 1.0000 - val_loss: 0.2334 - val_acc: 0.9326\n",
            "Epoch 81/100\n",
            "1780/1780 [==============================] - 0s 127us/sample - loss: 3.8492e-04 - acc: 1.0000 - val_loss: 0.2339 - val_acc: 0.9326\n",
            "Epoch 82/100\n",
            "1780/1780 [==============================] - 0s 138us/sample - loss: 3.7083e-04 - acc: 1.0000 - val_loss: 0.2345 - val_acc: 0.9326\n",
            "Epoch 83/100\n",
            "1780/1780 [==============================] - 0s 130us/sample - loss: 3.5697e-04 - acc: 1.0000 - val_loss: 0.2356 - val_acc: 0.9326\n",
            "Epoch 84/100\n",
            "1780/1780 [==============================] - 0s 139us/sample - loss: 3.4455e-04 - acc: 1.0000 - val_loss: 0.2365 - val_acc: 0.9326\n",
            "Epoch 85/100\n",
            "1780/1780 [==============================] - 0s 130us/sample - loss: 3.3142e-04 - acc: 1.0000 - val_loss: 0.2367 - val_acc: 0.9326\n",
            "Epoch 86/100\n",
            "1780/1780 [==============================] - 0s 131us/sample - loss: 3.1970e-04 - acc: 1.0000 - val_loss: 0.2375 - val_acc: 0.9326\n",
            "Epoch 87/100\n",
            "1780/1780 [==============================] - 0s 140us/sample - loss: 3.0853e-04 - acc: 1.0000 - val_loss: 0.2382 - val_acc: 0.9348\n",
            "Epoch 88/100\n",
            "1780/1780 [==============================] - 0s 140us/sample - loss: 2.9729e-04 - acc: 1.0000 - val_loss: 0.2392 - val_acc: 0.9326\n",
            "Epoch 89/100\n",
            "1780/1780 [==============================] - 0s 130us/sample - loss: 2.8692e-04 - acc: 1.0000 - val_loss: 0.2396 - val_acc: 0.9348\n",
            "Epoch 90/100\n",
            "1780/1780 [==============================] - 0s 136us/sample - loss: 2.7690e-04 - acc: 1.0000 - val_loss: 0.2402 - val_acc: 0.9348\n",
            "Epoch 91/100\n",
            "1780/1780 [==============================] - 0s 142us/sample - loss: 2.6721e-04 - acc: 1.0000 - val_loss: 0.2404 - val_acc: 0.9348\n",
            "Epoch 92/100\n",
            "1780/1780 [==============================] - 0s 144us/sample - loss: 2.5726e-04 - acc: 1.0000 - val_loss: 0.2417 - val_acc: 0.9348\n",
            "Epoch 93/100\n",
            "1780/1780 [==============================] - 0s 133us/sample - loss: 2.4826e-04 - acc: 1.0000 - val_loss: 0.2425 - val_acc: 0.9371\n",
            "Epoch 94/100\n",
            "1780/1780 [==============================] - 0s 137us/sample - loss: 2.4020e-04 - acc: 1.0000 - val_loss: 0.2427 - val_acc: 0.9348\n",
            "Epoch 95/100\n",
            "1780/1780 [==============================] - 0s 143us/sample - loss: 2.3125e-04 - acc: 1.0000 - val_loss: 0.2436 - val_acc: 0.9348\n",
            "Epoch 96/100\n",
            "1780/1780 [==============================] - 0s 126us/sample - loss: 2.2262e-04 - acc: 1.0000 - val_loss: 0.2443 - val_acc: 0.9348\n",
            "Epoch 97/100\n",
            "1780/1780 [==============================] - 0s 132us/sample - loss: 2.1532e-04 - acc: 1.0000 - val_loss: 0.2450 - val_acc: 0.9348\n",
            "Epoch 98/100\n",
            "1780/1780 [==============================] - 0s 129us/sample - loss: 2.0809e-04 - acc: 1.0000 - val_loss: 0.2458 - val_acc: 0.9416\n",
            "Epoch 99/100\n",
            "1780/1780 [==============================] - 0s 131us/sample - loss: 2.0062e-04 - acc: 1.0000 - val_loss: 0.2464 - val_acc: 0.9393\n",
            "Epoch 100/100\n",
            "1780/1780 [==============================] - 0s 133us/sample - loss: 1.9322e-04 - acc: 1.0000 - val_loss: 0.2472 - val_acc: 0.9416\n"
          ],
          "name": "stdout"
        }
      ]
    },
    {
      "cell_type": "code",
      "metadata": {
        "id": "dQ0BX2apXS9u",
        "colab_type": "code",
        "colab": {
          "base_uri": "https://localhost:8080/",
          "height": 541
        },
        "outputId": "189b91e9-9dda-44a0-caf5-cae0a32771b0"
      },
      "source": [
        "import matplotlib.pyplot as plt\n",
        "\n",
        "def plot_graphs(history, string):\n",
        "  plt.plot(history.history[string])\n",
        "  plt.plot(history.history['val_'+string])\n",
        "  plt.xlabel(\"Epochs\")\n",
        "  plt.ylabel(string)\n",
        "  plt.legend([string, 'val_'+string])\n",
        "  plt.show()\n",
        "  \n",
        "plot_graphs(history, \"acc\")\n",
        "plot_graphs(history, \"loss\")"
      ],
      "execution_count": 39,
      "outputs": [
        {
          "output_type": "display_data",
          "data": {
            "image/png": "[encoded data removed]",
            "text/plain": [
              "<Figure size 432x288 with 1 Axes>"
            ]
          },
          "metadata": {
            "tags": []
          }
        },
        {
          "output_type": "display_data",
          "data": {
            "image/png": "[encoded data removed]",
            "text/plain": [
              "<Figure size 432x288 with 1 Axes>"
            ]
          },
          "metadata": {
            "tags": []
          }
        }
      ]
    },
    {
      "cell_type": "code",
      "metadata": {
        "id": "w7Xc-uWxXhML",
        "colab_type": "code",
        "colab": {}
      },
      "source": [
        "reverse_word_index = dict([(value, key) for (key, value) in word_index.items()])\n",
        "\n",
        "def decode_sentence(text):\n",
        "    return ' '.join([reverse_word_index.get(i, '?') for i in text])\n"
      ],
      "execution_count": 0,
      "outputs": []
    },
    {
      "cell_type": "code",
      "metadata": {
        "id": "OhnFA_TDXrih",
        "colab_type": "code",
        "colab": {
          "base_uri": "https://localhost:8080/",
          "height": 34
        },
        "outputId": "ad652fd2-41a1-4cd5-b448-0a6d50be1d24"
      },
      "source": [
        "e = model.layers[0]\n",
        "weights = e.get_weights()[0]\n",
        "print(weights.shape) # shape: (vocab_size, embedding_dim)\n",
        "\n",
        "# Expected output\n",
        "# (1000, 16)"
      ],
      "execution_count": 41,
      "outputs": [
        {
          "output_type": "stream",
          "text": [
            "(1000, 16)\n"
          ],
          "name": "stdout"
        }
      ]
    },
    {
      "cell_type": "code",
      "metadata": {
        "id": "_POzcWWAXudL",
        "colab_type": "code",
        "colab": {}
      },
      "source": [
        "import io\n",
        "\n",
        "out_v = io.open('vecs.tsv', 'w', encoding='utf-8')\n",
        "out_m = io.open('meta.tsv', 'w', encoding='utf-8')\n",
        "for word_num in range(1, vocab_size):\n",
        "  word = reverse_word_index[word_num]\n",
        "  embeddings = weights[word_num]\n",
        "  out_m.write(word + \"\\n\")\n",
        "  out_v.write('\\t'.join([str(x) for x in embeddings]) + \"\\n\")\n",
        "out_v.close()\n",
        "out_m.close()"
      ],
      "execution_count": 0,
      "outputs": []
    },
    {
      "cell_type": "code",
      "metadata": {
        "id": "VmqpQMZ_XyOa",
        "colab_type": "code",
        "colab": {}
      },
      "source": [
        "try:\n",
        "  from google.colab import files\n",
        "except ImportError:\n",
        "  pass\n",
        "else:\n",
        "  files.download('vecs.tsv')\n",
        "  files.download('meta.tsv')"
      ],
      "execution_count": 0,
      "outputs": []
    },
    {
      "cell_type": "code",
      "metadata": {
        "id": "05Bmy76pqiHj",
        "colab_type": "code",
        "colab": {}
      },
      "source": [
        ""
      ],
      "execution_count": 0,
      "outputs": []
    }
  ]
}
