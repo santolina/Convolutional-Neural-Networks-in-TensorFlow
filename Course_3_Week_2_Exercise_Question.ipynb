{
  "nbformat": 4,
  "nbformat_minor": 0,
  "metadata": {
    "colab": {
      "name": "Course 3 - Week 2 - Exercise - Question",
      "provenance": [],
      "collapsed_sections": [],
      "include_colab_link": true
    },
    "kernelspec": {
      "name": "python3",
      "display_name": "Python 3"
    },
    "accelerator": "GPU"
  },
  "cells": [
    {
      "cell_type": "markdown",
      "metadata": {
        "id": "view-in-github",
        "colab_type": "text"
      },
      "source": [
        "<a href=\"https://colab.research.google.com/github/santolina/Convolutional-Neural-Networks-in-TensorFlow/blob/master/Course_3_Week_2_Exercise_Question.ipynb\" target=\"_parent\"><img src=\"https://colab.research.google.com/assets/colab-badge.svg\" alt=\"Open In Colab\"/></a>"
      ]
    },
    {
      "cell_type": "code",
      "metadata": {
        "id": "gnwiOnGyW5JK",
        "colab_type": "code",
        "outputId": "2f5a0e85-b409-4c12-8167-b654115567f4",
        "colab": {
          "base_uri": "https://localhost:8080/",
          "height": 267
        }
      },
      "source": [
        "import csv\n",
        "import tensorflow as tf\n",
        "import numpy as np\n",
        "from tensorflow.keras.preprocessing.text import Tokenizer\n",
        "from tensorflow.keras.preprocessing.sequence import pad_sequences\n",
        "\n",
        "!wget --no-check-certificate \\\n",
        "    https://storage.googleapis.com/laurencemoroney-blog.appspot.com/bbc-text.csv \\\n",
        "    -O /tmp/bbc-text.csv"
      ],
      "execution_count": 1,
      "outputs": [
        {
          "output_type": "display_data",
          "data": {
            "text/html": [
              "<p style=\"color: red;\">\n",
              "The default version of TensorFlow in Colab will soon switch to TensorFlow 2.x.<br>\n",
              "We recommend you <a href=\"https://www.tensorflow.org/guide/migrate\" target=\"_blank\">upgrade</a> now \n",
              "or ensure your notebook will continue to use TensorFlow 1.x via the <code>%tensorflow_version 1.x</code> magic:\n",
              "<a href=\"https://colab.research.google.com/notebooks/tensorflow_version.ipynb\" target=\"_blank\">more info</a>.</p>\n"
            ],
            "text/plain": [
              "<IPython.core.display.HTML object>"
            ]
          },
          "metadata": {
            "tags": []
          }
        },
        {
          "output_type": "stream",
          "text": [
            "--2019-11-14 16:15:26--  https://storage.googleapis.com/laurencemoroney-blog.appspot.com/bbc-text.csv\n",
            "Resolving storage.googleapis.com (storage.googleapis.com)... 172.217.218.128, 2a00:1450:4013:c08::80\n",
            "Connecting to storage.googleapis.com (storage.googleapis.com)|172.217.218.128|:443... connected.\n",
            "HTTP request sent, awaiting response... 200 OK\n",
            "Length: 5057493 (4.8M) [application/octet-stream]\n",
            "Saving to: ‘/tmp/bbc-text.csv’\n",
            "\n",
            "\r/tmp/bbc-text.csv     0%[                    ]       0  --.-KB/s               \r/tmp/bbc-text.csv   100%[===================>]   4.82M  28.6MB/s    in 0.2s    \n",
            "\n",
            "2019-11-14 16:15:27 (28.6 MB/s) - ‘/tmp/bbc-text.csv’ saved [5057493/5057493]\n",
            "\n"
          ],
          "name": "stdout"
        }
      ]
    },
    {
      "cell_type": "code",
      "metadata": {
        "id": "EYo6A4v5ZABQ",
        "colab_type": "code",
        "colab": {}
      },
      "source": [
        "vocab_size = 1000 # YOUR CODE HERE\n",
        "embedding_dim = 16 # YOUR CODE HERE\n",
        "max_length = 120 # YOUR CODE HERE\n",
        "trunc_type = 'post' # YOUR CODE HERE\n",
        "padding_type = 'post' # YOUR CODE HERE\n",
        "oov_tok = '<OOV>' # YOUR CODE HERE\n",
        "training_portion = .8"
      ],
      "execution_count": 0,
      "outputs": []
    },
    {
      "cell_type": "code",
      "metadata": {
        "id": "iU1qq3_SZBx_",
        "colab_type": "code",
        "outputId": "c6f97460-fd7b-420d-9310-16b3ceb6a61d",
        "colab": {
          "base_uri": "https://localhost:8080/",
          "height": 34
        }
      },
      "source": [
        "sentences = []\n",
        "labels = []\n",
        "stopwords = [ \"a\", \"about\", \"above\", \"after\", \"again\", \"against\", \"all\", \"am\", \"an\", \"and\", \"any\", \"are\", \"as\", \"at\", \"be\", \"because\", \"been\", \"before\", \"being\", \"below\", \"between\", \"both\", \"but\", \"by\", \"could\", \"did\", \"do\", \"does\", \"doing\", \"down\", \"during\", \"each\", \"few\", \"for\", \"from\", \"further\", \"had\", \"has\", \"have\", \"having\", \"he\", \"he'd\", \"he'll\", \"he's\", \"her\", \"here\", \"here's\", \"hers\", \"herself\", \"him\", \"himself\", \"his\", \"how\", \"how's\", \"i\", \"i'd\", \"i'll\", \"i'm\", \"i've\", \"if\", \"in\", \"into\", \"is\", \"it\", \"it's\", \"its\", \"itself\", \"let's\", \"me\", \"more\", \"most\", \"my\", \"myself\", \"nor\", \"of\", \"on\", \"once\", \"only\", \"or\", \"other\", \"ought\", \"our\", \"ours\", \"ourselves\", \"out\", \"over\", \"own\", \"same\", \"she\", \"she'd\", \"she'll\", \"she's\", \"should\", \"so\", \"some\", \"such\", \"than\", \"that\", \"that's\", \"the\", \"their\", \"theirs\", \"them\", \"themselves\", \"then\", \"there\", \"there's\", \"these\", \"they\", \"they'd\", \"they'll\", \"they're\", \"they've\", \"this\", \"those\", \"through\", \"to\", \"too\", \"under\", \"until\", \"up\", \"very\", \"was\", \"we\", \"we'd\", \"we'll\", \"we're\", \"we've\", \"were\", \"what\", \"what's\", \"when\", \"when's\", \"where\", \"where's\", \"which\", \"while\", \"who\", \"who's\", \"whom\", \"why\", \"why's\", \"with\", \"would\", \"you\", \"you'd\", \"you'll\", \"you're\", \"you've\", \"your\", \"yours\", \"yourself\", \"yourselves\" ]\n",
        "print(len(stopwords))\n",
        "# Expected Output\n",
        "# 153"
      ],
      "execution_count": 3,
      "outputs": [
        {
          "output_type": "stream",
          "text": [
            "153\n"
          ],
          "name": "stdout"
        }
      ]
    },
    {
      "cell_type": "code",
      "metadata": {
        "id": "eutB2xMiZD0e",
        "colab_type": "code",
        "outputId": "fcf641a6-43e1-45ef-8fc4-9881e362f717",
        "colab": {
          "base_uri": "https://localhost:8080/",
          "height": 105
        }
      },
      "source": [
        "with open(\"/tmp/bbc-text.csv\", 'r') as csvfile:\n",
        "    # YOUR CODE HERE\n",
        "    idx = 0\n",
        "    for line in csvfile:\n",
        "      #print(line)\n",
        "      if idx > 0:\n",
        "        items = line.split(',')\n",
        "        labels.append(items[0])\n",
        "\n",
        "        for word in stopwords:\n",
        "          token = \" \" + word + \" \"\n",
        "          items[1] = items[1].replace(token, \" \")\n",
        "        sentences.append(items[1])\n",
        "      idx += 1\n",
        "    \n",
        "print(len(labels))\n",
        "print(len(sentences))\n",
        "print(sentences[0])\n",
        "# Expected Output\n",
        "# 2225\n",
        "# 2225\n",
        "# tv future hands viewers home theatre systems  plasma high-definition tvs  digital video recorders moving living room  way people watch tv will radically different five years  time.  according expert panel gathered annual consumer electronics show las vegas discuss new technologies will impact one favourite pastimes. us leading trend  programmes content will delivered viewers via home networks  cable  satellite  telecoms companies  broadband service providers front rooms portable devices.  one talked-about technologies ces digital personal video recorders (dvr pvr). set-top boxes  like us s tivo uk s sky+ system  allow people record  store  play  pause forward wind tv programmes want.  essentially  technology allows much personalised tv. also built-in high-definition tv sets  big business japan us  slower take off europe lack high-definition programming. not can people forward wind adverts  can also forget abiding network channel schedules  putting together a-la-carte entertainment. us networks cable satellite companies worried means terms advertising revenues well  brand identity  viewer loyalty channels. although us leads technology moment  also concern raised europe  particularly growing uptake services like sky+.  happens today  will see nine months years  time uk   adam hume  bbc broadcast s futurologist told bbc news website. likes bbc  no issues lost advertising revenue yet. pressing issue moment commercial uk broadcasters  brand loyalty important everyone.  will talking content brands rather network brands   said tim hanlon  brand communications firm starcom mediavest.  reality broadband connections  anybody can producer content.  added:  challenge now hard promote programme much choice.   means  said stacey jolna  senior vice president tv guide tv group  way people find content want watch simplified tv viewers. means networks  us terms  channels take leaf google s book search engine future  instead scheduler help people find want watch. kind channel model might work younger ipod generation used taking control gadgets play them. might not suit everyone  panel recognised. older generations comfortable familiar schedules channel brands know getting. perhaps not want much choice put hands  mr hanlon suggested.  end  kids just diapers pushing buttons already - everything possible available   said mr hanlon.  ultimately  consumer will tell market want.   50 000 new gadgets technologies showcased ces  many enhancing tv-watching experience. high-definition tv sets everywhere many new models lcd (liquid crystal display) tvs launched dvr capability built  instead external boxes. one example launched show humax s 26-inch lcd tv 80-hour tivo dvr dvd recorder. one us s biggest satellite tv companies  directtv  even launched branded dvr show 100-hours recording capability  instant replay  search function. set can pause rewind tv 90 hours. microsoft chief bill gates announced pre-show keynote speech partnership tivo  called tivotogo  means people can play recorded programmes windows pcs mobile devices. reflect increasing trend freeing multimedia people can watch want  want."
      ],
      "execution_count": 4,
      "outputs": [
        {
          "output_type": "stream",
          "text": [
            "2225\n",
            "2225\n",
            "tv future hands viewers home theatre systems  plasma high-definition tvs  digital video recorders moving living room  way people watch tv will radically different five years  time.  according expert panel gathered annual consumer electronics show las vegas discuss new technologies will impact one favourite pastimes. us leading trend  programmes content will delivered viewers via home networks  cable  satellite  telecoms companies  broadband service providers front rooms portable devices.  one talked-about technologies ces digital personal video recorders (dvr pvr). set-top boxes  like us s tivo uk s sky+ system  allow people record  store  play  pause forward wind tv programmes want.  essentially  technology allows much personalised tv. also built-in high-definition tv sets  big business japan us  slower take off europe lack high-definition programming. not can people forward wind adverts  can also forget abiding network channel schedules  putting together a-la-carte entertainment. us networks cable satellite companies worried means terms advertising revenues well  brand identity  viewer loyalty channels. although us leads technology moment  also concern raised europe  particularly growing uptake services like sky+.  happens today  will see nine months years  time uk   adam hume  bbc broadcast s futurologist told bbc news website. likes bbc  no issues lost advertising revenue yet. pressing issue moment commercial uk broadcasters  brand loyalty important everyone.  will talking content brands rather network brands   said tim hanlon  brand communications firm starcom mediavest.  reality broadband connections  anybody can producer content.  added:  challenge now hard promote programme much choice.   means  said stacey jolna  senior vice president tv guide tv group  way people find content want watch simplified tv viewers. means networks  us terms  channels take leaf google s book search engine future  instead scheduler help people find want watch. kind channel model might work younger ipod generation used taking control gadgets play them. might not suit everyone  panel recognised. older generations comfortable familiar schedules channel brands know getting. perhaps not want much choice put hands  mr hanlon suggested.  end  kids just diapers pushing buttons already - everything possible available   said mr hanlon.  ultimately  consumer will tell market want.   50 000 new gadgets technologies showcased ces  many enhancing tv-watching experience. high-definition tv sets everywhere many new models lcd (liquid crystal display) tvs launched dvr capability built  instead external boxes. one example launched show humax s 26-inch lcd tv 80-hour tivo dvr dvd recorder. one us s biggest satellite tv companies  directtv  even launched branded dvr show 100-hours recording capability  instant replay  search function. set can pause rewind tv 90 hours. microsoft chief bill gates announced pre-show keynote speech partnership tivo  called tivotogo  means people can play recorded programmes windows pcs mobile devices. reflect increasing trend freeing multimedia people can watch want  want.\n",
            "\n"
          ],
          "name": "stdout"
        }
      ]
    },
    {
      "cell_type": "code",
      "metadata": {
        "id": "XfdaWh06ZGe3",
        "colab_type": "code",
        "outputId": "fe26a4b6-1514-4caa-dff9-42276883d3ae",
        "colab": {
          "base_uri": "https://localhost:8080/",
          "height": 102
        }
      },
      "source": [
        "train_size = int(len(sentences) * training_portion) # YOUR CODE HERE\n",
        "\n",
        "train_sentences = sentences[0 : train_size] # YOUR CODE HERE\n",
        "train_labels = labels[0: train_size] # YOUR CODE HERE\n",
        "\n",
        "validation_sentences = sentences[train_size: ]# YOUR CODE HERE\n",
        "validation_labels = labels[train_size: ] # YOUR CODE HERE\n",
        "\n",
        "print(train_size)\n",
        "print(len(train_sentences))\n",
        "print(len(train_labels))\n",
        "print(len(validation_sentences))\n",
        "print(len(validation_labels))\n",
        "\n",
        "# Expected output (if training_portion=.8)\n",
        "# 1780\n",
        "# 1780\n",
        "# 1780\n",
        "# 445\n",
        "# 445"
      ],
      "execution_count": 5,
      "outputs": [
        {
          "output_type": "stream",
          "text": [
            "1780\n",
            "1780\n",
            "1780\n",
            "445\n",
            "445\n"
          ],
          "name": "stdout"
        }
      ]
    },
    {
      "cell_type": "code",
      "metadata": {
        "id": "ULzA8xhwZI22",
        "colab_type": "code",
        "outputId": "e78f005b-f08e-42fc-92d8-e51527e8cfe2",
        "colab": {
          "base_uri": "https://localhost:8080/",
          "height": 119
        }
      },
      "source": [
        "tokenizer = Tokenizer(num_words=vocab_size, oov_token=oov_tok) # YOUR CODE HERE\n",
        "tokenizer.fit_on_texts(train_sentences) # YOUR CODE HERE)\n",
        "word_index = tokenizer.word_index # YOUR CODE HERE\n",
        "\n",
        "train_sequences = tokenizer.texts_to_sequences(train_sentences) # YOUR CODE HERE\n",
        "train_padded = pad_sequences(train_sequences, maxlen=max_length) # YOUR CODE HERE\n",
        "\n",
        "print(len(train_sequences[0]))\n",
        "print(len(train_padded[0]))\n",
        "\n",
        "print(len(train_sequences[1]))\n",
        "print(len(train_padded[1]))\n",
        "\n",
        "print(len(train_sequences[10]))\n",
        "print(len(train_padded[10]))\n",
        "\n",
        "# Expected Ouput\n",
        "# 449\n",
        "# 120\n",
        "# 200\n",
        "# 120\n",
        "# 192\n",
        "# 120"
      ],
      "execution_count": 6,
      "outputs": [
        {
          "output_type": "stream",
          "text": [
            "449\n",
            "120\n",
            "200\n",
            "120\n",
            "192\n",
            "120\n"
          ],
          "name": "stdout"
        }
      ]
    },
    {
      "cell_type": "code",
      "metadata": {
        "id": "c8PeFWzPZLW_",
        "colab_type": "code",
        "outputId": "fd584bcf-5afa-4b82-fc26-215cc4796ce1",
        "colab": {
          "base_uri": "https://localhost:8080/",
          "height": 51
        }
      },
      "source": [
        "validation_sequences = tokenizer.texts_to_sequences(validation_sentences) # YOUR CODE HERE\n",
        "validation_padded = pad_sequences(validation_sequences, maxlen=max_length) # YOUR CODE HERE\n",
        "\n",
        "print(len(validation_sequences))\n",
        "print(validation_padded.shape)\n",
        "\n",
        "# Expected output\n",
        "# 445\n",
        "# (445, 120)"
      ],
      "execution_count": 7,
      "outputs": [
        {
          "output_type": "stream",
          "text": [
            "445\n",
            "(445, 120)\n"
          ],
          "name": "stdout"
        }
      ]
    },
    {
      "cell_type": "code",
      "metadata": {
        "id": "XkWiQ_FKZNp2",
        "colab_type": "code",
        "outputId": "5aedea8c-e0b3-4381-b521-720377f5426b",
        "colab": {
          "base_uri": "https://localhost:8080/",
          "height": 153
        }
      },
      "source": [
        "label_tokenizer = Tokenizer() # YOUR CODE HERE\n",
        "label_tokenizer.fit_on_texts(np.array(train_labels)) # YOUR CODE HERE)\n",
        "\n",
        "training_label_seq = np.array(label_tokenizer.texts_to_sequences(train_labels)) # YOUR CODE HERE\n",
        "validation_label_seq = np.array(label_tokenizer.texts_to_sequences(validation_labels)) # YOUR CODE HERE\n",
        "\n",
        "print(training_label_seq[0])\n",
        "print(training_label_seq[1])\n",
        "print(training_label_seq[2])\n",
        "print(training_label_seq.shape)\n",
        "\n",
        "print(validation_label_seq[0])\n",
        "print(validation_label_seq[1])\n",
        "print(validation_label_seq[2])\n",
        "print(validation_label_seq.shape)\n",
        "\n",
        "# Expected output\n",
        "# [4]\n",
        "# [2]\n",
        "# [1]\n",
        "# (1780, 1)\n",
        "# [5]\n",
        "# [4]\n",
        "# [3]\n",
        "# (445, 1)"
      ],
      "execution_count": 8,
      "outputs": [
        {
          "output_type": "stream",
          "text": [
            "[5]\n",
            "[2]\n",
            "[1]\n",
            "(1780, 1)\n",
            "[4]\n",
            "[5]\n",
            "[3]\n",
            "(445, 1)\n"
          ],
          "name": "stdout"
        }
      ]
    },
    {
      "cell_type": "code",
      "metadata": {
        "id": "HZ5um4MWZP-W",
        "colab_type": "code",
        "outputId": "ab89d2a0-ec8d-4ff3-82bb-eca300ac2a12",
        "colab": {
          "base_uri": "https://localhost:8080/",
          "height": 411
        }
      },
      "source": [
        "model = tf.keras.Sequential([\n",
        "# YOUR CODE HERE\n",
        "tf.keras.layers.Embedding(input_dim=vocab_size, output_dim=embedding_dim, input_length=max_length), \n",
        "tf.keras.layers.GlobalAveragePooling1D(),\n",
        "tf.keras.layers.Dense(24, activation='relu'),\n",
        "tf.keras.layers.Dense(6, activation='softmax')\n",
        "])\n",
        "model.compile(loss='sparse_categorical_crossentropy',optimizer='adam',metrics=['accuracy'])\n",
        "model.summary()\n",
        "\n",
        "# Expected Output\n",
        "# Layer (type)                 Output Shape              Param #   \n",
        "# =================================================================\n",
        "# embedding (Embedding)        (None, 120, 16)           16000     \n",
        "# _________________________________________________________________\n",
        "# global_average_pooling1d (Gl (None, 16)                0         \n",
        "# _________________________________________________________________\n",
        "# dense (Dense)                (None, 24)                408       \n",
        "# _________________________________________________________________\n",
        "# dense_1 (Dense)              (None, 6)                 150       \n",
        "# =================================================================\n",
        "# Total params: 16,558\n",
        "# Trainable params: 16,558\n",
        "# Non-trainable params: 0"
      ],
      "execution_count": 9,
      "outputs": [
        {
          "output_type": "stream",
          "text": [
            "WARNING:tensorflow:From /usr/local/lib/python3.6/dist-packages/tensorflow_core/python/keras/initializers.py:119: calling RandomUniform.__init__ (from tensorflow.python.ops.init_ops) with dtype is deprecated and will be removed in a future version.\n",
            "Instructions for updating:\n",
            "Call initializer instance with the dtype argument instead of passing it to the constructor\n",
            "WARNING:tensorflow:From /usr/local/lib/python3.6/dist-packages/tensorflow_core/python/ops/resource_variable_ops.py:1630: calling BaseResourceVariable.__init__ (from tensorflow.python.ops.resource_variable_ops) with constraint is deprecated and will be removed in a future version.\n",
            "Instructions for updating:\n",
            "If using Keras pass *_constraint arguments to layers.\n",
            "Model: \"sequential\"\n",
            "_________________________________________________________________\n",
            "Layer (type)                 Output Shape              Param #   \n",
            "=================================================================\n",
            "embedding (Embedding)        (None, 120, 16)           16000     \n",
            "_________________________________________________________________\n",
            "global_average_pooling1d (Gl (None, 16)                0         \n",
            "_________________________________________________________________\n",
            "dense (Dense)                (None, 24)                408       \n",
            "_________________________________________________________________\n",
            "dense_1 (Dense)              (None, 6)                 150       \n",
            "=================================================================\n",
            "Total params: 16,558\n",
            "Trainable params: 16,558\n",
            "Non-trainable params: 0\n",
            "_________________________________________________________________\n"
          ],
          "name": "stdout"
        }
      ]
    },
    {
      "cell_type": "code",
      "metadata": {
        "id": "XsfdxySKZSXu",
        "colab_type": "code",
        "outputId": "75901315-1a02-4547-a6cb-d2c15b2f8736",
        "colab": {
          "base_uri": "https://localhost:8080/",
          "height": 1000
        }
      },
      "source": [
        "num_epochs = 30\n",
        "history = model.fit(train_padded, training_label_seq, batch_size=32, epochs=100, validation_data=(validation_padded, validation_label_seq)) # YOUR CODE HERE)"
      ],
      "execution_count": 10,
      "outputs": [
        {
          "output_type": "stream",
          "text": [
            "Train on 1780 samples, validate on 445 samples\n",
            "Epoch 1/100\n",
            "1780/1780 [==============================] - 1s 585us/sample - loss: 1.7683 - acc: 0.2416 - val_loss: 1.7403 - val_acc: 0.3124\n",
            "Epoch 2/100\n",
            "1780/1780 [==============================] - 0s 101us/sample - loss: 1.7062 - acc: 0.3073 - val_loss: 1.6638 - val_acc: 0.2404\n",
            "Epoch 3/100\n",
            "1780/1780 [==============================] - 0s 99us/sample - loss: 1.6144 - acc: 0.2831 - val_loss: 1.5652 - val_acc: 0.3978\n",
            "Epoch 4/100\n",
            "1780/1780 [==============================] - 0s 87us/sample - loss: 1.5000 - acc: 0.5208 - val_loss: 1.4408 - val_acc: 0.5933\n",
            "Epoch 5/100\n",
            "1780/1780 [==============================] - 0s 92us/sample - loss: 1.3397 - acc: 0.7393 - val_loss: 1.2631 - val_acc: 0.8022\n",
            "Epoch 6/100\n",
            "1780/1780 [==============================] - 0s 97us/sample - loss: 1.1295 - acc: 0.8640 - val_loss: 1.0547 - val_acc: 0.8180\n",
            "Epoch 7/100\n",
            "1780/1780 [==============================] - 0s 96us/sample - loss: 0.9120 - acc: 0.9000 - val_loss: 0.8603 - val_acc: 0.8831\n",
            "Epoch 8/100\n",
            "1780/1780 [==============================] - 0s 100us/sample - loss: 0.7205 - acc: 0.9174 - val_loss: 0.7020 - val_acc: 0.8854\n",
            "Epoch 9/100\n",
            "1780/1780 [==============================] - 0s 98us/sample - loss: 0.5721 - acc: 0.9365 - val_loss: 0.5815 - val_acc: 0.8966\n",
            "Epoch 10/100\n",
            "1780/1780 [==============================] - 0s 98us/sample - loss: 0.4596 - acc: 0.9438 - val_loss: 0.4923 - val_acc: 0.9101\n",
            "Epoch 11/100\n",
            "1780/1780 [==============================] - 0s 92us/sample - loss: 0.3756 - acc: 0.9494 - val_loss: 0.4342 - val_acc: 0.9169\n",
            "Epoch 12/100\n",
            "1780/1780 [==============================] - 0s 99us/sample - loss: 0.3126 - acc: 0.9567 - val_loss: 0.3816 - val_acc: 0.9124\n",
            "Epoch 13/100\n",
            "1780/1780 [==============================] - 0s 99us/sample - loss: 0.2640 - acc: 0.9657 - val_loss: 0.3547 - val_acc: 0.9236\n",
            "Epoch 14/100\n",
            "1780/1780 [==============================] - 0s 106us/sample - loss: 0.2254 - acc: 0.9708 - val_loss: 0.3212 - val_acc: 0.9213\n",
            "Epoch 15/100\n",
            "1780/1780 [==============================] - 0s 93us/sample - loss: 0.1943 - acc: 0.9719 - val_loss: 0.2980 - val_acc: 0.9303\n",
            "Epoch 16/100\n",
            "1780/1780 [==============================] - 0s 98us/sample - loss: 0.1693 - acc: 0.9753 - val_loss: 0.2808 - val_acc: 0.9303\n",
            "Epoch 17/100\n",
            "1780/1780 [==============================] - 0s 103us/sample - loss: 0.1493 - acc: 0.9792 - val_loss: 0.2638 - val_acc: 0.9371\n",
            "Epoch 18/100\n",
            "1780/1780 [==============================] - 0s 95us/sample - loss: 0.1323 - acc: 0.9809 - val_loss: 0.2552 - val_acc: 0.9348\n",
            "Epoch 19/100\n",
            "1780/1780 [==============================] - 0s 94us/sample - loss: 0.1178 - acc: 0.9831 - val_loss: 0.2435 - val_acc: 0.9348\n",
            "Epoch 20/100\n",
            "1780/1780 [==============================] - 0s 102us/sample - loss: 0.1049 - acc: 0.9854 - val_loss: 0.2414 - val_acc: 0.9326\n",
            "Epoch 21/100\n",
            "1780/1780 [==============================] - 0s 97us/sample - loss: 0.0939 - acc: 0.9882 - val_loss: 0.2306 - val_acc: 0.9371\n",
            "Epoch 22/100\n",
            "1780/1780 [==============================] - 0s 100us/sample - loss: 0.0846 - acc: 0.9916 - val_loss: 0.2252 - val_acc: 0.9371\n",
            "Epoch 23/100\n",
            "1780/1780 [==============================] - 0s 94us/sample - loss: 0.0765 - acc: 0.9921 - val_loss: 0.2219 - val_acc: 0.9326\n",
            "Epoch 24/100\n",
            "1780/1780 [==============================] - 0s 92us/sample - loss: 0.0692 - acc: 0.9933 - val_loss: 0.2155 - val_acc: 0.9438\n",
            "Epoch 25/100\n",
            "1780/1780 [==============================] - 0s 93us/sample - loss: 0.0627 - acc: 0.9944 - val_loss: 0.2156 - val_acc: 0.9438\n",
            "Epoch 26/100\n",
            "1780/1780 [==============================] - 0s 94us/sample - loss: 0.0568 - acc: 0.9961 - val_loss: 0.2095 - val_acc: 0.9461\n",
            "Epoch 27/100\n",
            "1780/1780 [==============================] - 0s 92us/sample - loss: 0.0516 - acc: 0.9966 - val_loss: 0.2083 - val_acc: 0.9416\n",
            "Epoch 28/100\n",
            "1780/1780 [==============================] - 0s 91us/sample - loss: 0.0469 - acc: 0.9972 - val_loss: 0.2028 - val_acc: 0.9506\n",
            "Epoch 29/100\n",
            "1780/1780 [==============================] - 0s 93us/sample - loss: 0.0429 - acc: 0.9972 - val_loss: 0.2040 - val_acc: 0.9438\n",
            "Epoch 30/100\n",
            "1780/1780 [==============================] - 0s 96us/sample - loss: 0.0390 - acc: 0.9989 - val_loss: 0.2022 - val_acc: 0.9461\n",
            "Epoch 31/100\n",
            "1780/1780 [==============================] - 0s 95us/sample - loss: 0.0357 - acc: 0.9989 - val_loss: 0.2001 - val_acc: 0.9506\n",
            "Epoch 32/100\n",
            "1780/1780 [==============================] - 0s 93us/sample - loss: 0.0326 - acc: 0.9994 - val_loss: 0.1998 - val_acc: 0.9506\n",
            "Epoch 33/100\n",
            "1780/1780 [==============================] - 0s 92us/sample - loss: 0.0300 - acc: 0.9994 - val_loss: 0.2013 - val_acc: 0.9438\n",
            "Epoch 34/100\n",
            "1780/1780 [==============================] - 0s 92us/sample - loss: 0.0276 - acc: 0.9994 - val_loss: 0.1970 - val_acc: 0.9506\n",
            "Epoch 35/100\n",
            "1780/1780 [==============================] - 0s 97us/sample - loss: 0.0251 - acc: 0.9994 - val_loss: 0.1983 - val_acc: 0.9528\n",
            "Epoch 36/100\n",
            "1780/1780 [==============================] - 0s 93us/sample - loss: 0.0233 - acc: 0.9994 - val_loss: 0.1957 - val_acc: 0.9506\n",
            "Epoch 37/100\n",
            "1780/1780 [==============================] - 0s 98us/sample - loss: 0.0214 - acc: 1.0000 - val_loss: 0.1977 - val_acc: 0.9461\n",
            "Epoch 38/100\n",
            "1780/1780 [==============================] - 0s 88us/sample - loss: 0.0198 - acc: 1.0000 - val_loss: 0.1954 - val_acc: 0.9506\n",
            "Epoch 39/100\n",
            "1780/1780 [==============================] - 0s 92us/sample - loss: 0.0182 - acc: 1.0000 - val_loss: 0.1988 - val_acc: 0.9483\n",
            "Epoch 40/100\n",
            "1780/1780 [==============================] - 0s 94us/sample - loss: 0.0169 - acc: 1.0000 - val_loss: 0.1960 - val_acc: 0.9506\n",
            "Epoch 41/100\n",
            "1780/1780 [==============================] - 0s 96us/sample - loss: 0.0157 - acc: 1.0000 - val_loss: 0.1966 - val_acc: 0.9528\n",
            "Epoch 42/100\n",
            "1780/1780 [==============================] - 0s 98us/sample - loss: 0.0147 - acc: 1.0000 - val_loss: 0.1957 - val_acc: 0.9506\n",
            "Epoch 43/100\n",
            "1780/1780 [==============================] - 0s 99us/sample - loss: 0.0137 - acc: 1.0000 - val_loss: 0.1962 - val_acc: 0.9528\n",
            "Epoch 44/100\n",
            "1780/1780 [==============================] - 0s 90us/sample - loss: 0.0126 - acc: 1.0000 - val_loss: 0.1977 - val_acc: 0.9528\n",
            "Epoch 45/100\n",
            "1780/1780 [==============================] - 0s 92us/sample - loss: 0.0118 - acc: 1.0000 - val_loss: 0.1986 - val_acc: 0.9528\n",
            "Epoch 46/100\n",
            "1780/1780 [==============================] - 0s 106us/sample - loss: 0.0110 - acc: 1.0000 - val_loss: 0.1985 - val_acc: 0.9528\n",
            "Epoch 47/100\n",
            "1780/1780 [==============================] - 0s 95us/sample - loss: 0.0102 - acc: 1.0000 - val_loss: 0.1989 - val_acc: 0.9528\n",
            "Epoch 48/100\n",
            "1780/1780 [==============================] - 0s 96us/sample - loss: 0.0096 - acc: 1.0000 - val_loss: 0.1999 - val_acc: 0.9528\n",
            "Epoch 49/100\n",
            "1780/1780 [==============================] - 0s 88us/sample - loss: 0.0090 - acc: 1.0000 - val_loss: 0.1992 - val_acc: 0.9551\n",
            "Epoch 50/100\n",
            "1780/1780 [==============================] - 0s 93us/sample - loss: 0.0084 - acc: 1.0000 - val_loss: 0.1994 - val_acc: 0.9528\n",
            "Epoch 51/100\n",
            "1780/1780 [==============================] - 0s 95us/sample - loss: 0.0079 - acc: 1.0000 - val_loss: 0.2003 - val_acc: 0.9528\n",
            "Epoch 52/100\n",
            "1780/1780 [==============================] - 0s 90us/sample - loss: 0.0074 - acc: 1.0000 - val_loss: 0.2002 - val_acc: 0.9551\n",
            "Epoch 53/100\n",
            "1780/1780 [==============================] - 0s 99us/sample - loss: 0.0070 - acc: 1.0000 - val_loss: 0.2007 - val_acc: 0.9528\n",
            "Epoch 54/100\n",
            "1780/1780 [==============================] - 0s 99us/sample - loss: 0.0066 - acc: 1.0000 - val_loss: 0.2020 - val_acc: 0.9551\n",
            "Epoch 55/100\n",
            "1780/1780 [==============================] - 0s 97us/sample - loss: 0.0062 - acc: 1.0000 - val_loss: 0.2026 - val_acc: 0.9551\n",
            "Epoch 56/100\n",
            "1780/1780 [==============================] - 0s 94us/sample - loss: 0.0059 - acc: 1.0000 - val_loss: 0.2036 - val_acc: 0.9551\n",
            "Epoch 57/100\n",
            "1780/1780 [==============================] - 0s 100us/sample - loss: 0.0056 - acc: 1.0000 - val_loss: 0.2041 - val_acc: 0.9551\n",
            "Epoch 58/100\n",
            "1780/1780 [==============================] - 0s 99us/sample - loss: 0.0052 - acc: 1.0000 - val_loss: 0.2034 - val_acc: 0.9551\n",
            "Epoch 59/100\n",
            "1780/1780 [==============================] - 0s 106us/sample - loss: 0.0049 - acc: 1.0000 - val_loss: 0.2042 - val_acc: 0.9528\n",
            "Epoch 60/100\n",
            "1780/1780 [==============================] - 0s 106us/sample - loss: 0.0047 - acc: 1.0000 - val_loss: 0.2050 - val_acc: 0.9551\n",
            "Epoch 61/100\n",
            "1780/1780 [==============================] - 0s 89us/sample - loss: 0.0044 - acc: 1.0000 - val_loss: 0.2057 - val_acc: 0.9551\n",
            "Epoch 62/100\n",
            "1780/1780 [==============================] - 0s 92us/sample - loss: 0.0042 - acc: 1.0000 - val_loss: 0.2061 - val_acc: 0.9551\n",
            "Epoch 63/100\n",
            "1780/1780 [==============================] - 0s 94us/sample - loss: 0.0040 - acc: 1.0000 - val_loss: 0.2072 - val_acc: 0.9551\n",
            "Epoch 64/100\n",
            "1780/1780 [==============================] - 0s 99us/sample - loss: 0.0038 - acc: 1.0000 - val_loss: 0.2074 - val_acc: 0.9551\n",
            "Epoch 65/100\n",
            "1780/1780 [==============================] - 0s 106us/sample - loss: 0.0036 - acc: 1.0000 - val_loss: 0.2088 - val_acc: 0.9551\n",
            "Epoch 66/100\n",
            "1780/1780 [==============================] - 0s 95us/sample - loss: 0.0034 - acc: 1.0000 - val_loss: 0.2100 - val_acc: 0.9551\n",
            "Epoch 67/100\n",
            "1780/1780 [==============================] - 0s 95us/sample - loss: 0.0032 - acc: 1.0000 - val_loss: 0.2101 - val_acc: 0.9551\n",
            "Epoch 68/100\n",
            "1780/1780 [==============================] - 0s 93us/sample - loss: 0.0031 - acc: 1.0000 - val_loss: 0.2113 - val_acc: 0.9551\n",
            "Epoch 69/100\n",
            "1780/1780 [==============================] - 0s 92us/sample - loss: 0.0029 - acc: 1.0000 - val_loss: 0.2105 - val_acc: 0.9551\n",
            "Epoch 70/100\n",
            "1780/1780 [==============================] - 0s 99us/sample - loss: 0.0028 - acc: 1.0000 - val_loss: 0.2120 - val_acc: 0.9551\n",
            "Epoch 71/100\n",
            "1780/1780 [==============================] - 0s 95us/sample - loss: 0.0026 - acc: 1.0000 - val_loss: 0.2125 - val_acc: 0.9551\n",
            "Epoch 72/100\n",
            "1780/1780 [==============================] - 0s 93us/sample - loss: 0.0025 - acc: 1.0000 - val_loss: 0.2135 - val_acc: 0.9551\n",
            "Epoch 73/100\n",
            "1780/1780 [==============================] - 0s 91us/sample - loss: 0.0024 - acc: 1.0000 - val_loss: 0.2139 - val_acc: 0.9551\n",
            "Epoch 74/100\n",
            "1780/1780 [==============================] - 0s 96us/sample - loss: 0.0023 - acc: 1.0000 - val_loss: 0.2151 - val_acc: 0.9551\n",
            "Epoch 75/100\n",
            "1780/1780 [==============================] - 0s 95us/sample - loss: 0.0022 - acc: 1.0000 - val_loss: 0.2154 - val_acc: 0.9551\n",
            "Epoch 76/100\n",
            "1780/1780 [==============================] - 0s 98us/sample - loss: 0.0021 - acc: 1.0000 - val_loss: 0.2160 - val_acc: 0.9551\n",
            "Epoch 77/100\n",
            "1780/1780 [==============================] - 0s 93us/sample - loss: 0.0020 - acc: 1.0000 - val_loss: 0.2161 - val_acc: 0.9551\n",
            "Epoch 78/100\n",
            "1780/1780 [==============================] - 0s 102us/sample - loss: 0.0019 - acc: 1.0000 - val_loss: 0.2172 - val_acc: 0.9551\n",
            "Epoch 79/100\n",
            "1780/1780 [==============================] - 0s 91us/sample - loss: 0.0018 - acc: 1.0000 - val_loss: 0.2180 - val_acc: 0.9528\n",
            "Epoch 80/100\n",
            "1780/1780 [==============================] - 0s 91us/sample - loss: 0.0017 - acc: 1.0000 - val_loss: 0.2186 - val_acc: 0.9551\n",
            "Epoch 81/100\n",
            "1780/1780 [==============================] - 0s 95us/sample - loss: 0.0017 - acc: 1.0000 - val_loss: 0.2194 - val_acc: 0.9551\n",
            "Epoch 82/100\n",
            "1780/1780 [==============================] - 0s 97us/sample - loss: 0.0016 - acc: 1.0000 - val_loss: 0.2195 - val_acc: 0.9528\n",
            "Epoch 83/100\n",
            "1780/1780 [==============================] - 0s 95us/sample - loss: 0.0015 - acc: 1.0000 - val_loss: 0.2209 - val_acc: 0.9528\n",
            "Epoch 84/100\n",
            "1780/1780 [==============================] - 0s 98us/sample - loss: 0.0015 - acc: 1.0000 - val_loss: 0.2218 - val_acc: 0.9528\n",
            "Epoch 85/100\n",
            "1780/1780 [==============================] - 0s 100us/sample - loss: 0.0014 - acc: 1.0000 - val_loss: 0.2223 - val_acc: 0.9528\n",
            "Epoch 86/100\n",
            "1780/1780 [==============================] - 0s 95us/sample - loss: 0.0013 - acc: 1.0000 - val_loss: 0.2229 - val_acc: 0.9528\n",
            "Epoch 87/100\n",
            "1780/1780 [==============================] - 0s 93us/sample - loss: 0.0013 - acc: 1.0000 - val_loss: 0.2233 - val_acc: 0.9528\n",
            "Epoch 88/100\n",
            "1780/1780 [==============================] - 0s 105us/sample - loss: 0.0012 - acc: 1.0000 - val_loss: 0.2245 - val_acc: 0.9528\n",
            "Epoch 89/100\n",
            "1780/1780 [==============================] - 0s 97us/sample - loss: 0.0012 - acc: 1.0000 - val_loss: 0.2252 - val_acc: 0.9551\n",
            "Epoch 90/100\n",
            "1780/1780 [==============================] - 0s 95us/sample - loss: 0.0011 - acc: 1.0000 - val_loss: 0.2254 - val_acc: 0.9551\n",
            "Epoch 91/100\n",
            "1780/1780 [==============================] - 0s 90us/sample - loss: 0.0011 - acc: 1.0000 - val_loss: 0.2266 - val_acc: 0.9551\n",
            "Epoch 92/100\n",
            "1780/1780 [==============================] - 0s 94us/sample - loss: 0.0010 - acc: 1.0000 - val_loss: 0.2272 - val_acc: 0.9551\n",
            "Epoch 93/100\n",
            "1780/1780 [==============================] - 0s 88us/sample - loss: 9.9066e-04 - acc: 1.0000 - val_loss: 0.2278 - val_acc: 0.9551\n",
            "Epoch 94/100\n",
            "1780/1780 [==============================] - 0s 98us/sample - loss: 9.5233e-04 - acc: 1.0000 - val_loss: 0.2290 - val_acc: 0.9551\n",
            "Epoch 95/100\n",
            "1780/1780 [==============================] - 0s 96us/sample - loss: 9.1309e-04 - acc: 1.0000 - val_loss: 0.2294 - val_acc: 0.9551\n",
            "Epoch 96/100\n",
            "1780/1780 [==============================] - 0s 97us/sample - loss: 8.7606e-04 - acc: 1.0000 - val_loss: 0.2300 - val_acc: 0.9551\n",
            "Epoch 97/100\n",
            "1780/1780 [==============================] - 0s 92us/sample - loss: 8.4023e-04 - acc: 1.0000 - val_loss: 0.2311 - val_acc: 0.9551\n",
            "Epoch 98/100\n",
            "1780/1780 [==============================] - 0s 93us/sample - loss: 8.0707e-04 - acc: 1.0000 - val_loss: 0.2310 - val_acc: 0.9551\n",
            "Epoch 99/100\n",
            "1780/1780 [==============================] - 0s 93us/sample - loss: 7.7633e-04 - acc: 1.0000 - val_loss: 0.2316 - val_acc: 0.9551\n",
            "Epoch 100/100\n",
            "1780/1780 [==============================] - 0s 97us/sample - loss: 7.4706e-04 - acc: 1.0000 - val_loss: 0.2329 - val_acc: 0.9551\n"
          ],
          "name": "stdout"
        }
      ]
    },
    {
      "cell_type": "code",
      "metadata": {
        "id": "dQ0BX2apXS9u",
        "colab_type": "code",
        "outputId": "28487446-073c-49f6-d056-4f17188b6629",
        "colab": {
          "base_uri": "https://localhost:8080/",
          "height": 541
        }
      },
      "source": [
        "import matplotlib.pyplot as plt\n",
        "\n",
        "def plot_graphs(history, string):\n",
        "  plt.plot(history.history[string])\n",
        "  plt.plot(history.history['val_'+string])\n",
        "  plt.xlabel(\"Epochs\")\n",
        "  plt.ylabel(string)\n",
        "  plt.legend([string, 'val_'+string])\n",
        "  plt.show()\n",
        "  \n",
        "plot_graphs(history, \"acc\")\n",
        "plot_graphs(history, \"loss\")"
      ],
      "execution_count": 11,
      "outputs": [
        {
          "output_type": "display_data",
          "data": {
            "image/png": "[encoded data removed]",
            "text/plain": [
              "<Figure size 432x288 with 1 Axes>"
            ]
          },
          "metadata": {
            "tags": []
          }
        },
        {
          "output_type": "display_data",
          "data": {
            "image/png": "[encoded data removed]",
            "text/plain": [
              "<Figure size 432x288 with 1 Axes>"
            ]
          },
          "metadata": {
            "tags": []
          }
        }
      ]
    },
    {
      "cell_type": "code",
      "metadata": {
        "id": "w7Xc-uWxXhML",
        "colab_type": "code",
        "colab": {}
      },
      "source": [
        "reverse_word_index = dict([(value, key) for (key, value) in word_index.items()])\n",
        "\n",
        "def decode_sentence(text):\n",
        "    return ' '.join([reverse_word_index.get(i, '?') for i in text])\n"
      ],
      "execution_count": 0,
      "outputs": []
    },
    {
      "cell_type": "code",
      "metadata": {
        "id": "OhnFA_TDXrih",
        "colab_type": "code",
        "outputId": "ebd0da71-8d92-4e02-9c28-f307b9f0c58d",
        "colab": {
          "base_uri": "https://localhost:8080/",
          "height": 34
        }
      },
      "source": [
        "e = model.layers[0]\n",
        "weights = e.get_weights()[0]\n",
        "print(weights.shape) # shape: (vocab_size, embedding_dim)\n",
        "\n",
        "# Expected output\n",
        "# (1000, 16)"
      ],
      "execution_count": 13,
      "outputs": [
        {
          "output_type": "stream",
          "text": [
            "(1000, 16)\n"
          ],
          "name": "stdout"
        }
      ]
    },
    {
      "cell_type": "code",
      "metadata": {
        "id": "_POzcWWAXudL",
        "colab_type": "code",
        "colab": {}
      },
      "source": [
        "import io\n",
        "\n",
        "out_v = io.open('vecs.tsv', 'w', encoding='utf-8')\n",
        "out_m = io.open('meta.tsv', 'w', encoding='utf-8')\n",
        "for word_num in range(1, vocab_size):\n",
        "  word = reverse_word_index[word_num]\n",
        "  embeddings = weights[word_num]\n",
        "  out_m.write(word + \"\\n\")\n",
        "  out_v.write('\\t'.join([str(x) for x in embeddings]) + \"\\n\")\n",
        "out_v.close()\n",
        "out_m.close()"
      ],
      "execution_count": 0,
      "outputs": []
    },
    {
      "cell_type": "code",
      "metadata": {
        "id": "VmqpQMZ_XyOa",
        "colab_type": "code",
        "colab": {}
      },
      "source": [
        "try:\n",
        "  from google.colab import files\n",
        "except ImportError:\n",
        "  pass\n",
        "else:\n",
        "  files.download('vecs.tsv')\n",
        "  files.download('meta.tsv')"
      ],
      "execution_count": 0,
      "outputs": []
    },
    {
      "cell_type": "code",
      "metadata": {
        "id": "05Bmy76pqiHj",
        "colab_type": "code",
        "colab": {}
      },
      "source": [
        ""
      ],
      "execution_count": 0,
      "outputs": []
    }
  ]
}