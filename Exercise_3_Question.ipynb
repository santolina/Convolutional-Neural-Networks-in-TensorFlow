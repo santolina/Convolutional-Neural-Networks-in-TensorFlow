{
  "nbformat": 4,
  "nbformat_minor": 0,
  "metadata": {
    "colab": {
      "name": "Exercise 3 - Question",
      "provenance": [],
      "collapsed_sections": [],
      "include_colab_link": true
    },
    "kernelspec": {
      "name": "python3",
      "display_name": "Python 3"
    }
  },
  "cells": [
    {
      "cell_type": "markdown",
      "metadata": {
        "id": "view-in-github",
        "colab_type": "text"
      },
      "source": [
        "<a href=\"https://colab.research.google.com/github/santolina/Convolutional-Neural-Networks-in-TensorFlow/blob/master/Exercise_3_Question.ipynb\" target=\"_parent\"><img src=\"https://colab.research.google.com/assets/colab-badge.svg\" alt=\"Open In Colab\"/></a>"
      ]
    },
    {
      "cell_type": "markdown",
      "metadata": {
        "id": "iQjHqsmTAVLU",
        "colab_type": "text"
      },
      "source": [
        "## Exercise 3\n",
        "In the videos you looked at how you would improve Fashion MNIST using Convolutions. For your exercise see if you can improve MNIST to 99.8% accuracy or more using only a single convolutional layer and a single MaxPooling 2D. You should stop training once the accuracy goes above this amount. It should happen in less than 20 epochs, so it's ok to hard code the number of epochs for training, but your training must end once it hits the above metric. If it doesn't, then you'll need to redesign your layers.\n",
        "\n",
        "I've started the code for you -- you need to finish it!\n",
        "\n",
        "When 99.8% accuracy has been hit, you should print out the string \"Reached 99.8% accuracy so cancelling training!\"\n"
      ]
    },
    {
      "cell_type": "code",
      "metadata": {
        "id": "sfQRyaJWAIdg",
        "colab_type": "code",
        "colab": {
          "base_uri": "https://localhost:8080/",
          "height": 695
        },
        "outputId": "fac218ed-0f1c-4561-bae8-2cca5e5dd02b"
      },
      "source": [
        "import tensorflow as tf\n",
        "\n",
        "# YOUR CODE STARTS HERE\n",
        "class myCallback(tf.keras.callbacks.Callback):\n",
        "  def on_epoch_end(self, epoch, logs={}):\n",
        "    if(logs.get('acc')>0.998):\n",
        "      print(\"Reached 99.8% accuracy so cancelling training!\")\n",
        "      self.model.stop_training = True    \n",
        "# YOUR CODE ENDS HERE\n",
        "\n",
        "mnist = tf.keras.datasets.mnist\n",
        "(training_images, training_labels), (test_images, test_labels) = mnist.load_data()\n",
        "\n",
        "# YOUR CODE STARTS HERE\n",
        "training_images = training_images.reshape((training_images.shape[0], training_images.shape[1], training_images.shape[2], 1)) / 255.    \n",
        "callbacks = myCallback()\n",
        "# YOUR CODE ENDS HERE\n",
        "\n",
        "model = tf.keras.models.Sequential([\n",
        "    # YOUR CODE STARTS HERE\n",
        "            tf.keras.layers.Conv2D(64, kernel_size=(3,3), input_shape=(28,28,1), activation='relu'),\n",
        "            tf.keras.layers.MaxPool2D((2,2)),\n",
        "            tf.keras.layers.Flatten(),\n",
        "            #tf.keras.layers.Dense(512, activation='softmax')\n",
        "            tf.keras.layers.Dense(10, activation='softmax')\n",
        "    # YOUR CODE ENDS HERE\n",
        "])\n",
        "\n",
        "# YOUR CODE STARTS HERE\n",
        "model.compile(optimizer='adam', loss='sparse_categorical_crossentropy', metrics=['accuracy'])\n",
        "# model fitting\n",
        "history = model.fit(\n",
        "        # YOUR CODE STARTS HERE\n",
        "        training_images, training_labels, epochs=20, callbacks=[callbacks]\n",
        "        # YOUR CODE ENDS HERE\n",
        "    )\n",
        "# YOUR CODE ENDS HERE\n",
        "\n",
        "\n"
      ],
      "execution_count": 1,
      "outputs": [
        {
          "output_type": "display_data",
          "data": {
            "text/html": [
              "<p style=\"color: red;\">\n",
              "The default version of TensorFlow in Colab will soon switch to TensorFlow 2.x.<br>\n",
              "We recommend you <a href=\"https://www.tensorflow.org/guide/migrate\" target=\"_blank\">upgrade</a> now \n",
              "or ensure your notebook will continue to use TensorFlow 1.x via the <code>%tensorflow_version 1.x</code> magic:\n",
              "<a href=\"https://colab.research.google.com/notebooks/tensorflow_version.ipynb\" target=\"_blank\">more info</a>.</p>\n"
            ],
            "text/plain": [
              "<IPython.core.display.HTML object>"
            ]
          },
          "metadata": {
            "tags": []
          }
        },
        {
          "output_type": "stream",
          "text": [
            "Downloading data from https://storage.googleapis.com/tensorflow/tf-keras-datasets/mnist.npz\n",
            "11493376/11490434 [==============================] - 0s 0us/step\n",
            "WARNING:tensorflow:From /usr/local/lib/python3.6/dist-packages/tensorflow_core/python/ops/resource_variable_ops.py:1630: calling BaseResourceVariable.__init__ (from tensorflow.python.ops.resource_variable_ops) with constraint is deprecated and will be removed in a future version.\n",
            "Instructions for updating:\n",
            "If using Keras pass *_constraint arguments to layers.\n",
            "Train on 60000 samples\n",
            "Epoch 1/20\n",
            "60000/60000 [==============================] - 36s 595us/sample - loss: 0.1789 - acc: 0.9497\n",
            "Epoch 2/20\n",
            "60000/60000 [==============================] - 35s 583us/sample - loss: 0.0691 - acc: 0.9798\n",
            "Epoch 3/20\n",
            "60000/60000 [==============================] - 35s 591us/sample - loss: 0.0533 - acc: 0.9842\n",
            "Epoch 4/20\n",
            "60000/60000 [==============================] - 35s 581us/sample - loss: 0.0438 - acc: 0.9861\n",
            "Epoch 5/20\n",
            "60000/60000 [==============================] - 35s 576us/sample - loss: 0.0346 - acc: 0.9895\n",
            "Epoch 6/20\n",
            "60000/60000 [==============================] - 35s 579us/sample - loss: 0.0282 - acc: 0.9915\n",
            "Epoch 7/20\n",
            "60000/60000 [==============================] - 35s 581us/sample - loss: 0.0223 - acc: 0.9932\n",
            "Epoch 8/20\n",
            "60000/60000 [==============================] - 35s 578us/sample - loss: 0.0184 - acc: 0.9944\n",
            "Epoch 9/20\n",
            "60000/60000 [==============================] - 35s 577us/sample - loss: 0.0153 - acc: 0.9952\n",
            "Epoch 10/20\n",
            "60000/60000 [==============================] - 35s 583us/sample - loss: 0.0116 - acc: 0.9965\n",
            "Epoch 11/20\n",
            "60000/60000 [==============================] - 35s 584us/sample - loss: 0.0098 - acc: 0.9972\n",
            "Epoch 12/20\n",
            "60000/60000 [==============================] - 35s 591us/sample - loss: 0.0074 - acc: 0.9979\n",
            "Epoch 13/20\n",
            "60000/60000 [==============================] - 35s 584us/sample - loss: 0.0068 - acc: 0.9979\n",
            "Epoch 14/20\n",
            "59904/60000 [============================>.] - ETA: 0s - loss: 0.0056 - acc: 0.9985Reached 99.8% accuracy so cancelling training!\n",
            "60000/60000 [==============================] - 35s 583us/sample - loss: 0.0056 - acc: 0.9985\n"
          ],
          "name": "stdout"
        }
      ]
    },
    {
      "cell_type": "code",
      "metadata": {
        "id": "DIGJqxFOrDHd",
        "colab_type": "code",
        "colab": {}
      },
      "source": [
        "import matplotlib.pyplot as plt"
      ],
      "execution_count": 0,
      "outputs": []
    },
    {
      "cell_type": "code",
      "metadata": {
        "id": "XOJzppDQrH64",
        "colab_type": "code",
        "colab": {
          "base_uri": "https://localhost:8080/",
          "height": 265
        },
        "outputId": "76f056ad-5d62-42d5-b641-fba73a554686"
      },
      "source": [
        "plt.plot(history.history['acc'], label='acc')\n",
        "plt.plot(history.history['loss'], label='loss')\n",
        "plt.grid(True)\n",
        "plt.show()"
      ],
      "execution_count": 4,
      "outputs": [
        {
          "output_type": "display_data",
          "data": {
            "image/png": "[encoded data removed]",
            "text/plain": [
              "<Figure size 432x288 with 1 Axes>"
            ]
          },
          "metadata": {
            "tags": []
          }
        }
      ]
    },
    {
      "cell_type": "code",
      "metadata": {
        "id": "w_6yNZExrRh7",
        "colab_type": "code",
        "colab": {}
      },
      "source": [
        ""
      ],
      "execution_count": 0,
      "outputs": []
    }
  ]
}