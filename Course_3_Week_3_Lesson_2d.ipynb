{
  "nbformat": 4,
  "nbformat_minor": 0,
  "metadata": {
    "colab": {
      "name": "Course 3 - Week 3 - Lesson 2d",
      "provenance": [],
      "collapsed_sections": [],
      "include_colab_link": true
    },
    "kernelspec": {
      "name": "python3",
      "display_name": "Python 3"
    },
    "accelerator": "GPU"
  },
  "cells": [
    {
      "cell_type": "markdown",
      "metadata": {
        "id": "view-in-github",
        "colab_type": "text"
      },
      "source": [
        "<a href=\"https://colab.research.google.com/github/santolina/Convolutional-Neural-Networks-in-TensorFlow/blob/master/Course_3_Week_3_Lesson_2d.ipynb\" target=\"_parent\"><img src=\"https://colab.research.google.com/assets/colab-badge.svg\" alt=\"Open In Colab\"/></a>"
      ]
    },
    {
      "cell_type": "code",
      "metadata": {
        "id": "P-AhVYeBWgQ3",
        "colab_type": "code",
        "colab": {
          "base_uri": "https://localhost:8080/",
          "height": 34
        },
        "outputId": "a57da7b4-dac3-4d2e-e392-cb1d1ae443e5"
      },
      "source": [
        "# NOTE: PLEASE MAKE SURE YOU ARE RUNNING THIS IN A PYTHON3 ENVIRONMENT\n",
        "\n",
        "import tensorflow as tf\n",
        "print(tf.__version__)\n",
        "\n",
        "# This is needed for the iterator over the data\n",
        "# But not necessary if you have TF 2.0 installed\n",
        "#!pip install tensorflow==2.0.0-beta0\n",
        "\n",
        "\n",
        "tf.enable_eager_execution()\n",
        "\n",
        "# !pip install -q tensorflow-datasets"
      ],
      "execution_count": 13,
      "outputs": [
        {
          "output_type": "stream",
          "text": [
            "1.15.0\n"
          ],
          "name": "stdout"
        }
      ]
    },
    {
      "cell_type": "code",
      "metadata": {
        "id": "_IoM4VFxWpMR",
        "colab_type": "code",
        "colab": {}
      },
      "source": [
        "import tensorflow_datasets as tfds\n",
        "imdb, info = tfds.load(\"imdb_reviews\", with_info=True, as_supervised=True)\n"
      ],
      "execution_count": 0,
      "outputs": []
    },
    {
      "cell_type": "code",
      "metadata": {
        "id": "wHQ2Ko0zl7M4",
        "colab_type": "code",
        "colab": {}
      },
      "source": [
        "import numpy as np\n",
        "\n",
        "train_data, test_data = imdb['train'], imdb['test']\n",
        "\n",
        "training_sentences = []\n",
        "training_labels = []\n",
        "\n",
        "testing_sentences = []\n",
        "testing_labels = []\n",
        "\n",
        "# str(s.tonumpy()) is needed in Python3 instead of just s.numpy()\n",
        "for s,l in train_data:\n",
        "  training_sentences.append(str(s.numpy()))\n",
        "  training_labels.append(l.numpy())\n",
        "  \n",
        "for s,l in test_data:\n",
        "  testing_sentences.append(str(s.numpy()))\n",
        "  testing_labels.append(l.numpy())\n",
        "  \n",
        "training_labels_final = np.array(training_labels)\n",
        "testing_labels_final = np.array(testing_labels)\n"
      ],
      "execution_count": 0,
      "outputs": []
    },
    {
      "cell_type": "code",
      "metadata": {
        "id": "7n15yyMdmoH1",
        "colab_type": "code",
        "colab": {}
      },
      "source": [
        "vocab_size = 10000\n",
        "embedding_dim = 16\n",
        "max_length = 120\n",
        "trunc_type='post'\n",
        "oov_tok = \"<OOV>\"\n",
        "\n",
        "\n",
        "from tensorflow.keras.preprocessing.text import Tokenizer\n",
        "from tensorflow.keras.preprocessing.sequence import pad_sequences\n",
        "\n",
        "tokenizer = Tokenizer(num_words = vocab_size, oov_token=oov_tok)\n",
        "tokenizer.fit_on_texts(training_sentences)\n",
        "word_index = tokenizer.word_index\n",
        "sequences = tokenizer.texts_to_sequences(training_sentences)\n",
        "padded = pad_sequences(sequences,maxlen=max_length, truncating=trunc_type)\n",
        "\n",
        "testing_sequences = tokenizer.texts_to_sequences(testing_sentences)\n",
        "testing_padded = pad_sequences(testing_sequences,maxlen=max_length)\n",
        "\n"
      ],
      "execution_count": 0,
      "outputs": []
    },
    {
      "cell_type": "code",
      "metadata": {
        "colab_type": "code",
        "id": "9axf0uIXVMhO",
        "colab": {
          "base_uri": "https://localhost:8080/",
          "height": 71
        },
        "outputId": "33cf4384-0bee-42aa-aed7-43390bdf1d90"
      },
      "source": [
        "reverse_word_index = dict([(value, key) for (key, value) in word_index.items()])\n",
        "\n",
        "def decode_review(text):\n",
        "    return ' '.join([reverse_word_index.get(i, '?') for i in text])\n",
        "\n",
        "print(decode_review(padded[1]))\n",
        "print(training_sentences[1])"
      ],
      "execution_count": 17,
      "outputs": [
        {
          "output_type": "stream",
          "text": [
            "b oh yeah jenna jameson did it again yeah baby this movie rocks it was one of the 1st movies i saw of her and i have to say i feel in love with her she was great in this move br br her performance was outstanding and what i liked the most was the scenery and the wardrobe it was amazing you can tell that they put a lot into the movie the girls cloth were amazing br br i hope this comment helps and u can buy the movie the storyline is awesome is very unique and i'm sure u are going to like it jenna amazed us once more and no wonder the movie won so many\n",
            "b\"Oh yeah! Jenna Jameson did it again! Yeah Baby! This movie rocks. It was one of the 1st movies i saw of her. And i have to say i feel in love with her, she was great in this move.<br /><br />Her performance was outstanding and what i liked the most was the scenery and the wardrobe it was amazing you can tell that they put a lot into the movie the girls cloth were amazing.<br /><br />I hope this comment helps and u can buy the movie, the storyline is awesome is very unique and i'm sure u are going to like it. Jenna amazed us once more and no wonder the movie won so many awards. Her make-up and wardrobe is very very sexy and the girls on girls scene is amazing. specially the one where she looks like an angel. It's a must see and i hope u share my interests\"\n"
          ],
          "name": "stdout"
        }
      ]
    },
    {
      "cell_type": "code",
      "metadata": {
        "id": "W_6nV-a_XlIt",
        "colab_type": "code",
        "colab": {}
      },
      "source": [
        "# Define a Callback class that stops training once accuracy reaches 99.9%\n",
        "class myCallback(tf.keras.callbacks.Callback):\n",
        "  def on_epoch_end(self, epoch, logs={}):\n",
        "    if(logs.get('acc')>0.999):\n",
        "      print(\"\\nReached 99.9% accuracy so cancelling training!\")\n",
        "      self.model.stop_training = True"
      ],
      "execution_count": 0,
      "outputs": []
    },
    {
      "cell_type": "code",
      "metadata": {
        "id": "5NEpdhb8AxID",
        "colab_type": "code",
        "colab": {
          "base_uri": "https://localhost:8080/",
          "height": 289
        },
        "outputId": "e8037bfb-13de-4857-ceda-464c866e6cef"
      },
      "source": [
        "model = tf.keras.Sequential([\n",
        "    tf.keras.layers.Embedding(vocab_size, embedding_dim, input_length=max_length),\n",
        "    tf.keras.layers.Bidirectional(tf.keras.layers.GRU(32)),\n",
        "    tf.keras.layers.Dense(6, activation='relu'),\n",
        "    tf.keras.layers.Dense(1, activation='sigmoid')\n",
        "])\n",
        "model.compile(loss='binary_crossentropy',optimizer='adam',metrics=['acc'])\n",
        "#model.compile(loss='binary_crossentropy',optimizer='sgd',metrics=['acc'])\n",
        "\n",
        "model.summary()\n"
      ],
      "execution_count": 23,
      "outputs": [
        {
          "output_type": "stream",
          "text": [
            "Model: \"sequential_3\"\n",
            "_________________________________________________________________\n",
            "Layer (type)                 Output Shape              Param #   \n",
            "=================================================================\n",
            "embedding_3 (Embedding)      (None, 120, 16)           160000    \n",
            "_________________________________________________________________\n",
            "bidirectional_3 (Bidirection (None, 64)                9408      \n",
            "_________________________________________________________________\n",
            "dense_6 (Dense)              (None, 6)                 390       \n",
            "_________________________________________________________________\n",
            "dense_7 (Dense)              (None, 1)                 7         \n",
            "=================================================================\n",
            "Total params: 169,805\n",
            "Trainable params: 169,805\n",
            "Non-trainable params: 0\n",
            "_________________________________________________________________\n"
          ],
          "name": "stdout"
        }
      ]
    },
    {
      "cell_type": "code",
      "metadata": {
        "id": "V5LLrXC-uNX6",
        "colab_type": "code",
        "colab": {
          "base_uri": "https://localhost:8080/",
          "height": 972
        },
        "outputId": "66a06c38-bc07-40ab-9467-cea538a5f28f"
      },
      "source": [
        "num_epochs = 50\n",
        "callback = myCallback()\n",
        "history = model.fit(padded, training_labels_final, epochs=num_epochs, validation_data=(testing_padded, testing_labels_final), callbacks=[callback])"
      ],
      "execution_count": 24,
      "outputs": [
        {
          "output_type": "stream",
          "text": [
            "Train on 25000 samples, validate on 25000 samples\n",
            "Epoch 1/50\n",
            "25000/25000 [==============================] - 379s 15ms/sample - loss: 0.4973 - acc: 0.7405 - val_loss: 0.3835 - val_acc: 0.8325\n",
            "Epoch 2/50\n",
            "25000/25000 [==============================] - 375s 15ms/sample - loss: 0.3009 - acc: 0.8794 - val_loss: 0.3535 - val_acc: 0.8443\n",
            "Epoch 3/50\n",
            "25000/25000 [==============================] - 374s 15ms/sample - loss: 0.2322 - acc: 0.9107 - val_loss: 0.3803 - val_acc: 0.8388\n",
            "Epoch 4/50\n",
            "25000/25000 [==============================] - 370s 15ms/sample - loss: 0.1772 - acc: 0.9356 - val_loss: 0.4438 - val_acc: 0.8199\n",
            "Epoch 5/50\n",
            "25000/25000 [==============================] - 370s 15ms/sample - loss: 0.1357 - acc: 0.9518 - val_loss: 0.5390 - val_acc: 0.8273\n",
            "Epoch 6/50\n",
            "25000/25000 [==============================] - 371s 15ms/sample - loss: 0.0987 - acc: 0.9667 - val_loss: 0.6081 - val_acc: 0.8189\n",
            "Epoch 7/50\n",
            "25000/25000 [==============================] - 376s 15ms/sample - loss: 0.0705 - acc: 0.9764 - val_loss: 0.6738 - val_acc: 0.8128\n",
            "Epoch 8/50\n",
            "25000/25000 [==============================] - 365s 15ms/sample - loss: 0.0535 - acc: 0.9819 - val_loss: 0.7190 - val_acc: 0.8118\n",
            "Epoch 9/50\n",
            "25000/25000 [==============================] - 360s 14ms/sample - loss: 0.0413 - acc: 0.9854 - val_loss: 0.8054 - val_acc: 0.8087\n",
            "Epoch 10/50\n",
            "25000/25000 [==============================] - 359s 14ms/sample - loss: 0.0256 - acc: 0.9918 - val_loss: 0.9344 - val_acc: 0.8104\n",
            "Epoch 11/50\n",
            "25000/25000 [==============================] - 360s 14ms/sample - loss: 0.0281 - acc: 0.9905 - val_loss: 0.9412 - val_acc: 0.8090\n",
            "Epoch 12/50\n",
            "25000/25000 [==============================] - 375s 15ms/sample - loss: 0.0245 - acc: 0.9917 - val_loss: 0.9675 - val_acc: 0.8080\n",
            "Epoch 13/50\n",
            "25000/25000 [==============================] - 381s 15ms/sample - loss: 0.0152 - acc: 0.9949 - val_loss: 1.0813 - val_acc: 0.8012\n",
            "Epoch 14/50\n",
            "25000/25000 [==============================] - 399s 16ms/sample - loss: 0.0176 - acc: 0.9940 - val_loss: 1.0631 - val_acc: 0.8099\n",
            "Epoch 15/50\n",
            "25000/25000 [==============================] - 387s 15ms/sample - loss: 0.0154 - acc: 0.9946 - val_loss: 1.2111 - val_acc: 0.8000\n",
            "Epoch 16/50\n",
            "25000/25000 [==============================] - 390s 16ms/sample - loss: 0.0134 - acc: 0.9961 - val_loss: 1.1416 - val_acc: 0.8082\n",
            "Epoch 17/50\n",
            "25000/25000 [==============================] - 391s 16ms/sample - loss: 0.0064 - acc: 0.9982 - val_loss: 1.2431 - val_acc: 0.8092\n",
            "Epoch 18/50\n",
            "25000/25000 [==============================] - 392s 16ms/sample - loss: 0.0100 - acc: 0.9963 - val_loss: 1.1994 - val_acc: 0.8052\n",
            "Epoch 19/50\n",
            "25000/25000 [==============================] - 393s 16ms/sample - loss: 0.0104 - acc: 0.9964 - val_loss: 1.2120 - val_acc: 0.8028\n",
            "Epoch 20/50\n",
            "25000/25000 [==============================] - 393s 16ms/sample - loss: 0.0068 - acc: 0.9977 - val_loss: 1.2867 - val_acc: 0.8062\n",
            "Epoch 21/50\n",
            "25000/25000 [==============================] - 394s 16ms/sample - loss: 0.0051 - acc: 0.9984 - val_loss: 1.3897 - val_acc: 0.7959\n",
            "Epoch 22/50\n",
            "25000/25000 [==============================] - 396s 16ms/sample - loss: 0.0080 - acc: 0.9970 - val_loss: 1.3403 - val_acc: 0.8068\n",
            "Epoch 23/50\n",
            "25000/25000 [==============================] - 394s 16ms/sample - loss: 0.0074 - acc: 0.9978 - val_loss: 1.3549 - val_acc: 0.8036\n",
            "Epoch 24/50\n",
            "25000/25000 [==============================] - 393s 16ms/sample - loss: 0.0065 - acc: 0.9978 - val_loss: 1.3559 - val_acc: 0.8084\n",
            "Epoch 25/50\n",
            "25000/25000 [==============================] - 394s 16ms/sample - loss: 0.0039 - acc: 0.9986 - val_loss: 1.4467 - val_acc: 0.8035\n",
            "Epoch 26/50\n",
            "24992/25000 [============================>.] - ETA: 0s - loss: 0.0023 - acc: 0.9994\n",
            "Reached 99.9% accuracy so cancelling training!\n",
            "25000/25000 [==============================] - 393s 16ms/sample - loss: 0.0023 - acc: 0.9994 - val_loss: 1.5290 - val_acc: 0.8076\n"
          ],
          "name": "stdout"
        }
      ]
    },
    {
      "cell_type": "code",
      "metadata": {
        "id": "nHGYuU4jPYaj",
        "colab_type": "code",
        "colab": {
          "base_uri": "https://localhost:8080/",
          "height": 545
        },
        "outputId": "8d2f5252-d81b-4b28-c643-79cfe96d82b3"
      },
      "source": [
        "import matplotlib.pyplot as plt\n",
        "\n",
        "\n",
        "def plot_graphs(history, string):\n",
        "  plt.plot(history.history[string])\n",
        "  plt.plot(history.history['val_'+string])\n",
        "  plt.xlabel(\"Epochs\")\n",
        "  plt.ylabel(string)\n",
        "  plt.legend([string, 'val_'+string])\n",
        "  plt.show()\n",
        "\n",
        "plot_graphs(history, 'acc')\n",
        "plot_graphs(history, 'loss')"
      ],
      "execution_count": 26,
      "outputs": [
        {
          "output_type": "display_data",
          "data": {
            "image/png": "[encoded data removed]",
            "text/plain": [
              "<Figure size 432x288 with 1 Axes>"
            ]
          },
          "metadata": {
            "tags": []
          }
        },
        {
          "output_type": "display_data",
          "data": {
            "image/png": "[encoded data removed]",
            "text/plain": [
              "<Figure size 432x288 with 1 Axes>"
            ]
          },
          "metadata": {
            "tags": []
          }
        }
      ]
    },
    {
      "cell_type": "code",
      "metadata": {
        "id": "wSualgGPPK0S",
        "colab_type": "code",
        "colab": {
          "base_uri": "https://localhost:8080/",
          "height": 289
        },
        "outputId": "22c3dd9e-d775-4b6d-b529-c579088f6bf5"
      },
      "source": [
        "# Model Definition with LSTM\n",
        "model = tf.keras.Sequential([\n",
        "    tf.keras.layers.Embedding(vocab_size, embedding_dim, input_length=max_length),\n",
        "    tf.keras.layers.Bidirectional(tf.keras.layers.LSTM(32)),\n",
        "    tf.keras.layers.Dense(6, activation='relu'),\n",
        "    tf.keras.layers.Dense(1, activation='sigmoid')\n",
        "])\n",
        "model.compile(loss='binary_crossentropy',optimizer='adam',metrics=['acc'])\n",
        "model.summary()\n"
      ],
      "execution_count": 34,
      "outputs": [
        {
          "output_type": "stream",
          "text": [
            "Model: \"sequential_6\"\n",
            "_________________________________________________________________\n",
            "Layer (type)                 Output Shape              Param #   \n",
            "=================================================================\n",
            "embedding_6 (Embedding)      (None, 120, 16)           160000    \n",
            "_________________________________________________________________\n",
            "bidirectional_5 (Bidirection (None, 64)                12544     \n",
            "_________________________________________________________________\n",
            "dense_12 (Dense)             (None, 6)                 390       \n",
            "_________________________________________________________________\n",
            "dense_13 (Dense)             (None, 1)                 7         \n",
            "=================================================================\n",
            "Total params: 172,941\n",
            "Trainable params: 172,941\n",
            "Non-trainable params: 0\n",
            "_________________________________________________________________\n"
          ],
          "name": "stdout"
        }
      ]
    },
    {
      "cell_type": "code",
      "metadata": {
        "id": "pe6tuIFaQsvp",
        "colab_type": "code",
        "colab": {
          "base_uri": "https://localhost:8080/",
          "height": 122
        },
        "outputId": "f932267f-1c5f-42bf-bd7d-112f2f900d6c"
      },
      "source": [
        "#num_epochs = 50\n",
        "#history = model.fit(padded, training_labels_final, epochs=num_epochs, validation_data=(testing_padded, testing_labels_final))\n",
        "\n",
        "num_epochs = 50\n",
        "callback = myCallback()\n",
        "history2 = model.fit(padded, training_labels_final, epochs=num_epochs, validation_data=(testing_padded, testing_labels_final), callbacks=[callback])"
      ],
      "execution_count": 0,
      "outputs": [
        {
          "output_type": "stream",
          "text": [
            "Train on 25000 samples, validate on 25000 samples\n",
            "Epoch 1/50\n",
            "25000/25000 [==============================] - 396s 16ms/sample - loss: 0.4733 - acc: 0.7609 - val_loss: 0.3886 - val_acc: 0.8336\n",
            "Epoch 2/50\n",
            " 2944/25000 [==>...........................] - ETA: 4:51 - loss: 0.2796 - acc: 0.8910"
          ],
          "name": "stdout"
        }
      ]
    },
    {
      "cell_type": "code",
      "metadata": {
        "id": "elSquDzyQvaD",
        "colab_type": "code",
        "colab": {}
      },
      "source": [
        "plot_graphs(history2, 'acc')\n",
        "plot_graphs(history2, 'loss')"
      ],
      "execution_count": 0,
      "outputs": []
    },
    {
      "cell_type": "code",
      "metadata": {
        "id": "K_Jc7cY3Qxke",
        "colab_type": "code",
        "colab": {
          "base_uri": "https://localhost:8080/",
          "height": 323
        },
        "outputId": "81f31588-f696-4d38-f792-8c37a626249b"
      },
      "source": [
        "# Model Definition with Conv1D\n",
        "model = tf.keras.Sequential([\n",
        "    tf.keras.layers.Embedding(vocab_size, embedding_dim, input_length=max_length),\n",
        "    tf.keras.layers.Conv1D(128, 5, activation='relu'),\n",
        "    tf.keras.layers.GlobalAveragePooling1D(),\n",
        "    tf.keras.layers.Dense(6, activation='relu'),\n",
        "    tf.keras.layers.Dense(1, activation='sigmoid')\n",
        "])\n",
        "model.compile(loss='binary_crossentropy',optimizer='adam',metrics=['acc'])\n",
        "model.summary()\n"
      ],
      "execution_count": 30,
      "outputs": [
        {
          "output_type": "stream",
          "text": [
            "Model: \"sequential_5\"\n",
            "_________________________________________________________________\n",
            "Layer (type)                 Output Shape              Param #   \n",
            "=================================================================\n",
            "embedding_5 (Embedding)      (None, 120, 16)           160000    \n",
            "_________________________________________________________________\n",
            "conv1d (Conv1D)              (None, 116, 128)          10368     \n",
            "_________________________________________________________________\n",
            "global_average_pooling1d (Gl (None, 128)               0         \n",
            "_________________________________________________________________\n",
            "dense_10 (Dense)             (None, 6)                 774       \n",
            "_________________________________________________________________\n",
            "dense_11 (Dense)             (None, 1)                 7         \n",
            "=================================================================\n",
            "Total params: 171,149\n",
            "Trainable params: 171,149\n",
            "Non-trainable params: 0\n",
            "_________________________________________________________________\n"
          ],
          "name": "stdout"
        }
      ]
    },
    {
      "cell_type": "code",
      "metadata": {
        "id": "rZiKa2YIQPRv",
        "colab_type": "code",
        "colab": {
          "base_uri": "https://localhost:8080/",
          "height": 666
        },
        "outputId": "9d6b2d67-c3de-40e5-b58d-58e6f27bd3f4"
      },
      "source": [
        "#num_epochs = 50\n",
        "#history = model.fit(padded, training_labels_final, epochs=num_epochs, validation_data=(testing_padded, testing_labels_final))\n",
        "\n",
        "num_epochs = 50\n",
        "callback = myCallback()\n",
        "history3 = model.fit(padded, training_labels_final, epochs=num_epochs, validation_data=(testing_padded, testing_labels_final), callbacks=[callback])"
      ],
      "execution_count": 32,
      "outputs": [
        {
          "output_type": "stream",
          "text": [
            "Train on 25000 samples, validate on 25000 samples\n",
            "Epoch 1/50\n",
            "25000/25000 [==============================] - 7s 283us/sample - loss: 0.0655 - acc: 0.9802 - val_loss: 0.7707 - val_acc: 0.8117\n",
            "Epoch 2/50\n",
            "25000/25000 [==============================] - 7s 284us/sample - loss: 0.0515 - acc: 0.9846 - val_loss: 0.8531 - val_acc: 0.8059\n",
            "Epoch 3/50\n",
            "25000/25000 [==============================] - 7s 288us/sample - loss: 0.0385 - acc: 0.9890 - val_loss: 0.9550 - val_acc: 0.8056\n",
            "Epoch 4/50\n",
            "25000/25000 [==============================] - 7s 285us/sample - loss: 0.0292 - acc: 0.9921 - val_loss: 1.0866 - val_acc: 0.8038\n",
            "Epoch 5/50\n",
            "25000/25000 [==============================] - 7s 288us/sample - loss: 0.0237 - acc: 0.9934 - val_loss: 1.1464 - val_acc: 0.8036\n",
            "Epoch 6/50\n",
            "25000/25000 [==============================] - 7s 287us/sample - loss: 0.0176 - acc: 0.9949 - val_loss: 1.3353 - val_acc: 0.8016\n",
            "Epoch 7/50\n",
            "25000/25000 [==============================] - 7s 285us/sample - loss: 0.0170 - acc: 0.9946 - val_loss: 1.3999 - val_acc: 0.7989\n",
            "Epoch 8/50\n",
            "25000/25000 [==============================] - 7s 283us/sample - loss: 0.0177 - acc: 0.9945 - val_loss: 1.4485 - val_acc: 0.7994\n",
            "Epoch 9/50\n",
            "25000/25000 [==============================] - 7s 282us/sample - loss: 0.0149 - acc: 0.9954 - val_loss: 1.5249 - val_acc: 0.8022\n",
            "Epoch 10/50\n",
            "25000/25000 [==============================] - 7s 285us/sample - loss: 0.0127 - acc: 0.9961 - val_loss: 1.5316 - val_acc: 0.7999\n",
            "Epoch 11/50\n",
            "25000/25000 [==============================] - 7s 283us/sample - loss: 0.0112 - acc: 0.9966 - val_loss: 1.6415 - val_acc: 0.7980\n",
            "Epoch 12/50\n",
            "25000/25000 [==============================] - 7s 286us/sample - loss: 0.0082 - acc: 0.9973 - val_loss: 1.7503 - val_acc: 0.7983\n",
            "Epoch 13/50\n",
            "25000/25000 [==============================] - 7s 284us/sample - loss: 0.0081 - acc: 0.9973 - val_loss: 1.8554 - val_acc: 0.7968\n",
            "Epoch 14/50\n",
            "25000/25000 [==============================] - 7s 284us/sample - loss: 0.0097 - acc: 0.9966 - val_loss: 1.8965 - val_acc: 0.7996\n",
            "Epoch 15/50\n",
            "25000/25000 [==============================] - 7s 283us/sample - loss: 0.0101 - acc: 0.9960 - val_loss: 1.9480 - val_acc: 0.7985\n",
            "Epoch 16/50\n",
            "25000/25000 [==============================] - 7s 288us/sample - loss: 0.0053 - acc: 0.9979 - val_loss: 1.9718 - val_acc: 0.7995\n",
            "Epoch 17/50\n",
            "24800/25000 [============================>.] - ETA: 0s - loss: 0.0033 - acc: 0.9991\n",
            "Reached 99.9% accuracy so cancelling training!\n",
            "25000/25000 [==============================] - 7s 288us/sample - loss: 0.0033 - acc: 0.9991 - val_loss: 2.0343 - val_acc: 0.7962\n"
          ],
          "name": "stdout"
        }
      ]
    },
    {
      "cell_type": "code",
      "metadata": {
        "id": "IKDhWuS1Q0mr",
        "colab_type": "code",
        "colab": {
          "base_uri": "https://localhost:8080/",
          "height": 541
        },
        "outputId": "2f450fb0-b3bb-4097-fcb2-a3229eecd655"
      },
      "source": [
        "plot_graphs(history3, 'acc')\n",
        "plot_graphs(history3, 'loss')"
      ],
      "execution_count": 33,
      "outputs": [
        {
          "output_type": "display_data",
          "data": {
            "image/png": "[encoded data removed]",
            "text/plain": [
              "<Figure size 432x288 with 1 Axes>"
            ]
          },
          "metadata": {
            "tags": []
          }
        },
        {
          "output_type": "display_data",
          "data": {
            "image/png": "[encoded data removed]",
            "text/plain": [
              "<Figure size 432x288 with 1 Axes>"
            ]
          },
          "metadata": {
            "tags": []
          }
        }
      ]
    },
    {
      "cell_type": "code",
      "metadata": {
        "id": "9NQwo-p5Q8hK",
        "colab_type": "code",
        "colab": {}
      },
      "source": [
        ""
      ],
      "execution_count": 0,
      "outputs": []
    }
  ]
}