{
  "nbformat": 4,
  "nbformat_minor": 0,
  "metadata": {
    "colab": {
      "name": "Course 4 S+P Week 2 Lesson 2",
      "provenance": [],
      "collapsed_sections": [],
      "include_colab_link": true
    },
    "kernelspec": {
      "name": "python3",
      "display_name": "Python 3"
    }
  },
  "cells": [
    {
      "cell_type": "markdown",
      "metadata": {
        "id": "view-in-github",
        "colab_type": "text"
      },
      "source": [
        "<a href=\"https://colab.research.google.com/github/santolina/Convolutional-Neural-Networks-in-TensorFlow/blob/master/Course_4_S%2BP_Week_2_Lesson_2.ipynb\" target=\"_parent\"><img src=\"https://colab.research.google.com/assets/colab-badge.svg\" alt=\"Open In Colab\"/></a>"
      ]
    },
    {
      "cell_type": "code",
      "metadata": {
        "id": "D1J15Vh_1Jih",
        "colab_type": "code",
        "colab": {
          "base_uri": "https://localhost:8080/",
          "height": 1000
        },
        "outputId": "273c2baa-b600-43f6-cc1d-2911634e07f3"
      },
      "source": [
        "#!pip install tf-nightly-2.0-preview\n",
        "!pip install tensorflow==2.0"
      ],
      "execution_count": 2,
      "outputs": [
        {
          "output_type": "stream",
          "text": [
            "Collecting tensorflow==2.0\n",
            "\u001b[?25l  Downloading https://files.pythonhosted.org/packages/46/0f/7bd55361168bb32796b360ad15a25de6966c9c1beb58a8e30c01c8279862/tensorflow-2.0.0-cp36-cp36m-manylinux2010_x86_64.whl (86.3MB)\n",
            "\u001b[K     |████████████████████████████████| 86.3MB 41kB/s \n",
            "\u001b[?25hRequirement already satisfied: wrapt>=1.11.1 in /usr/local/lib/python3.6/dist-packages (from tensorflow==2.0) (1.11.2)\n",
            "Requirement already satisfied: keras-preprocessing>=1.0.5 in /usr/local/lib/python3.6/dist-packages (from tensorflow==2.0) (1.1.0)\n",
            "Collecting tensorboard<2.1.0,>=2.0.0\n",
            "\u001b[?25l  Downloading https://files.pythonhosted.org/packages/d3/9e/a48cd34dd7b672ffc227b566f7d16d63c62c58b542d54efa45848c395dd4/tensorboard-2.0.1-py3-none-any.whl (3.8MB)\n",
            "\u001b[K     |████████████████████████████████| 3.8MB 54.0MB/s \n",
            "\u001b[?25hRequirement already satisfied: gast==0.2.2 in /usr/local/lib/python3.6/dist-packages (from tensorflow==2.0) (0.2.2)\n",
            "Requirement already satisfied: protobuf>=3.6.1 in /usr/local/lib/python3.6/dist-packages (from tensorflow==2.0) (3.10.0)\n",
            "Requirement already satisfied: termcolor>=1.1.0 in /usr/local/lib/python3.6/dist-packages (from tensorflow==2.0) (1.1.0)\n",
            "Collecting tensorflow-estimator<2.1.0,>=2.0.0\n",
            "\u001b[?25l  Downloading https://files.pythonhosted.org/packages/fc/08/8b927337b7019c374719145d1dceba21a8bb909b93b1ad6f8fb7d22c1ca1/tensorflow_estimator-2.0.1-py2.py3-none-any.whl (449kB)\n",
            "\u001b[K     |████████████████████████████████| 450kB 40.9MB/s \n",
            "\u001b[?25hRequirement already satisfied: six>=1.10.0 in /usr/local/lib/python3.6/dist-packages (from tensorflow==2.0) (1.12.0)\n",
            "Requirement already satisfied: google-pasta>=0.1.6 in /usr/local/lib/python3.6/dist-packages (from tensorflow==2.0) (0.1.8)\n",
            "Requirement already satisfied: grpcio>=1.8.6 in /usr/local/lib/python3.6/dist-packages (from tensorflow==2.0) (1.15.0)\n",
            "Requirement already satisfied: numpy<2.0,>=1.16.0 in /usr/local/lib/python3.6/dist-packages (from tensorflow==2.0) (1.17.4)\n",
            "Requirement already satisfied: opt-einsum>=2.3.2 in /usr/local/lib/python3.6/dist-packages (from tensorflow==2.0) (3.1.0)\n",
            "Requirement already satisfied: keras-applications>=1.0.8 in /usr/local/lib/python3.6/dist-packages (from tensorflow==2.0) (1.0.8)\n",
            "Requirement already satisfied: absl-py>=0.7.0 in /usr/local/lib/python3.6/dist-packages (from tensorflow==2.0) (0.8.1)\n",
            "Requirement already satisfied: astor>=0.6.0 in /usr/local/lib/python3.6/dist-packages (from tensorflow==2.0) (0.8.0)\n",
            "Requirement already satisfied: wheel>=0.26 in /usr/local/lib/python3.6/dist-packages (from tensorflow==2.0) (0.33.6)\n",
            "Requirement already satisfied: werkzeug>=0.11.15 in /usr/local/lib/python3.6/dist-packages (from tensorboard<2.1.0,>=2.0.0->tensorflow==2.0) (0.16.0)\n",
            "Collecting google-auth<2,>=1.6.3\n",
            "\u001b[?25l  Downloading https://files.pythonhosted.org/packages/7b/cb/786dc53d93494784935a62947643b48250b84a882474e714f9af5e1a1928/google_auth-1.7.1-py2.py3-none-any.whl (74kB)\n",
            "\u001b[K     |████████████████████████████████| 81kB 11.2MB/s \n",
            "\u001b[?25hRequirement already satisfied: google-auth-oauthlib<0.5,>=0.4.1 in /usr/local/lib/python3.6/dist-packages (from tensorboard<2.1.0,>=2.0.0->tensorflow==2.0) (0.4.1)\n",
            "Requirement already satisfied: setuptools>=41.0.0 in /usr/local/lib/python3.6/dist-packages (from tensorboard<2.1.0,>=2.0.0->tensorflow==2.0) (41.6.0)\n",
            "Requirement already satisfied: markdown>=2.6.8 in /usr/local/lib/python3.6/dist-packages (from tensorboard<2.1.0,>=2.0.0->tensorflow==2.0) (3.1.1)\n",
            "Requirement already satisfied: h5py in /usr/local/lib/python3.6/dist-packages (from keras-applications>=1.0.8->tensorflow==2.0) (2.8.0)\n",
            "Requirement already satisfied: rsa<4.1,>=3.1.4 in /usr/local/lib/python3.6/dist-packages (from google-auth<2,>=1.6.3->tensorboard<2.1.0,>=2.0.0->tensorflow==2.0) (4.0)\n",
            "Requirement already satisfied: pyasn1-modules>=0.2.1 in /usr/local/lib/python3.6/dist-packages (from google-auth<2,>=1.6.3->tensorboard<2.1.0,>=2.0.0->tensorflow==2.0) (0.2.7)\n",
            "Requirement already satisfied: cachetools<3.2,>=2.0.0 in /usr/local/lib/python3.6/dist-packages (from google-auth<2,>=1.6.3->tensorboard<2.1.0,>=2.0.0->tensorflow==2.0) (3.1.1)\n",
            "Requirement already satisfied: requests-oauthlib>=0.7.0 in /usr/local/lib/python3.6/dist-packages (from google-auth-oauthlib<0.5,>=0.4.1->tensorboard<2.1.0,>=2.0.0->tensorflow==2.0) (1.3.0)\n",
            "Requirement already satisfied: pyasn1>=0.1.3 in /usr/local/lib/python3.6/dist-packages (from rsa<4.1,>=3.1.4->google-auth<2,>=1.6.3->tensorboard<2.1.0,>=2.0.0->tensorflow==2.0) (0.4.7)\n",
            "Requirement already satisfied: requests>=2.0.0 in /usr/local/lib/python3.6/dist-packages (from requests-oauthlib>=0.7.0->google-auth-oauthlib<0.5,>=0.4.1->tensorboard<2.1.0,>=2.0.0->tensorflow==2.0) (2.21.0)\n",
            "Requirement already satisfied: oauthlib>=3.0.0 in /usr/local/lib/python3.6/dist-packages (from requests-oauthlib>=0.7.0->google-auth-oauthlib<0.5,>=0.4.1->tensorboard<2.1.0,>=2.0.0->tensorflow==2.0) (3.1.0)\n",
            "Requirement already satisfied: chardet<3.1.0,>=3.0.2 in /usr/local/lib/python3.6/dist-packages (from requests>=2.0.0->requests-oauthlib>=0.7.0->google-auth-oauthlib<0.5,>=0.4.1->tensorboard<2.1.0,>=2.0.0->tensorflow==2.0) (3.0.4)\n",
            "Requirement already satisfied: certifi>=2017.4.17 in /usr/local/lib/python3.6/dist-packages (from requests>=2.0.0->requests-oauthlib>=0.7.0->google-auth-oauthlib<0.5,>=0.4.1->tensorboard<2.1.0,>=2.0.0->tensorflow==2.0) (2019.9.11)\n",
            "Requirement already satisfied: urllib3<1.25,>=1.21.1 in /usr/local/lib/python3.6/dist-packages (from requests>=2.0.0->requests-oauthlib>=0.7.0->google-auth-oauthlib<0.5,>=0.4.1->tensorboard<2.1.0,>=2.0.0->tensorflow==2.0) (1.24.3)\n",
            "Requirement already satisfied: idna<2.9,>=2.5 in /usr/local/lib/python3.6/dist-packages (from requests>=2.0.0->requests-oauthlib>=0.7.0->google-auth-oauthlib<0.5,>=0.4.1->tensorboard<2.1.0,>=2.0.0->tensorflow==2.0) (2.8)\n",
            "\u001b[31mERROR: tensorboard 2.0.1 has requirement grpcio>=1.24.3, but you'll have grpcio 1.15.0 which is incompatible.\u001b[0m\n",
            "\u001b[31mERROR: google-colab 1.0.0 has requirement google-auth~=1.4.0, but you'll have google-auth 1.7.1 which is incompatible.\u001b[0m\n",
            "Installing collected packages: google-auth, tensorboard, tensorflow-estimator, tensorflow\n",
            "  Found existing installation: google-auth 1.4.2\n",
            "    Uninstalling google-auth-1.4.2:\n",
            "      Successfully uninstalled google-auth-1.4.2\n",
            "  Found existing installation: tensorboard 1.15.0\n",
            "    Uninstalling tensorboard-1.15.0:\n",
            "      Successfully uninstalled tensorboard-1.15.0\n",
            "  Found existing installation: tensorflow-estimator 1.15.1\n",
            "    Uninstalling tensorflow-estimator-1.15.1:\n",
            "      Successfully uninstalled tensorflow-estimator-1.15.1\n",
            "  Found existing installation: tensorflow 1.15.0\n",
            "    Uninstalling tensorflow-1.15.0:\n",
            "      Successfully uninstalled tensorflow-1.15.0\n",
            "Successfully installed google-auth-1.7.1 tensorboard-2.0.1 tensorflow-2.0.0 tensorflow-estimator-2.0.1\n"
          ],
          "name": "stdout"
        },
        {
          "output_type": "display_data",
          "data": {
            "application/vnd.colab-display-data+json": {
              "pip_warning": {
                "packages": [
                  "google",
                  "tensorboard",
                  "tensorflow",
                  "tensorflow_core",
                  "tensorflow_estimator"
                ]
              }
            }
          },
          "metadata": {
            "tags": []
          }
        }
      ]
    },
    {
      "cell_type": "code",
      "metadata": {
        "id": "BOjujz601HcS",
        "colab_type": "code",
        "outputId": "47cb656f-f6f9-4b56-c4e2-23c9782e9bb0",
        "colab": {
          "base_uri": "https://localhost:8080/",
          "height": 34
        }
      },
      "source": [
        "import tensorflow as tf\n",
        "import numpy as np\n",
        "import matplotlib.pyplot as plt\n",
        "print(tf.__version__)"
      ],
      "execution_count": 1,
      "outputs": [
        {
          "output_type": "stream",
          "text": [
            "2.0.0\n"
          ],
          "name": "stdout"
        }
      ]
    },
    {
      "cell_type": "code",
      "metadata": {
        "colab_type": "code",
        "id": "Zswl7jRtGzkk",
        "colab": {}
      },
      "source": [
        "def plot_series(time, series, format=\"-\", start=0, end=None):\n",
        "    plt.plot(time[start:end], series[start:end], format)\n",
        "    plt.xlabel(\"Time\")\n",
        "    plt.ylabel(\"Value\")\n",
        "    plt.grid(True)\n",
        "\n",
        "def trend(time, slope=0):\n",
        "    return slope * time\n",
        "\n",
        "def seasonal_pattern(season_time):\n",
        "    \"\"\"Just an arbitrary pattern, you can change it if you wish\"\"\"\n",
        "    return np.where(season_time < 0.4,\n",
        "                    np.cos(season_time * 2 * np.pi),\n",
        "                    1 / np.exp(3 * season_time))\n",
        "\n",
        "def seasonality(time, period, amplitude=1, phase=0):\n",
        "    \"\"\"Repeats the same pattern at each period\"\"\"\n",
        "    season_time = ((time + phase) % period) / period\n",
        "    return amplitude * seasonal_pattern(season_time)\n",
        "\n",
        "def noise(time, noise_level=1, seed=None):\n",
        "    rnd = np.random.RandomState(seed)\n",
        "    return rnd.randn(len(time)) * noise_level\n",
        "\n",
        "time = np.arange(4 * 365 + 1, dtype=\"float32\")\n",
        "baseline = 10\n",
        "series = trend(time, 0.1)  \n",
        "baseline = 10\n",
        "amplitude = 40\n",
        "slope = 0.05\n",
        "noise_level = 5\n",
        "\n",
        "# Create the series\n",
        "series = baseline + trend(time, slope) + seasonality(time, period=365, amplitude=amplitude)\n",
        "# Update with noise\n",
        "series += noise(time, noise_level, seed=42)\n",
        "\n",
        "split_time = 1000\n",
        "time_train = time[:split_time]\n",
        "x_train = series[:split_time]\n",
        "time_valid = time[split_time:]\n",
        "x_valid = series[split_time:]\n",
        "\n",
        "window_size = 20\n",
        "batch_size = 32\n",
        "shuffle_buffer_size = 1000"
      ],
      "execution_count": 0,
      "outputs": []
    },
    {
      "cell_type": "code",
      "metadata": {
        "id": "4sTTIOCbyShY",
        "colab_type": "code",
        "colab": {}
      },
      "source": [
        "def windowed_dataset(series, window_size, batch_size, shuffle_buffer):\n",
        "  dataset = tf.data.Dataset.from_tensor_slices(series)\n",
        "  dataset = dataset.window(window_size + 1, shift=1, drop_remainder=True)\n",
        "  dataset = dataset.flat_map(lambda window: window.batch(window_size + 1))\n",
        "  dataset = dataset.shuffle(shuffle_buffer).map(lambda window: (window[:-1], window[-1]))\n",
        "  dataset = dataset.batch(batch_size).prefetch(1)\n",
        "  return dataset"
      ],
      "execution_count": 0,
      "outputs": []
    },
    {
      "cell_type": "code",
      "metadata": {
        "id": "ou-WmE2AXu6B",
        "colab_type": "code",
        "outputId": "aaa4862e-c976-4b85-f3fb-69832f6b640e",
        "colab": {
          "base_uri": "https://localhost:8080/",
          "height": 1000
        }
      },
      "source": [
        "dataset = windowed_dataset(x_train, window_size, batch_size, shuffle_buffer_size)\n",
        "print(dataset)\n",
        "l0 = tf.keras.layers.Dense(1, input_shape=[window_size])\n",
        "model = tf.keras.models.Sequential([l0])\n",
        "\n",
        "\n",
        "model.compile(loss=\"mse\", optimizer=tf.keras.optimizers.SGD(lr=1e-6, momentum=0.9))\n",
        "model.fit(dataset,epochs=100,verbose=2)\n",
        "\n",
        "print(\"Layer weights {}\".format(l0.get_weights()))\n",
        "\n"
      ],
      "execution_count": 5,
      "outputs": [
        {
          "output_type": "stream",
          "text": [
            "<PrefetchDataset shapes: ((None, None), (None,)), types: (tf.float32, tf.float32)>\n",
            "Epoch 1/100\n",
            "31/31 - 0s - loss: 1759.8733\n",
            "Epoch 2/100\n",
            "31/31 - 0s - loss: 173.8581\n",
            "Epoch 3/100\n",
            "31/31 - 0s - loss: 101.9986\n",
            "Epoch 4/100\n",
            "31/31 - 0s - loss: 94.4581\n",
            "Epoch 5/100\n",
            "31/31 - 0s - loss: 90.0010\n",
            "Epoch 6/100\n",
            "31/31 - 0s - loss: 88.9907\n",
            "Epoch 7/100\n",
            "31/31 - 0s - loss: 86.2171\n",
            "Epoch 8/100\n",
            "31/31 - 0s - loss: 83.7350\n",
            "Epoch 9/100\n",
            "31/31 - 0s - loss: 81.7916\n",
            "Epoch 10/100\n",
            "31/31 - 0s - loss: 77.9570\n",
            "Epoch 11/100\n",
            "31/31 - 0s - loss: 76.4217\n",
            "Epoch 12/100\n",
            "31/31 - 0s - loss: 75.5342\n",
            "Epoch 13/100\n",
            "31/31 - 0s - loss: 73.8489\n",
            "Epoch 14/100\n",
            "31/31 - 0s - loss: 71.9931\n",
            "Epoch 15/100\n",
            "31/31 - 0s - loss: 69.6705\n",
            "Epoch 16/100\n",
            "31/31 - 0s - loss: 69.8996\n",
            "Epoch 17/100\n",
            "31/31 - 0s - loss: 68.2986\n",
            "Epoch 18/100\n",
            "31/31 - 0s - loss: 67.5377\n",
            "Epoch 19/100\n",
            "31/31 - 0s - loss: 67.0960\n",
            "Epoch 20/100\n",
            "31/31 - 0s - loss: 65.4755\n",
            "Epoch 21/100\n",
            "31/31 - 0s - loss: 65.6765\n",
            "Epoch 22/100\n",
            "31/31 - 0s - loss: 64.8709\n",
            "Epoch 23/100\n",
            "31/31 - 0s - loss: 63.4301\n",
            "Epoch 24/100\n",
            "31/31 - 0s - loss: 61.6588\n",
            "Epoch 25/100\n",
            "31/31 - 0s - loss: 60.7427\n",
            "Epoch 26/100\n",
            "31/31 - 0s - loss: 61.3282\n",
            "Epoch 27/100\n",
            "31/31 - 0s - loss: 59.4267\n",
            "Epoch 28/100\n",
            "31/31 - 0s - loss: 59.7903\n",
            "Epoch 29/100\n",
            "31/31 - 0s - loss: 59.5646\n",
            "Epoch 30/100\n",
            "31/31 - 0s - loss: 60.6592\n",
            "Epoch 31/100\n",
            "31/31 - 0s - loss: 59.8214\n",
            "Epoch 32/100\n",
            "31/31 - 0s - loss: 57.2105\n",
            "Epoch 33/100\n",
            "31/31 - 0s - loss: 57.7631\n",
            "Epoch 34/100\n",
            "31/31 - 0s - loss: 56.4264\n",
            "Epoch 35/100\n",
            "31/31 - 0s - loss: 56.7553\n",
            "Epoch 36/100\n",
            "31/31 - 0s - loss: 56.1628\n",
            "Epoch 37/100\n",
            "31/31 - 0s - loss: 55.3588\n",
            "Epoch 38/100\n",
            "31/31 - 0s - loss: 54.8517\n",
            "Epoch 39/100\n",
            "31/31 - 0s - loss: 54.4758\n",
            "Epoch 40/100\n",
            "31/31 - 0s - loss: 53.9666\n",
            "Epoch 41/100\n",
            "31/31 - 0s - loss: 53.6957\n",
            "Epoch 42/100\n",
            "31/31 - 0s - loss: 53.5962\n",
            "Epoch 43/100\n",
            "31/31 - 0s - loss: 53.6989\n",
            "Epoch 44/100\n",
            "31/31 - 0s - loss: 53.0583\n",
            "Epoch 45/100\n",
            "31/31 - 0s - loss: 51.9594\n",
            "Epoch 46/100\n",
            "31/31 - 0s - loss: 51.5379\n",
            "Epoch 47/100\n",
            "31/31 - 0s - loss: 52.7967\n",
            "Epoch 48/100\n",
            "31/31 - 0s - loss: 50.5256\n",
            "Epoch 49/100\n",
            "31/31 - 0s - loss: 51.3120\n",
            "Epoch 50/100\n",
            "31/31 - 0s - loss: 51.2500\n",
            "Epoch 51/100\n",
            "31/31 - 0s - loss: 50.7828\n",
            "Epoch 52/100\n",
            "31/31 - 0s - loss: 49.8791\n",
            "Epoch 53/100\n",
            "31/31 - 0s - loss: 50.1922\n",
            "Epoch 54/100\n",
            "31/31 - 0s - loss: 50.0907\n",
            "Epoch 55/100\n",
            "31/31 - 0s - loss: 50.1931\n",
            "Epoch 56/100\n",
            "31/31 - 0s - loss: 50.9429\n",
            "Epoch 57/100\n",
            "31/31 - 0s - loss: 49.4680\n",
            "Epoch 58/100\n",
            "31/31 - 0s - loss: 48.9164\n",
            "Epoch 59/100\n",
            "31/31 - 0s - loss: 48.9247\n",
            "Epoch 60/100\n",
            "31/31 - 0s - loss: 48.8217\n",
            "Epoch 61/100\n",
            "31/31 - 0s - loss: 48.0369\n",
            "Epoch 62/100\n",
            "31/31 - 0s - loss: 48.4829\n",
            "Epoch 63/100\n",
            "31/31 - 0s - loss: 47.2051\n",
            "Epoch 64/100\n",
            "31/31 - 0s - loss: 48.4980\n",
            "Epoch 65/100\n",
            "31/31 - 0s - loss: 47.8274\n",
            "Epoch 66/100\n",
            "31/31 - 0s - loss: 48.3652\n",
            "Epoch 67/100\n",
            "31/31 - 0s - loss: 48.4299\n",
            "Epoch 68/100\n",
            "31/31 - 0s - loss: 47.8848\n",
            "Epoch 69/100\n",
            "31/31 - 0s - loss: 48.2300\n",
            "Epoch 70/100\n",
            "31/31 - 0s - loss: 46.9169\n",
            "Epoch 71/100\n",
            "31/31 - 0s - loss: 46.2776\n",
            "Epoch 72/100\n",
            "31/31 - 0s - loss: 47.2030\n",
            "Epoch 73/100\n",
            "31/31 - 0s - loss: 46.5960\n",
            "Epoch 74/100\n",
            "31/31 - 0s - loss: 47.6991\n",
            "Epoch 75/100\n",
            "31/31 - 0s - loss: 46.1283\n",
            "Epoch 76/100\n",
            "31/31 - 0s - loss: 46.1432\n",
            "Epoch 77/100\n",
            "31/31 - 0s - loss: 46.1422\n",
            "Epoch 78/100\n",
            "31/31 - 0s - loss: 46.7806\n",
            "Epoch 79/100\n",
            "31/31 - 0s - loss: 45.4449\n",
            "Epoch 80/100\n",
            "31/31 - 0s - loss: 46.1252\n",
            "Epoch 81/100\n",
            "31/31 - 0s - loss: 45.7624\n",
            "Epoch 82/100\n",
            "31/31 - 0s - loss: 46.6954\n",
            "Epoch 83/100\n",
            "31/31 - 0s - loss: 46.1764\n",
            "Epoch 84/100\n",
            "31/31 - 0s - loss: 43.9121\n",
            "Epoch 85/100\n",
            "31/31 - 0s - loss: 45.0295\n",
            "Epoch 86/100\n",
            "31/31 - 0s - loss: 46.0774\n",
            "Epoch 87/100\n",
            "31/31 - 0s - loss: 46.1985\n",
            "Epoch 88/100\n",
            "31/31 - 0s - loss: 45.5636\n",
            "Epoch 89/100\n",
            "31/31 - 0s - loss: 44.9926\n",
            "Epoch 90/100\n",
            "31/31 - 0s - loss: 45.5282\n",
            "Epoch 91/100\n",
            "31/31 - 0s - loss: 45.3190\n",
            "Epoch 92/100\n",
            "31/31 - 0s - loss: 45.0311\n",
            "Epoch 93/100\n",
            "31/31 - 0s - loss: 45.1076\n",
            "Epoch 94/100\n",
            "31/31 - 0s - loss: 45.0432\n",
            "Epoch 95/100\n",
            "31/31 - 0s - loss: 45.4679\n",
            "Epoch 96/100\n",
            "31/31 - 0s - loss: 45.1867\n",
            "Epoch 97/100\n",
            "31/31 - 0s - loss: 44.5579\n",
            "Epoch 98/100\n",
            "31/31 - 0s - loss: 42.7195\n",
            "Epoch 99/100\n",
            "31/31 - 0s - loss: 46.5522\n",
            "Epoch 100/100\n",
            "31/31 - 0s - loss: 45.3978\n",
            "Layer weights [array([[ 0.02657229],\n",
            "       [-0.07324312],\n",
            "       [-0.01060447],\n",
            "       [ 0.00578666],\n",
            "       [ 0.09987818],\n",
            "       [-0.01876481],\n",
            "       [-0.01394201],\n",
            "       [-0.04575704],\n",
            "       [ 0.06693237],\n",
            "       [-0.06123489],\n",
            "       [ 0.05560693],\n",
            "       [ 0.01139619],\n",
            "       [-0.08489411],\n",
            "       [-0.01548241],\n",
            "       [ 0.13057247],\n",
            "       [ 0.05067581],\n",
            "       [ 0.00967127],\n",
            "       [ 0.12081397],\n",
            "       [ 0.27797306],\n",
            "       [ 0.4730715 ]], dtype=float32), array([0.01687515], dtype=float32)]\n"
          ],
          "name": "stdout"
        }
      ]
    },
    {
      "cell_type": "code",
      "metadata": {
        "id": "-gtVJuLVxR-M",
        "colab_type": "code",
        "outputId": "22ce535b-0650-45b6-9325-36df4102d857",
        "colab": {
          "base_uri": "https://localhost:8080/",
          "height": 388
        }
      },
      "source": [
        "forecast = []\n",
        "\n",
        "for time in range(len(series) - window_size):\n",
        "  forecast.append(model.predict(series[time:time + window_size][np.newaxis]))\n",
        "\n",
        "forecast = forecast[split_time-window_size:]\n",
        "results = np.array(forecast)[:, 0, 0]\n",
        "\n",
        "\n",
        "plt.figure(figsize=(10, 6))\n",
        "\n",
        "plot_series(time_valid, x_valid)\n",
        "plot_series(time_valid, results)"
      ],
      "execution_count": 6,
      "outputs": [
        {
          "output_type": "display_data",
          "data": {
            "image/png": "[encoded data removed]",
            "text/plain": [
              "<Figure size 720x432 with 1 Axes>"
            ]
          },
          "metadata": {
            "tags": []
          }
        }
      ]
    },
    {
      "cell_type": "code",
      "metadata": {
        "colab_type": "code",
        "outputId": "e790ef10-19b1-4403-fd71-b8b6e91c3ef0",
        "id": "hR2BO0Dai_ZT",
        "colab": {
          "base_uri": "https://localhost:8080/",
          "height": 34
        }
      },
      "source": [
        "tf.keras.metrics.mean_absolute_error(x_valid, results).numpy()"
      ],
      "execution_count": 7,
      "outputs": [
        {
          "output_type": "execute_result",
          "data": {
            "text/plain": [
              "4.998534"
            ]
          },
          "metadata": {
            "tags": []
          },
          "execution_count": 7
        }
      ]
    },
    {
      "cell_type": "code",
      "metadata": {
        "id": "Y0pxXk6vZ6aH",
        "colab_type": "code",
        "colab": {}
      },
      "source": [
        ""
      ],
      "execution_count": 0,
      "outputs": []
    }
  ]
}