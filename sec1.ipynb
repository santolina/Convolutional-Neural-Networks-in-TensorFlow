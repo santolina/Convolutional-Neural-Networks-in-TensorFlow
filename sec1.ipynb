{
  "nbformat": 4,
  "nbformat_minor": 0,
  "metadata": {
    "colab": {
      "name": "sec1.ipynb",
      "provenance": [],
      "collapsed_sections": [],
      "include_colab_link": true
    },
    "kernelspec": {
      "name": "python3",
      "display_name": "Python 3"
    },
    "accelerator": "GPU"
  },
  "cells": [
    {
      "cell_type": "markdown",
      "metadata": {
        "id": "view-in-github",
        "colab_type": "text"
      },
      "source": [
        "<a href=\"https://colab.research.google.com/github/santolina/Convolutional-Neural-Networks-in-TensorFlow/blob/master/sec1.ipynb\" target=\"_parent\"><img src=\"https://colab.research.google.com/assets/colab-badge.svg\" alt=\"Open In Colab\"/></a>"
      ]
    },
    {
      "cell_type": "code",
      "metadata": {
        "id": "o28S57B_RVEa",
        "colab_type": "code",
        "colab": {
          "base_uri": "https://localhost:8080/",
          "height": 125
        },
        "outputId": "a39226a4-865c-4b3b-c86b-f29b5ed24d34"
      },
      "source": [
        "from google.colab import drive\n",
        "drive.mount('/content/gdrive')"
      ],
      "execution_count": 2,
      "outputs": [
        {
          "output_type": "stream",
          "text": [
            "Go to this URL in a browser: https://accounts.google.com/o/oauth2/auth?client_id=947318989803-6bn6qk8qdgf4n4g3pfee6491hc0brc4i.apps.googleusercontent.com&redirect_uri=urn%3aietf%3awg%3aoauth%3a2.0%3aoob&response_type=code&scope=email%20https%3a%2f%2fwww.googleapis.com%2fauth%2fdocs.test%20https%3a%2f%2fwww.googleapis.com%2fauth%2fdrive%20https%3a%2f%2fwww.googleapis.com%2fauth%2fdrive.photos.readonly%20https%3a%2f%2fwww.googleapis.com%2fauth%2fpeopleapi.readonly\n",
            "\n",
            "Enter your authorization code:\n",
            "··········\n",
            "Mounted at /content/gdrive\n"
          ],
          "name": "stdout"
        }
      ]
    },
    {
      "cell_type": "code",
      "metadata": {
        "id": "-AI0Uj9BRcGQ",
        "colab_type": "code",
        "colab": {
          "base_uri": "https://localhost:8080/",
          "height": 721
        },
        "outputId": "caef7dbb-4114-442c-a7be-35bdda59b2ff"
      },
      "source": [
        "%ls gdrive/'My Drive'/'Colab Notebooks'"
      ],
      "execution_count": 6,
      "outputs": [
        {
          "output_type": "stream",
          "text": [
            "'Cats-v-Dogs-Augmentation.ipynb のコピー'\n",
            " Colab1-for-deeplearn\n",
            "'Convolutions Sidebar'\n",
            "'Course 1 - Part 4 - Lesson 2 - Notebook'\n",
            "'Course 1 - Part 4 - Lesson 4 - Notebook'\n",
            "'Course 1 - Part 6 - Lesson 2 - Notebook'\n",
            "'Course 1 - Part 8 - Lesson 4 - Notebook'\n",
            "'Course 2 - Part 2 - Lesson 3 - Notebook'\n",
            "'Course 2 - Part 4 - Lesson 2 - Notebook.ipynb のコピー'\n",
            "'Course 3 - Week 2 - Exercise - Answer'\n",
            "'Course 3 - Week 2 - Exercise - Question'\n",
            "'Course 3 - Week 2 - Lesson 1'\n",
            "'Course 4 - Week 2 - Exercise - Question'\n",
            "'Exercise 1 - House Prices - Question.ipynb のコピー'\n",
            "'Exercise2-Question.ipynb のコピー'\n",
            "'Exercise 3 - Question'\n",
            " Exercise4-Question\n",
            "'Exercise 5 - Answer.ipynb のコピー'\n",
            "'Exercise 5 - Question.ipynb のコピー'\n",
            "'Exercise 5 - Question.ipynb のコピー (1)'\n",
            "'Exercise 6 - Answer.ipynb のコピー'\n",
            "'Exercise 6 - Question.ipynb'\n",
            "'Exercise 7 - Answer.ipynb のコピー'\n",
            "'Exercise 7 - Question.ipynb のコピー'\n",
            "'Exercise 8 - Answer.ipynb のコピー'\n",
            "'Exercise 8 - Question'\n",
            "'Exercise-answer.ipynb のコピー'\n",
            " Exercise-question\n",
            " Horse-or-Human-NoValidation\n",
            "'Horse-or-Human-WithAugmentation.ipynb のコピー'\n",
            "'Horse-or-Human-WithAugmentation.ipynb のコピー (1)'\n",
            " rock_paper_scissors\n",
            " sec1.ipynb\n",
            " tensorflow_dev_sec3-1_3-2.ipynb\n",
            " tensorflow_dev_sec3-3.ipynb\n",
            " tensorflow_dev_sec3-4.ipynb\n",
            " tensorflow_dev_sec3-5.ipynb\n",
            "'Transfer Learning.ipynb のコピー'\n",
            "'Transfer Learning.ipynb のコピー (1)'\n",
            " Untitled0.ipynb\n"
          ],
          "name": "stdout"
        }
      ]
    },
    {
      "cell_type": "code",
      "metadata": {
        "id": "BlVkU5IzSEAt",
        "colab_type": "code",
        "colab": {
          "base_uri": "https://localhost:8080/",
          "height": 34
        },
        "outputId": "504bcac3-523e-488b-e44c-26dc75bf0992"
      },
      "source": [
        "cd /content/gdrive/My\\ Drive/Colab Notebooks/"
      ],
      "execution_count": 7,
      "outputs": [
        {
          "output_type": "stream",
          "text": [
            "/content/gdrive/My Drive/Colab Notebooks\n"
          ],
          "name": "stdout"
        }
      ]
    },
    {
      "cell_type": "code",
      "metadata": {
        "id": "agoaO-NMSdtR",
        "colab_type": "code",
        "colab": {}
      },
      "source": [
        "mkdir pytorch_handbook"
      ],
      "execution_count": 0,
      "outputs": []
    },
    {
      "cell_type": "code",
      "metadata": {
        "id": "P_KB8wjRSglK",
        "colab_type": "code",
        "colab": {
          "base_uri": "https://localhost:8080/",
          "height": 738
        },
        "outputId": "8dc825ed-8674-48aa-e3d2-1dc27238f279"
      },
      "source": [
        "ls"
      ],
      "execution_count": 9,
      "outputs": [
        {
          "output_type": "stream",
          "text": [
            "'Cats-v-Dogs-Augmentation.ipynb のコピー'\n",
            " Colab1-for-deeplearn\n",
            "'Convolutions Sidebar'\n",
            "'Course 1 - Part 4 - Lesson 2 - Notebook'\n",
            "'Course 1 - Part 4 - Lesson 4 - Notebook'\n",
            "'Course 1 - Part 6 - Lesson 2 - Notebook'\n",
            "'Course 1 - Part 8 - Lesson 4 - Notebook'\n",
            "'Course 2 - Part 2 - Lesson 3 - Notebook'\n",
            "'Course 2 - Part 4 - Lesson 2 - Notebook.ipynb のコピー'\n",
            "'Course 3 - Week 2 - Exercise - Answer'\n",
            "'Course 3 - Week 2 - Exercise - Question'\n",
            "'Course 3 - Week 2 - Lesson 1'\n",
            "'Course 4 - Week 2 - Exercise - Question'\n",
            "'Exercise 1 - House Prices - Question.ipynb のコピー'\n",
            "'Exercise2-Question.ipynb のコピー'\n",
            "'Exercise 3 - Question'\n",
            " Exercise4-Question\n",
            "'Exercise 5 - Answer.ipynb のコピー'\n",
            "'Exercise 5 - Question.ipynb のコピー'\n",
            "'Exercise 5 - Question.ipynb のコピー (1)'\n",
            "'Exercise 6 - Answer.ipynb のコピー'\n",
            "'Exercise 6 - Question.ipynb'\n",
            "'Exercise 7 - Answer.ipynb のコピー'\n",
            "'Exercise 7 - Question.ipynb のコピー'\n",
            "'Exercise 8 - Answer.ipynb のコピー'\n",
            "'Exercise 8 - Question'\n",
            "'Exercise-answer.ipynb のコピー'\n",
            " Exercise-question\n",
            " Horse-or-Human-NoValidation\n",
            "'Horse-or-Human-WithAugmentation.ipynb のコピー'\n",
            "'Horse-or-Human-WithAugmentation.ipynb のコピー (1)'\n",
            " \u001b[0m\u001b[01;34mpytorch_handbook\u001b[0m/\n",
            " rock_paper_scissors\n",
            " sec1.ipynb\n",
            " tensorflow_dev_sec3-1_3-2.ipynb\n",
            " tensorflow_dev_sec3-3.ipynb\n",
            " tensorflow_dev_sec3-4.ipynb\n",
            " tensorflow_dev_sec3-5.ipynb\n",
            "'Transfer Learning.ipynb のコピー'\n",
            "'Transfer Learning.ipynb のコピー (1)'\n",
            " Untitled0.ipynb\n"
          ],
          "name": "stdout"
        }
      ]
    },
    {
      "cell_type": "code",
      "metadata": {
        "id": "Edc4M1jJSheR",
        "colab_type": "code",
        "colab": {
          "base_uri": "https://localhost:8080/",
          "height": 34
        },
        "outputId": "b025d0c8-71aa-4bd5-bb29-d914429b04c2"
      },
      "source": [
        "cd pytorch_handbook/"
      ],
      "execution_count": 10,
      "outputs": [
        {
          "output_type": "stream",
          "text": [
            "/content/gdrive/My Drive/Colab Notebooks/pytorch_handbook\n"
          ],
          "name": "stdout"
        }
      ]
    },
    {
      "cell_type": "code",
      "metadata": {
        "id": "rE2827RkSj4C",
        "colab_type": "code",
        "colab": {}
      },
      "source": [
        ""
      ],
      "execution_count": 0,
      "outputs": []
    }
  ]
}