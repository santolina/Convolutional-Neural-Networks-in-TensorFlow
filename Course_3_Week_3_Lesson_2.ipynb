{
  "nbformat": 4,
  "nbformat_minor": 0,
  "metadata": {
    "colab": {
      "name": "Course 3 - Week 3 - Lesson 2",
      "provenance": [],
      "collapsed_sections": [],
      "include_colab_link": true
    },
    "kernelspec": {
      "name": "python3",
      "display_name": "Python 3"
    },
    "accelerator": "GPU"
  },
  "cells": [
    {
      "cell_type": "markdown",
      "metadata": {
        "id": "view-in-github",
        "colab_type": "text"
      },
      "source": [
        "<a href=\"https://colab.research.google.com/github/santolina/Convolutional-Neural-Networks-in-TensorFlow/blob/master/Course_3_Week_3_Lesson_2.ipynb\" target=\"_parent\"><img src=\"https://colab.research.google.com/assets/colab-badge.svg\" alt=\"Open In Colab\"/></a>"
      ]
    },
    {
      "cell_type": "code",
      "metadata": {
        "id": "jGwXGIXvFhXW",
        "colab_type": "code",
        "outputId": "23afcb8a-a46c-42e9-dd83-4779e7c1f566",
        "colab": {
          "base_uri": "https://localhost:8080/",
          "height": 1000
        }
      },
      "source": [
        "import json\n",
        "import tensorflow as tf\n",
        "\n",
        "from tensorflow.keras.preprocessing.text import Tokenizer\n",
        "from tensorflow.keras.preprocessing.sequence import pad_sequences\n",
        "\n",
        "!wget --no-check-certificate \\\n",
        "    https://storage.googleapis.com/laurencemoroney-blog.appspot.com/sarcasm.json \\\n",
        "    -O /tmp/sarcasm.json\n",
        "\n",
        "vocab_size = 1000\n",
        "embedding_dim = 16\n",
        "max_length = 120\n",
        "trunc_type='post'\n",
        "padding_type='post'\n",
        "oov_tok = \"<OOV>\"\n",
        "training_size = 20000\n",
        "\n",
        "\n",
        "with open(\"/tmp/sarcasm.json\", 'r') as f:\n",
        "    datastore = json.load(f)\n",
        "\n",
        "\n",
        "sentences = []\n",
        "labels = []\n",
        "urls = []\n",
        "for item in datastore:\n",
        "    sentences.append(item['headline'])\n",
        "    labels.append(item['is_sarcastic'])\n",
        "\n",
        "training_sentences = sentences[0:training_size]\n",
        "testing_sentences = sentences[training_size:]\n",
        "training_labels = labels[0:training_size]\n",
        "testing_labels = labels[training_size:]\n",
        "\n",
        "tokenizer = Tokenizer(num_words=vocab_size, oov_token=oov_tok)\n",
        "tokenizer.fit_on_texts(training_sentences)\n",
        "\n",
        "word_index = tokenizer.word_index\n",
        "\n",
        "training_sequences = tokenizer.texts_to_sequences(training_sentences)\n",
        "training_padded = pad_sequences(training_sequences, maxlen=max_length, padding=padding_type, truncating=trunc_type)\n",
        "\n",
        "testing_sequences = tokenizer.texts_to_sequences(testing_sentences)\n",
        "testing_padded = pad_sequences(testing_sequences, maxlen=max_length, padding=padding_type, truncating=trunc_type)\n",
        "\n",
        "model = tf.keras.Sequential([\n",
        "    tf.keras.layers.Embedding(vocab_size, embedding_dim, input_length=max_length),\n",
        "    tf.keras.layers.Bidirectional(tf.keras.layers.LSTM(32)),\n",
        "    tf.keras.layers.Dense(24, activation='relu'),\n",
        "    tf.keras.layers.Dense(1, activation='sigmoid')\n",
        "])\n",
        "model.compile(loss='binary_crossentropy',optimizer='adam',metrics=['accuracy'])\n",
        "model.summary()\n",
        "\n",
        "num_epochs = 50\n",
        "history = model.fit(training_padded, training_labels, epochs=num_epochs, validation_data=(testing_padded, testing_labels), verbose=1)\n",
        "\n"
      ],
      "execution_count": 0,
      "outputs": [
        {
          "output_type": "display_data",
          "data": {
            "text/html": [
              "<p style=\"color: red;\">\n",
              "The default version of TensorFlow in Colab will soon switch to TensorFlow 2.x.<br>\n",
              "We recommend you <a href=\"https://www.tensorflow.org/guide/migrate\" target=\"_blank\">upgrade</a> now \n",
              "or ensure your notebook will continue to use TensorFlow 1.x via the <code>%tensorflow_version 1.x</code> magic:\n",
              "<a href=\"https://colab.research.google.com/notebooks/tensorflow_version.ipynb\" target=\"_blank\">more info</a>.</p>\n"
            ],
            "text/plain": [
              "<IPython.core.display.HTML object>"
            ]
          },
          "metadata": {
            "tags": []
          }
        },
        {
          "output_type": "stream",
          "text": [
            "--2019-11-15 15:50:03--  https://storage.googleapis.com/laurencemoroney-blog.appspot.com/sarcasm.json\n",
            "Resolving storage.googleapis.com (storage.googleapis.com)... 108.177.127.128, 2a00:1450:4013:c08::80\n",
            "Connecting to storage.googleapis.com (storage.googleapis.com)|108.177.127.128|:443... connected.\n",
            "HTTP request sent, awaiting response... 200 OK\n",
            "Length: 5643545 (5.4M) [application/json]\n",
            "Saving to: ‘/tmp/sarcasm.json’\n",
            "\n",
            "\r/tmp/sarcasm.json     0%[                    ]       0  --.-KB/s               \r/tmp/sarcasm.json   100%[===================>]   5.38M  --.-KB/s    in 0.1s    \n",
            "\n",
            "2019-11-15 15:50:04 (39.7 MB/s) - ‘/tmp/sarcasm.json’ saved [5643545/5643545]\n",
            "\n",
            "WARNING:tensorflow:From /usr/local/lib/python3.6/dist-packages/tensorflow_core/python/keras/initializers.py:119: calling RandomUniform.__init__ (from tensorflow.python.ops.init_ops) with dtype is deprecated and will be removed in a future version.\n",
            "Instructions for updating:\n",
            "Call initializer instance with the dtype argument instead of passing it to the constructor\n",
            "WARNING:tensorflow:From /usr/local/lib/python3.6/dist-packages/tensorflow_core/python/ops/init_ops.py:97: calling GlorotUniform.__init__ (from tensorflow.python.ops.init_ops) with dtype is deprecated and will be removed in a future version.\n",
            "Instructions for updating:\n",
            "Call initializer instance with the dtype argument instead of passing it to the constructor\n",
            "WARNING:tensorflow:From /usr/local/lib/python3.6/dist-packages/tensorflow_core/python/ops/init_ops.py:97: calling Orthogonal.__init__ (from tensorflow.python.ops.init_ops) with dtype is deprecated and will be removed in a future version.\n",
            "Instructions for updating:\n",
            "Call initializer instance with the dtype argument instead of passing it to the constructor\n",
            "WARNING:tensorflow:From /usr/local/lib/python3.6/dist-packages/tensorflow_core/python/ops/init_ops.py:97: calling Zeros.__init__ (from tensorflow.python.ops.init_ops) with dtype is deprecated and will be removed in a future version.\n",
            "Instructions for updating:\n",
            "Call initializer instance with the dtype argument instead of passing it to the constructor\n",
            "WARNING:tensorflow:From /usr/local/lib/python3.6/dist-packages/tensorflow_core/python/ops/resource_variable_ops.py:1630: calling BaseResourceVariable.__init__ (from tensorflow.python.ops.resource_variable_ops) with constraint is deprecated and will be removed in a future version.\n",
            "Instructions for updating:\n",
            "If using Keras pass *_constraint arguments to layers.\n",
            "WARNING:tensorflow:From /usr/local/lib/python3.6/dist-packages/tensorflow_core/python/ops/nn_impl.py:183: where (from tensorflow.python.ops.array_ops) is deprecated and will be removed in a future version.\n",
            "Instructions for updating:\n",
            "Use tf.where in 2.0, which has the same broadcast rule as np.where\n",
            "Model: \"sequential\"\n",
            "_________________________________________________________________\n",
            "Layer (type)                 Output Shape              Param #   \n",
            "=================================================================\n",
            "embedding (Embedding)        (None, 120, 16)           16000     \n",
            "_________________________________________________________________\n",
            "bidirectional (Bidirectional (None, 64)                12544     \n",
            "_________________________________________________________________\n",
            "dense (Dense)                (None, 24)                1560      \n",
            "_________________________________________________________________\n",
            "dense_1 (Dense)              (None, 1)                 25        \n",
            "=================================================================\n",
            "Total params: 30,129\n",
            "Trainable params: 30,129\n",
            "Non-trainable params: 0\n",
            "_________________________________________________________________\n",
            "Train on 20000 samples, validate on 6709 samples\n",
            "Epoch 1/50\n",
            "20000/20000 [==============================] - 208s 10ms/sample - loss: 0.4547 - acc: 0.7688 - val_loss: 0.3861 - val_acc: 0.8222\n",
            "Epoch 2/50\n",
            "20000/20000 [==============================] - 209s 10ms/sample - loss: 0.3532 - acc: 0.8371 - val_loss: 0.3759 - val_acc: 0.8310\n",
            "Epoch 3/50\n",
            "20000/20000 [==============================] - 209s 10ms/sample - loss: 0.3292 - acc: 0.8486 - val_loss: 0.3696 - val_acc: 0.8283\n",
            "Epoch 4/50\n",
            "20000/20000 [==============================] - 210s 11ms/sample - loss: 0.3152 - acc: 0.8586 - val_loss: 0.3713 - val_acc: 0.8289\n",
            "Epoch 5/50\n",
            "20000/20000 [==============================] - 210s 10ms/sample - loss: 0.3062 - acc: 0.8635 - val_loss: 0.3799 - val_acc: 0.8272\n",
            "Epoch 6/50\n",
            "20000/20000 [==============================] - 206s 10ms/sample - loss: 0.3005 - acc: 0.8670 - val_loss: 0.3745 - val_acc: 0.8284\n",
            "Epoch 7/50\n",
            "20000/20000 [==============================] - 206s 10ms/sample - loss: 0.2949 - acc: 0.8676 - val_loss: 0.3849 - val_acc: 0.8328\n",
            "Epoch 8/50\n",
            "20000/20000 [==============================] - 205s 10ms/sample - loss: 0.2878 - acc: 0.8741 - val_loss: 0.3849 - val_acc: 0.8308\n",
            "Epoch 9/50\n",
            "20000/20000 [==============================] - 204s 10ms/sample - loss: 0.2793 - acc: 0.8760 - val_loss: 0.3921 - val_acc: 0.8253\n",
            "Epoch 10/50\n",
            "20000/20000 [==============================] - 203s 10ms/sample - loss: 0.2717 - acc: 0.8820 - val_loss: 0.3900 - val_acc: 0.8255\n",
            "Epoch 11/50\n",
            "20000/20000 [==============================] - 207s 10ms/sample - loss: 0.2627 - acc: 0.8866 - val_loss: 0.3922 - val_acc: 0.8274\n",
            "Epoch 12/50\n",
            "20000/20000 [==============================] - 205s 10ms/sample - loss: 0.2539 - acc: 0.8906 - val_loss: 0.4230 - val_acc: 0.8280\n",
            "Epoch 13/50\n",
            "20000/20000 [==============================] - 206s 10ms/sample - loss: 0.2455 - acc: 0.8931 - val_loss: 0.3973 - val_acc: 0.8261\n",
            "Epoch 14/50\n",
            "20000/20000 [==============================] - 205s 10ms/sample - loss: 0.2385 - acc: 0.8990 - val_loss: 0.4427 - val_acc: 0.8256\n",
            "Epoch 15/50\n",
            "20000/20000 [==============================] - 206s 10ms/sample - loss: 0.2319 - acc: 0.9017 - val_loss: 0.4365 - val_acc: 0.8213\n",
            "Epoch 16/50\n",
            "20000/20000 [==============================] - 208s 10ms/sample - loss: 0.2245 - acc: 0.9049 - val_loss: 0.4358 - val_acc: 0.8228\n",
            "Epoch 17/50\n",
            "20000/20000 [==============================] - 208s 10ms/sample - loss: 0.2179 - acc: 0.9082 - val_loss: 0.4843 - val_acc: 0.8226\n",
            "Epoch 18/50\n",
            "20000/20000 [==============================] - 209s 10ms/sample - loss: 0.2125 - acc: 0.9119 - val_loss: 0.4585 - val_acc: 0.8193\n",
            "Epoch 19/50\n",
            "20000/20000 [==============================] - 206s 10ms/sample - loss: 0.2046 - acc: 0.9135 - val_loss: 0.4896 - val_acc: 0.8189\n",
            "Epoch 20/50\n",
            "20000/20000 [==============================] - 207s 10ms/sample - loss: 0.2006 - acc: 0.9153 - val_loss: 0.4998 - val_acc: 0.8168\n",
            "Epoch 21/50\n",
            "20000/20000 [==============================] - 202s 10ms/sample - loss: 0.1921 - acc: 0.9208 - val_loss: 0.5414 - val_acc: 0.8158\n",
            "Epoch 22/50\n",
            "20000/20000 [==============================] - 198s 10ms/sample - loss: 0.1879 - acc: 0.9206 - val_loss: 0.5834 - val_acc: 0.8171\n",
            "Epoch 23/50\n",
            "20000/20000 [==============================] - 198s 10ms/sample - loss: 0.1786 - acc: 0.9253 - val_loss: 0.5882 - val_acc: 0.8109\n",
            "Epoch 24/50\n",
            "20000/20000 [==============================] - 200s 10ms/sample - loss: 0.1775 - acc: 0.9269 - val_loss: 0.5946 - val_acc: 0.8098\n",
            "Epoch 25/50\n",
            "20000/20000 [==============================] - 197s 10ms/sample - loss: 0.1697 - acc: 0.9295 - val_loss: 0.6123 - val_acc: 0.8109\n",
            "Epoch 26/50\n",
            "20000/20000 [==============================] - 197s 10ms/sample - loss: 0.1634 - acc: 0.9324 - val_loss: 0.7000 - val_acc: 0.8123\n",
            "Epoch 27/50\n",
            "20000/20000 [==============================] - 195s 10ms/sample - loss: 0.1566 - acc: 0.9359 - val_loss: 0.7073 - val_acc: 0.8101\n",
            "Epoch 28/50\n",
            "20000/20000 [==============================] - 194s 10ms/sample - loss: 0.1532 - acc: 0.9365 - val_loss: 0.7867 - val_acc: 0.8150\n",
            "Epoch 29/50\n",
            "20000/20000 [==============================] - 194s 10ms/sample - loss: 0.1464 - acc: 0.9391 - val_loss: 0.7576 - val_acc: 0.8009\n",
            "Epoch 30/50\n",
            "20000/20000 [==============================] - 193s 10ms/sample - loss: 0.1422 - acc: 0.9412 - val_loss: 0.8657 - val_acc: 0.8091\n",
            "Epoch 31/50\n",
            "20000/20000 [==============================] - 197s 10ms/sample - loss: 0.1349 - acc: 0.9441 - val_loss: 0.9383 - val_acc: 0.8070\n",
            "Epoch 32/50\n",
            "20000/20000 [==============================] - 198s 10ms/sample - loss: 0.1314 - acc: 0.9445 - val_loss: 0.9797 - val_acc: 0.8059\n",
            "Epoch 33/50\n",
            "20000/20000 [==============================] - 198s 10ms/sample - loss: 0.1285 - acc: 0.9464 - val_loss: 0.9505 - val_acc: 0.8123\n",
            "Epoch 34/50\n",
            "20000/20000 [==============================] - 197s 10ms/sample - loss: 0.1235 - acc: 0.9495 - val_loss: 0.9886 - val_acc: 0.8049\n",
            "Epoch 35/50\n",
            "20000/20000 [==============================] - 200s 10ms/sample - loss: 0.1158 - acc: 0.9526 - val_loss: 1.0815 - val_acc: 0.8083\n",
            "Epoch 36/50\n",
            "20000/20000 [==============================] - 197s 10ms/sample - loss: 0.1117 - acc: 0.9549 - val_loss: 1.1102 - val_acc: 0.8052\n",
            "Epoch 37/50\n",
            "20000/20000 [==============================] - 197s 10ms/sample - loss: 0.1105 - acc: 0.9541 - val_loss: 1.1778 - val_acc: 0.8043\n",
            "Epoch 38/50\n",
            "20000/20000 [==============================] - 198s 10ms/sample - loss: 0.1052 - acc: 0.9556 - val_loss: 1.0776 - val_acc: 0.8027\n",
            "Epoch 39/50\n",
            "20000/20000 [==============================] - 198s 10ms/sample - loss: 0.1032 - acc: 0.9577 - val_loss: 1.2393 - val_acc: 0.7995\n",
            "Epoch 40/50\n",
            "20000/20000 [==============================] - 197s 10ms/sample - loss: 0.1068 - acc: 0.9556 - val_loss: 1.2954 - val_acc: 0.8044\n",
            "Epoch 41/50\n",
            "20000/20000 [==============================] - 197s 10ms/sample - loss: 0.0961 - acc: 0.9607 - val_loss: 1.3265 - val_acc: 0.8032\n",
            "Epoch 42/50\n",
            "20000/20000 [==============================] - 198s 10ms/sample - loss: 0.0941 - acc: 0.9607 - val_loss: 1.3070 - val_acc: 0.8062\n",
            "Epoch 43/50\n",
            "20000/20000 [==============================] - 197s 10ms/sample - loss: 0.0893 - acc: 0.9616 - val_loss: 1.5748 - val_acc: 0.8028\n",
            "Epoch 44/50\n",
            "20000/20000 [==============================] - 199s 10ms/sample - loss: 0.0904 - acc: 0.9631 - val_loss: 1.4804 - val_acc: 0.8022\n",
            "Epoch 45/50\n",
            "20000/20000 [==============================] - 197s 10ms/sample - loss: 0.0869 - acc: 0.9630 - val_loss: 1.4746 - val_acc: 0.8003\n",
            "Epoch 46/50\n",
            "20000/20000 [==============================] - 197s 10ms/sample - loss: 0.0808 - acc: 0.9664 - val_loss: 1.6409 - val_acc: 0.8032\n",
            "Epoch 47/50\n",
            "20000/20000 [==============================] - 198s 10ms/sample - loss: 0.0778 - acc: 0.9665 - val_loss: 1.6807 - val_acc: 0.8007\n",
            "Epoch 48/50\n",
            "20000/20000 [==============================] - 198s 10ms/sample - loss: 0.0845 - acc: 0.9639 - val_loss: 1.6462 - val_acc: 0.7970\n",
            "Epoch 49/50\n",
            "20000/20000 [==============================] - 198s 10ms/sample - loss: 0.0833 - acc: 0.9648 - val_loss: 1.6224 - val_acc: 0.8035\n",
            "Epoch 50/50\n",
            "20000/20000 [==============================] - 198s 10ms/sample - loss: 0.0747 - acc: 0.9670 - val_loss: 1.7137 - val_acc: 0.8038\n"
          ],
          "name": "stdout"
        }
      ]
    },
    {
      "cell_type": "code",
      "metadata": {
        "id": "g9DC6dmLF8DC",
        "colab_type": "code",
        "outputId": "5d2a7c33-698b-4a2a-e319-4028ad1e1f23",
        "colab": {
          "base_uri": "https://localhost:8080/",
          "height": 543
        }
      },
      "source": [
        "import matplotlib.pyplot as plt\n",
        "\n",
        "\n",
        "def plot_graphs(history, string):\n",
        "  plt.plot(history.history[string])\n",
        "  plt.plot(history.history['val_'+string])\n",
        "  plt.xlabel(\"Epochs\")\n",
        "  plt.ylabel(string)\n",
        "  plt.legend([string, 'val_'+string])\n",
        "  plt.show()\n",
        "\n",
        "plot_graphs(history, 'acc')\n",
        "plot_graphs(history, 'loss')"
      ],
      "execution_count": 0,
      "outputs": [
        {
          "output_type": "display_data",
          "data": {
            "image/png": "[encoded data removed]",
            "text/plain": [
              "<Figure size 432x288 with 1 Axes>"
            ]
          },
          "metadata": {
            "tags": []
          }
        },
        {
          "output_type": "display_data",
          "data": {
            "image/png": "[encoded data removed]",
            "text/plain": [
              "<Figure size 432x288 with 1 Axes>"
            ]
          },
          "metadata": {
            "tags": []
          }
        }
      ]
    },
    {
      "cell_type": "code",
      "metadata": {
        "id": "7ZEZIUppGhdi",
        "colab_type": "code",
        "colab": {}
      },
      "source": [
        "model.save(\"test.h5\")"
      ],
      "execution_count": 0,
      "outputs": []
    },
    {
      "cell_type": "code",
      "metadata": {
        "id": "_4MWBzynxQxH",
        "colab_type": "code",
        "colab": {}
      },
      "source": [
        ""
      ],
      "execution_count": 0,
      "outputs": []
    }
  ]
}