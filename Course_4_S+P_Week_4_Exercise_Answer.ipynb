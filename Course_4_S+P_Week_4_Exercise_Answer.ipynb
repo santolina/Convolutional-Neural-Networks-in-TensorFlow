{
  "nbformat": 4,
  "nbformat_minor": 0,
  "metadata": {
    "colab": {
      "name": "Course 4 S+P Week 4 Exercise Answer",
      "provenance": [],
      "collapsed_sections": [],
      "include_colab_link": true
    },
    "kernelspec": {
      "name": "python3",
      "display_name": "Python 3"
    },
    "accelerator": "GPU"
  },
  "cells": [
    {
      "cell_type": "markdown",
      "metadata": {
        "id": "view-in-github",
        "colab_type": "text"
      },
      "source": [
        "<a href=\"https://colab.research.google.com/github/santolina/Convolutional-Neural-Networks-in-TensorFlow/blob/master/Course_4_S%2BP_Week_4_Exercise_Answer.ipynb\" target=\"_parent\"><img src=\"https://colab.research.google.com/assets/colab-badge.svg\" alt=\"Open In Colab\"/></a>"
      ]
    },
    {
      "cell_type": "code",
      "metadata": {
        "id": "GNkzTFfynsmV",
        "colab_type": "code",
        "colab": {}
      },
      "source": [
        "#!pip install tensorflow==2.0.0b1\n",
        "%tensorflow_version 2.x"
      ],
      "execution_count": 0,
      "outputs": []
    },
    {
      "cell_type": "code",
      "metadata": {
        "id": "56XEQOGknrAk",
        "colab_type": "code",
        "outputId": "dbbbb1f0-1b68-4bee-8fa6-689eec1cf224",
        "colab": {
          "base_uri": "https://localhost:8080/",
          "height": 34
        }
      },
      "source": [
        "import tensorflow as tf\n",
        "print(tf.__version__)"
      ],
      "execution_count": 19,
      "outputs": [
        {
          "output_type": "stream",
          "text": [
            "2.0.0\n"
          ],
          "name": "stdout"
        }
      ]
    },
    {
      "cell_type": "code",
      "metadata": {
        "id": "sLl52leVp5wU",
        "colab_type": "code",
        "colab": {}
      },
      "source": [
        "import numpy as np\n",
        "import matplotlib.pyplot as plt\n",
        "def plot_series(time, series, format=\"-\", start=0, end=None):\n",
        "    plt.plot(time[start:end], series[start:end], format)\n",
        "    plt.xlabel(\"Time\")\n",
        "    plt.ylabel(\"Value\")\n",
        "    plt.grid(True)"
      ],
      "execution_count": 0,
      "outputs": []
    },
    {
      "cell_type": "code",
      "metadata": {
        "id": "tP7oqUdkk0gY",
        "colab_type": "code",
        "colab": {
          "base_uri": "https://localhost:8080/",
          "height": 204
        },
        "outputId": "aa4db8f9-f86b-441a-e79f-d5e465416cb4"
      },
      "source": [
        "!wget --no-check-certificate \\\n",
        "    https://raw.githubusercontent.com/jbrownlee/Datasets/master/daily-min-temperatures.csv \\\n",
        "    -O /tmp/daily-min-temperatures.csv"
      ],
      "execution_count": 21,
      "outputs": [
        {
          "output_type": "stream",
          "text": [
            "--2019-11-27 14:27:45--  https://raw.githubusercontent.com/jbrownlee/Datasets/master/daily-min-temperatures.csv\n",
            "Resolving raw.githubusercontent.com (raw.githubusercontent.com)... 151.101.0.133, 151.101.64.133, 151.101.128.133, ...\n",
            "Connecting to raw.githubusercontent.com (raw.githubusercontent.com)|151.101.0.133|:443... connected.\n",
            "HTTP request sent, awaiting response... 200 OK\n",
            "Length: 67921 (66K) [text/plain]\n",
            "Saving to: ‘/tmp/daily-min-temperatures.csv’\n",
            "\n",
            "\r          /tmp/dail   0%[                    ]       0  --.-KB/s               \r/tmp/daily-min-temp 100%[===================>]  66.33K  --.-KB/s    in 0.02s   \n",
            "\n",
            "2019-11-27 14:27:45 (2.64 MB/s) - ‘/tmp/daily-min-temperatures.csv’ saved [67921/67921]\n",
            "\n"
          ],
          "name": "stdout"
        }
      ]
    },
    {
      "cell_type": "code",
      "metadata": {
        "id": "NcG9r1eClbTh",
        "colab_type": "code",
        "outputId": "fd4128f9-97db-4561-ac7d-92f7f9c071a3",
        "colab": {
          "base_uri": "https://localhost:8080/",
          "height": 388
        }
      },
      "source": [
        "import csv\n",
        "time_step = []\n",
        "temps = []\n",
        "\n",
        "with open('/tmp/daily-min-temperatures.csv') as csvfile:\n",
        "  reader = csv.reader(csvfile, delimiter=',')\n",
        "  next(reader)\n",
        "  step=0\n",
        "  for row in reader:\n",
        "    temps.append(float(row[1]))\n",
        "    time_step.append(step)\n",
        "    step = step + 1\n",
        "\n",
        "series = np.array(temps)\n",
        "time = np.array(time_step)\n",
        "plt.figure(figsize=(10, 6))\n",
        "plot_series(time, series)"
      ],
      "execution_count": 22,
      "outputs": [
        {
          "output_type": "display_data",
          "data": {
            "image/png": "[encoded data removed]",
            "text/plain": [
              "<Figure size 720x432 with 1 Axes>"
            ]
          },
          "metadata": {
            "tags": []
          }
        }
      ]
    },
    {
      "cell_type": "code",
      "metadata": {
        "id": "L92YRw_IpCFG",
        "colab_type": "code",
        "colab": {}
      },
      "source": [
        "split_time = 2500\n",
        "time_train = time[:split_time]\n",
        "x_train = series[:split_time]\n",
        "time_valid = time[split_time:]\n",
        "x_valid = series[split_time:]\n",
        "\n",
        "window_size = 30\n",
        "batch_size = 32\n",
        "shuffle_buffer_size = 1000\n",
        "\n"
      ],
      "execution_count": 0,
      "outputs": []
    },
    {
      "cell_type": "code",
      "metadata": {
        "id": "lJwUUZscnG38",
        "colab_type": "code",
        "colab": {}
      },
      "source": [
        "def windowed_dataset(series, window_size, batch_size, shuffle_buffer):\n",
        "    series = tf.expand_dims(series, axis=-1)\n",
        "    ds = tf.data.Dataset.from_tensor_slices(series)\n",
        "    ds = ds.window(window_size + 1, shift=1, drop_remainder=True)\n",
        "    ds = ds.flat_map(lambda w: w.batch(window_size + 1))\n",
        "    ds = ds.shuffle(shuffle_buffer)\n",
        "    ds = ds.map(lambda w: (w[:-1], w[1:]))\n",
        "    return ds.batch(batch_size).prefetch(1)"
      ],
      "execution_count": 0,
      "outputs": []
    },
    {
      "cell_type": "code",
      "metadata": {
        "id": "4XwGrf-A_wF0",
        "colab_type": "code",
        "colab": {}
      },
      "source": [
        "def model_forecast(model, series, window_size):\n",
        "    ds = tf.data.Dataset.from_tensor_slices(series)\n",
        "    ds = ds.window(window_size, shift=1, drop_remainder=True)\n",
        "    ds = ds.flat_map(lambda w: w.batch(window_size))\n",
        "    ds = ds.batch(32).prefetch(1)\n",
        "    forecast = model.predict(ds)\n",
        "    return forecast"
      ],
      "execution_count": 0,
      "outputs": []
    },
    {
      "cell_type": "code",
      "metadata": {
        "id": "AclfYY3Mn6Ph",
        "colab_type": "code",
        "outputId": "0e1b4bfe-bda3-4a7f-f308-6fccf08e5fcd",
        "colab": {
          "base_uri": "https://localhost:8080/",
          "height": 1000
        }
      },
      "source": [
        "tf.keras.backend.clear_session()\n",
        "tf.random.set_seed(51)\n",
        "np.random.seed(51)\n",
        "window_size = 64\n",
        "batch_size = 256\n",
        "train_set = windowed_dataset(x_train, window_size, batch_size, shuffle_buffer_size)\n",
        "print(train_set)\n",
        "print(x_train.shape)\n",
        "\n",
        "model = tf.keras.models.Sequential([\n",
        "  tf.keras.layers.Conv1D(filters=32, kernel_size=5,\n",
        "                      strides=1, padding=\"causal\",\n",
        "                      activation=\"relu\",\n",
        "                      input_shape=[None, 1]),\n",
        "  tf.keras.layers.LSTM(64, return_sequences=True),\n",
        "  tf.keras.layers.LSTM(64, return_sequences=True),\n",
        "  tf.keras.layers.Dense(30, activation=\"relu\"),\n",
        "  tf.keras.layers.Dense(10, activation=\"relu\"),\n",
        "  tf.keras.layers.Dense(1),\n",
        "  tf.keras.layers.Lambda(lambda x: x * 400)\n",
        "])\n",
        "\n",
        "lr_schedule = tf.keras.callbacks.LearningRateScheduler(\n",
        "    lambda epoch: 1e-8 * 10**(epoch / 20))\n",
        "optimizer = tf.keras.optimizers.SGD(lr=1e-8, momentum=0.9)\n",
        "model.compile(loss=tf.keras.losses.Huber(),\n",
        "              optimizer=optimizer,\n",
        "              metrics=[\"mae\"])\n",
        "history = model.fit(train_set, epochs=100, callbacks=[lr_schedule])\n",
        "\n",
        "\n"
      ],
      "execution_count": 26,
      "outputs": [
        {
          "output_type": "stream",
          "text": [
            "<PrefetchDataset shapes: ((None, None, 1), (None, None, 1)), types: (tf.float64, tf.float64)>\n",
            "(2500,)\n",
            "Epoch 1/100\n",
            "10/10 [==============================] - 5s 457ms/step - loss: 31.1549 - mae: 31.6551\n",
            "Epoch 2/100\n",
            "10/10 [==============================] - 1s 69ms/step - loss: 30.5753 - mae: 31.0783\n",
            "Epoch 3/100\n",
            "10/10 [==============================] - 1s 69ms/step - loss: 29.7469 - mae: 30.1792\n",
            "Epoch 4/100\n",
            "10/10 [==============================] - 1s 74ms/step - loss: 28.5816 - mae: 29.0582\n",
            "Epoch 5/100\n",
            "10/10 [==============================] - 1s 71ms/step - loss: 27.1349 - mae: 27.6970\n",
            "Epoch 6/100\n",
            "10/10 [==============================] - 1s 82ms/step - loss: 25.5287 - mae: 25.9975\n",
            "Epoch 7/100\n",
            "10/10 [==============================] - 1s 77ms/step - loss: 23.3412 - mae: 23.8407\n",
            "Epoch 8/100\n",
            "10/10 [==============================] - 1s 80ms/step - loss: 20.6980 - mae: 21.1120\n",
            "Epoch 9/100\n",
            "10/10 [==============================] - 1s 74ms/step - loss: 17.4437 - mae: 17.8083\n",
            "Epoch 10/100\n",
            "10/10 [==============================] - 1s 80ms/step - loss: 13.7512 - mae: 14.1192\n",
            "Epoch 11/100\n",
            "10/10 [==============================] - 1s 76ms/step - loss: 10.3053 - mae: 10.6376\n",
            "Epoch 12/100\n",
            "10/10 [==============================] - 1s 76ms/step - loss: 7.6534 - mae: 8.0748\n",
            "Epoch 13/100\n",
            "10/10 [==============================] - 1s 68ms/step - loss: 6.3056 - mae: 6.7677\n",
            "Epoch 14/100\n",
            "10/10 [==============================] - 1s 67ms/step - loss: 5.7424 - mae: 6.1923\n",
            "Epoch 15/100\n",
            "10/10 [==============================] - 1s 80ms/step - loss: 5.3617 - mae: 5.8193\n",
            "Epoch 16/100\n",
            "10/10 [==============================] - 1s 77ms/step - loss: 4.9649 - mae: 5.4211\n",
            "Epoch 17/100\n",
            "10/10 [==============================] - 1s 65ms/step - loss: 4.5722 - mae: 5.0347\n",
            "Epoch 18/100\n",
            "10/10 [==============================] - 1s 68ms/step - loss: 4.2446 - mae: 4.7072\n",
            "Epoch 19/100\n",
            "10/10 [==============================] - 1s 80ms/step - loss: 3.9757 - mae: 4.4371\n",
            "Epoch 20/100\n",
            "10/10 [==============================] - 1s 74ms/step - loss: 3.7648 - mae: 4.2190\n",
            "Epoch 21/100\n",
            "10/10 [==============================] - 1s 77ms/step - loss: 3.5954 - mae: 4.0531\n",
            "Epoch 22/100\n",
            "10/10 [==============================] - 1s 71ms/step - loss: 3.4795 - mae: 3.9356\n",
            "Epoch 23/100\n",
            "10/10 [==============================] - 1s 63ms/step - loss: 3.3746 - mae: 3.8415\n",
            "Epoch 24/100\n",
            "10/10 [==============================] - 1s 66ms/step - loss: 3.3009 - mae: 3.7655\n",
            "Epoch 25/100\n",
            "10/10 [==============================] - 1s 73ms/step - loss: 3.2372 - mae: 3.6977\n",
            "Epoch 26/100\n",
            "10/10 [==============================] - 1s 69ms/step - loss: 3.1713 - mae: 3.6339\n",
            "Epoch 27/100\n",
            "10/10 [==============================] - 1s 68ms/step - loss: 3.1150 - mae: 3.5704\n",
            "Epoch 28/100\n",
            "10/10 [==============================] - 1s 69ms/step - loss: 3.0381 - mae: 3.5040\n",
            "Epoch 29/100\n",
            "10/10 [==============================] - 1s 65ms/step - loss: 2.9743 - mae: 3.4380\n",
            "Epoch 30/100\n",
            "10/10 [==============================] - 1s 78ms/step - loss: 2.9115 - mae: 3.3710\n",
            "Epoch 31/100\n",
            "10/10 [==============================] - 1s 66ms/step - loss: 2.8481 - mae: 3.3076\n",
            "Epoch 32/100\n",
            "10/10 [==============================] - 1s 72ms/step - loss: 2.7903 - mae: 3.2493\n",
            "Epoch 33/100\n",
            "10/10 [==============================] - 1s 71ms/step - loss: 2.7308 - mae: 3.1916\n",
            "Epoch 34/100\n",
            "10/10 [==============================] - 1s 75ms/step - loss: 2.6765 - mae: 3.1348\n",
            "Epoch 35/100\n",
            "10/10 [==============================] - 1s 83ms/step - loss: 2.6279 - mae: 3.0869\n",
            "Epoch 36/100\n",
            "10/10 [==============================] - 1s 77ms/step - loss: 2.5779 - mae: 3.0360\n",
            "Epoch 37/100\n",
            "10/10 [==============================] - 1s 65ms/step - loss: 2.5291 - mae: 2.9878\n",
            "Epoch 38/100\n",
            "10/10 [==============================] - 1s 72ms/step - loss: 2.4822 - mae: 2.9408\n",
            "Epoch 39/100\n",
            "10/10 [==============================] - 1s 67ms/step - loss: 2.4446 - mae: 2.8970\n",
            "Epoch 40/100\n",
            "10/10 [==============================] - 1s 74ms/step - loss: 2.3994 - mae: 2.8538\n",
            "Epoch 41/100\n",
            "10/10 [==============================] - 1s 69ms/step - loss: 2.3590 - mae: 2.8118\n",
            "Epoch 42/100\n",
            "10/10 [==============================] - 1s 67ms/step - loss: 2.3189 - mae: 2.7700\n",
            "Epoch 43/100\n",
            "10/10 [==============================] - 1s 68ms/step - loss: 2.2793 - mae: 2.7302\n",
            "Epoch 44/100\n",
            "10/10 [==============================] - 1s 72ms/step - loss: 2.2343 - mae: 2.6897\n",
            "Epoch 45/100\n",
            "10/10 [==============================] - 1s 73ms/step - loss: 2.2012 - mae: 2.6534\n",
            "Epoch 46/100\n",
            "10/10 [==============================] - 1s 87ms/step - loss: 2.1663 - mae: 2.6186\n",
            "Epoch 47/100\n",
            "10/10 [==============================] - 1s 73ms/step - loss: 2.1309 - mae: 2.5873\n",
            "Epoch 48/100\n",
            "10/10 [==============================] - 1s 72ms/step - loss: 2.1043 - mae: 2.5580\n",
            "Epoch 49/100\n",
            "10/10 [==============================] - 1s 74ms/step - loss: 2.0843 - mae: 2.5342\n",
            "Epoch 50/100\n",
            "10/10 [==============================] - 1s 74ms/step - loss: 2.0535 - mae: 2.5051\n",
            "Epoch 51/100\n",
            "10/10 [==============================] - 1s 72ms/step - loss: 2.0280 - mae: 2.4808\n",
            "Epoch 52/100\n",
            "10/10 [==============================] - 1s 70ms/step - loss: 2.0094 - mae: 2.4607\n",
            "Epoch 53/100\n",
            "10/10 [==============================] - 1s 73ms/step - loss: 1.9883 - mae: 2.4382\n",
            "Epoch 54/100\n",
            "10/10 [==============================] - 1s 74ms/step - loss: 1.9709 - mae: 2.4230\n",
            "Epoch 55/100\n",
            "10/10 [==============================] - 1s 67ms/step - loss: 1.9475 - mae: 2.3983\n",
            "Epoch 56/100\n",
            "10/10 [==============================] - 1s 70ms/step - loss: 1.9256 - mae: 2.3799\n",
            "Epoch 57/100\n",
            "10/10 [==============================] - 1s 82ms/step - loss: 1.9069 - mae: 2.3570\n",
            "Epoch 58/100\n",
            "10/10 [==============================] - 1s 70ms/step - loss: 1.8953 - mae: 2.3410\n",
            "Epoch 59/100\n",
            "10/10 [==============================] - 1s 70ms/step - loss: 1.9060 - mae: 2.3603\n",
            "Epoch 60/100\n",
            "10/10 [==============================] - 1s 74ms/step - loss: 2.2723 - mae: 2.7228\n",
            "Epoch 61/100\n",
            "10/10 [==============================] - 1s 73ms/step - loss: 2.7280 - mae: 3.1917\n",
            "Epoch 62/100\n",
            "10/10 [==============================] - 1s 68ms/step - loss: 3.0617 - mae: 3.5178\n",
            "Epoch 63/100\n",
            "10/10 [==============================] - 1s 72ms/step - loss: 3.4691 - mae: 3.9718\n",
            "Epoch 64/100\n",
            "10/10 [==============================] - 1s 67ms/step - loss: 3.7649 - mae: 4.2871\n",
            "Epoch 65/100\n",
            "10/10 [==============================] - 1s 65ms/step - loss: 4.0156 - mae: 4.5415\n",
            "Epoch 66/100\n",
            "10/10 [==============================] - 1s 70ms/step - loss: 4.3353 - mae: 4.8038\n",
            "Epoch 67/100\n",
            "10/10 [==============================] - 1s 68ms/step - loss: 4.6238 - mae: 5.0696\n",
            "Epoch 68/100\n",
            "10/10 [==============================] - 1s 76ms/step - loss: 4.9081 - mae: 5.3237\n",
            "Epoch 69/100\n",
            "10/10 [==============================] - 1s 70ms/step - loss: 4.2911 - mae: 5.0359\n",
            "Epoch 70/100\n",
            "10/10 [==============================] - 1s 64ms/step - loss: 13.3509 - mae: 13.3897\n",
            "Epoch 71/100\n",
            "10/10 [==============================] - 1s 70ms/step - loss: 8.6730 - mae: 8.8985\n",
            "Epoch 72/100\n",
            "10/10 [==============================] - 1s 77ms/step - loss: 8.2716 - mae: 8.6869\n",
            "Epoch 73/100\n",
            "10/10 [==============================] - 1s 70ms/step - loss: 5.0619 - mae: 5.6607\n",
            "Epoch 74/100\n",
            "10/10 [==============================] - 1s 70ms/step - loss: 4.8306 - mae: 5.3018\n",
            "Epoch 75/100\n",
            "10/10 [==============================] - 1s 76ms/step - loss: 3.6392 - mae: 4.1084\n",
            "Epoch 76/100\n",
            "10/10 [==============================] - 1s 75ms/step - loss: 3.4150 - mae: 3.8487\n",
            "Epoch 77/100\n",
            "10/10 [==============================] - 1s 74ms/step - loss: 3.2267 - mae: 3.6760\n",
            "Epoch 78/100\n",
            "10/10 [==============================] - 1s 70ms/step - loss: 2.8777 - mae: 3.3341\n",
            "Epoch 79/100\n",
            "10/10 [==============================] - 1s 70ms/step - loss: 2.8304 - mae: 3.2931\n",
            "Epoch 80/100\n",
            "10/10 [==============================] - 1s 68ms/step - loss: 6.1134 - mae: 6.6402\n",
            "Epoch 81/100\n",
            "10/10 [==============================] - 1s 75ms/step - loss: 7.2064 - mae: 7.6317\n",
            "Epoch 82/100\n",
            "10/10 [==============================] - 1s 73ms/step - loss: 8.3608 - mae: 8.7265\n",
            "Epoch 83/100\n",
            "10/10 [==============================] - 1s 81ms/step - loss: 10.3397 - mae: 10.9024\n",
            "Epoch 84/100\n",
            "10/10 [==============================] - 1s 70ms/step - loss: 9.6473 - mae: 10.0878\n",
            "Epoch 85/100\n",
            "10/10 [==============================] - 1s 69ms/step - loss: 5.0665 - mae: 5.4381\n",
            "Epoch 86/100\n",
            "10/10 [==============================] - 1s 71ms/step - loss: 5.2547 - mae: 5.8034\n",
            "Epoch 87/100\n",
            "10/10 [==============================] - 1s 65ms/step - loss: 7.4064 - mae: 7.9871\n",
            "Epoch 88/100\n",
            "10/10 [==============================] - 1s 76ms/step - loss: 7.8411 - mae: 8.4560\n",
            "Epoch 89/100\n",
            "10/10 [==============================] - 1s 75ms/step - loss: 17.2202 - mae: 19.1140\n",
            "Epoch 90/100\n",
            "10/10 [==============================] - 1s 73ms/step - loss: 74.9967 - mae: 75.9752\n",
            "Epoch 91/100\n",
            "10/10 [==============================] - 1s 74ms/step - loss: 57.5261 - mae: 62.6956\n",
            "Epoch 92/100\n",
            "10/10 [==============================] - 1s 80ms/step - loss: 51.8259 - mae: 52.2756\n",
            "Epoch 93/100\n",
            "10/10 [==============================] - 1s 82ms/step - loss: 28.9297 - mae: 30.9595\n",
            "Epoch 94/100\n",
            "10/10 [==============================] - 1s 75ms/step - loss: 33.9001 - mae: 35.7458\n",
            "Epoch 95/100\n",
            "10/10 [==============================] - 1s 81ms/step - loss: 39.4415 - mae: 40.6459\n",
            "Epoch 96/100\n",
            "10/10 [==============================] - 1s 82ms/step - loss: 44.5409 - mae: 45.4939\n",
            "Epoch 97/100\n",
            "10/10 [==============================] - 1s 83ms/step - loss: 54.6909 - mae: 53.8262\n",
            "Epoch 98/100\n",
            "10/10 [==============================] - 1s 84ms/step - loss: 54.4599 - mae: 57.3490\n",
            "Epoch 99/100\n",
            "10/10 [==============================] - 1s 81ms/step - loss: 69.9326 - mae: 68.4256\n",
            "Epoch 100/100\n",
            "10/10 [==============================] - 1s 71ms/step - loss: 69.2410 - mae: 72.4732\n"
          ],
          "name": "stdout"
        }
      ]
    },
    {
      "cell_type": "code",
      "metadata": {
        "id": "vVcKmg7Q_7rD",
        "colab_type": "code",
        "outputId": "8a95a0d5-b80d-4fd0-b986-4004c25d016a",
        "colab": {
          "base_uri": "https://localhost:8080/",
          "height": 273
        }
      },
      "source": [
        "plt.semilogx(history.history[\"lr\"], history.history[\"loss\"])\n",
        "plt.axis([1e-8, 1e-4, 0, 60])\n",
        "plt.grid(True)\n",
        "plt.show()"
      ],
      "execution_count": 28,
      "outputs": [
        {
          "output_type": "display_data",
          "data": {
            "image/png": "[encoded data removed]",
            "text/plain": [
              "<Figure size 432x288 with 1 Axes>"
            ]
          },
          "metadata": {
            "tags": []
          }
        }
      ]
    },
    {
      "cell_type": "code",
      "metadata": {
        "id": "QsksvkcXAAgq",
        "colab_type": "code",
        "outputId": "55577438-17cf-467e-ddad-e248d9d716bb",
        "colab": {
          "base_uri": "https://localhost:8080/",
          "height": 1000
        }
      },
      "source": [
        "tf.keras.backend.clear_session()\n",
        "tf.random.set_seed(51)\n",
        "np.random.seed(51)\n",
        "train_set = windowed_dataset(x_train, window_size=60, batch_size=100, shuffle_buffer=shuffle_buffer_size)\n",
        "model = tf.keras.models.Sequential([\n",
        "  tf.keras.layers.Conv1D(filters=60, kernel_size=5,\n",
        "                      strides=1, padding=\"causal\",\n",
        "                      activation=\"relu\",\n",
        "                      input_shape=[None, 1]),\n",
        "  tf.keras.layers.LSTM(60, return_sequences=True),\n",
        "  tf.keras.layers.LSTM(60, return_sequences=True),\n",
        "  tf.keras.layers.Dense(30, activation=\"relu\"),\n",
        "  tf.keras.layers.Dense(10, activation=\"relu\"),\n",
        "  tf.keras.layers.Dense(1),\n",
        "  tf.keras.layers.Lambda(lambda x: x * 400)\n",
        "])\n",
        "\n",
        "\n",
        "optimizer = tf.keras.optimizers.SGD(lr=0.8e-5, momentum=0.9)\n",
        "model.compile(loss=tf.keras.losses.Huber(),\n",
        "              optimizer=optimizer,\n",
        "              metrics=[\"mae\"])\n",
        "history = model.fit(train_set,epochs=150)"
      ],
      "execution_count": 30,
      "outputs": [
        {
          "output_type": "stream",
          "text": [
            "Epoch 1/150\n",
            "25/25 [==============================] - 5s 185ms/step - loss: 12.5038 - mae: 13.1784\n",
            "Epoch 2/150\n",
            "25/25 [==============================] - 1s 34ms/step - loss: 2.7729 - mae: 3.2300\n",
            "Epoch 3/150\n",
            "25/25 [==============================] - 1s 31ms/step - loss: 2.0290 - mae: 2.4841\n",
            "Epoch 4/150\n",
            "25/25 [==============================] - 1s 34ms/step - loss: 1.9004 - mae: 2.3558\n",
            "Epoch 5/150\n",
            "25/25 [==============================] - 1s 36ms/step - loss: 1.8576 - mae: 2.3103\n",
            "Epoch 6/150\n",
            "25/25 [==============================] - 1s 34ms/step - loss: 1.8274 - mae: 2.2795\n",
            "Epoch 7/150\n",
            "25/25 [==============================] - 1s 37ms/step - loss: 1.8061 - mae: 2.2571\n",
            "Epoch 8/150\n",
            "25/25 [==============================] - 1s 34ms/step - loss: 1.7796 - mae: 2.2288\n",
            "Epoch 9/150\n",
            "25/25 [==============================] - 1s 36ms/step - loss: 1.7616 - mae: 2.2097\n",
            "Epoch 10/150\n",
            "25/25 [==============================] - 1s 38ms/step - loss: 1.7408 - mae: 2.1888\n",
            "Epoch 11/150\n",
            "25/25 [==============================] - 1s 33ms/step - loss: 1.7227 - mae: 2.1707\n",
            "Epoch 12/150\n",
            "25/25 [==============================] - 1s 34ms/step - loss: 1.7082 - mae: 2.1566\n",
            "Epoch 13/150\n",
            "25/25 [==============================] - 1s 35ms/step - loss: 1.6912 - mae: 2.1391\n",
            "Epoch 14/150\n",
            "25/25 [==============================] - 1s 34ms/step - loss: 1.6763 - mae: 2.1245\n",
            "Epoch 15/150\n",
            "25/25 [==============================] - 1s 33ms/step - loss: 1.6675 - mae: 2.1141\n",
            "Epoch 16/150\n",
            "25/25 [==============================] - 1s 33ms/step - loss: 1.6548 - mae: 2.1013\n",
            "Epoch 17/150\n",
            "25/25 [==============================] - 1s 34ms/step - loss: 1.6495 - mae: 2.0953\n",
            "Epoch 18/150\n",
            "25/25 [==============================] - 1s 36ms/step - loss: 1.6407 - mae: 2.0849\n",
            "Epoch 19/150\n",
            "25/25 [==============================] - 1s 37ms/step - loss: 1.6348 - mae: 2.0786\n",
            "Epoch 20/150\n",
            "25/25 [==============================] - 1s 35ms/step - loss: 1.6237 - mae: 2.0673\n",
            "Epoch 21/150\n",
            "25/25 [==============================] - 1s 37ms/step - loss: 1.6150 - mae: 2.0588\n",
            "Epoch 22/150\n",
            "25/25 [==============================] - 1s 36ms/step - loss: 1.6082 - mae: 2.0514\n",
            "Epoch 23/150\n",
            "25/25 [==============================] - 1s 37ms/step - loss: 1.6053 - mae: 2.0486\n",
            "Epoch 24/150\n",
            "25/25 [==============================] - 1s 36ms/step - loss: 1.5986 - mae: 2.0415\n",
            "Epoch 25/150\n",
            "25/25 [==============================] - 1s 34ms/step - loss: 1.5923 - mae: 2.0333\n",
            "Epoch 26/150\n",
            "25/25 [==============================] - 1s 32ms/step - loss: 1.5884 - mae: 2.0309\n",
            "Epoch 27/150\n",
            "25/25 [==============================] - 1s 31ms/step - loss: 1.5847 - mae: 2.0253\n",
            "Epoch 28/150\n",
            "25/25 [==============================] - 1s 36ms/step - loss: 1.5817 - mae: 2.0244\n",
            "Epoch 29/150\n",
            "25/25 [==============================] - 1s 31ms/step - loss: 1.5779 - mae: 2.0189\n",
            "Epoch 30/150\n",
            "25/25 [==============================] - 1s 34ms/step - loss: 1.5737 - mae: 2.0139\n",
            "Epoch 31/150\n",
            "25/25 [==============================] - 1s 32ms/step - loss: 1.5743 - mae: 2.0161\n",
            "Epoch 32/150\n",
            "25/25 [==============================] - 1s 34ms/step - loss: 1.5718 - mae: 2.0131\n",
            "Epoch 33/150\n",
            "25/25 [==============================] - 1s 34ms/step - loss: 1.5672 - mae: 2.0093\n",
            "Epoch 34/150\n",
            "25/25 [==============================] - 1s 33ms/step - loss: 1.5625 - mae: 2.0026\n",
            "Epoch 35/150\n",
            "25/25 [==============================] - 1s 32ms/step - loss: 1.5598 - mae: 2.0007\n",
            "Epoch 36/150\n",
            "25/25 [==============================] - 1s 36ms/step - loss: 1.5582 - mae: 1.9987\n",
            "Epoch 37/150\n",
            "25/25 [==============================] - 1s 35ms/step - loss: 1.5556 - mae: 1.9957\n",
            "Epoch 38/150\n",
            "25/25 [==============================] - 1s 33ms/step - loss: 1.5523 - mae: 1.9930\n",
            "Epoch 39/150\n",
            "25/25 [==============================] - 1s 32ms/step - loss: 1.5506 - mae: 1.9919\n",
            "Epoch 40/150\n",
            "25/25 [==============================] - 1s 35ms/step - loss: 1.5505 - mae: 1.9907\n",
            "Epoch 41/150\n",
            "25/25 [==============================] - 1s 32ms/step - loss: 1.5495 - mae: 1.9904\n",
            "Epoch 42/150\n",
            "25/25 [==============================] - 1s 36ms/step - loss: 1.5491 - mae: 1.9895\n",
            "Epoch 43/150\n",
            "25/25 [==============================] - 1s 34ms/step - loss: 1.5449 - mae: 1.9862\n",
            "Epoch 44/150\n",
            "25/25 [==============================] - 1s 35ms/step - loss: 1.5461 - mae: 1.9866\n",
            "Epoch 45/150\n",
            "25/25 [==============================] - 1s 35ms/step - loss: 1.5406 - mae: 1.9821\n",
            "Epoch 46/150\n",
            "25/25 [==============================] - 1s 32ms/step - loss: 1.5429 - mae: 1.9832\n",
            "Epoch 47/150\n",
            "25/25 [==============================] - 1s 33ms/step - loss: 1.5393 - mae: 1.9806\n",
            "Epoch 48/150\n",
            "25/25 [==============================] - 1s 34ms/step - loss: 1.5391 - mae: 1.9801\n",
            "Epoch 49/150\n",
            "25/25 [==============================] - 1s 32ms/step - loss: 1.5369 - mae: 1.9779\n",
            "Epoch 50/150\n",
            "25/25 [==============================] - 1s 32ms/step - loss: 1.5419 - mae: 1.9824\n",
            "Epoch 51/150\n",
            "25/25 [==============================] - 1s 36ms/step - loss: 1.5374 - mae: 1.9779\n",
            "Epoch 52/150\n",
            "25/25 [==============================] - 1s 35ms/step - loss: 1.5414 - mae: 1.9826\n",
            "Epoch 53/150\n",
            "25/25 [==============================] - 1s 35ms/step - loss: 1.5339 - mae: 1.9747\n",
            "Epoch 54/150\n",
            "25/25 [==============================] - 1s 34ms/step - loss: 1.5328 - mae: 1.9742\n",
            "Epoch 55/150\n",
            "25/25 [==============================] - 1s 34ms/step - loss: 1.5321 - mae: 1.9744\n",
            "Epoch 56/150\n",
            "25/25 [==============================] - 1s 33ms/step - loss: 1.5304 - mae: 1.9713\n",
            "Epoch 57/150\n",
            "25/25 [==============================] - 1s 33ms/step - loss: 1.5302 - mae: 1.9713\n",
            "Epoch 58/150\n",
            "25/25 [==============================] - 1s 33ms/step - loss: 1.5306 - mae: 1.9701\n",
            "Epoch 59/150\n",
            "25/25 [==============================] - 1s 34ms/step - loss: 1.5322 - mae: 1.9733\n",
            "Epoch 60/150\n",
            "25/25 [==============================] - 1s 33ms/step - loss: 1.5279 - mae: 1.9681\n",
            "Epoch 61/150\n",
            "25/25 [==============================] - 1s 33ms/step - loss: 1.5264 - mae: 1.9688\n",
            "Epoch 62/150\n",
            "25/25 [==============================] - 1s 37ms/step - loss: 1.5267 - mae: 1.9678\n",
            "Epoch 63/150\n",
            "25/25 [==============================] - 1s 39ms/step - loss: 1.5254 - mae: 1.9670\n",
            "Epoch 64/150\n",
            "25/25 [==============================] - 1s 37ms/step - loss: 1.5253 - mae: 1.9650\n",
            "Epoch 65/150\n",
            "25/25 [==============================] - 1s 35ms/step - loss: 1.5234 - mae: 1.9651\n",
            "Epoch 66/150\n",
            "25/25 [==============================] - 1s 33ms/step - loss: 1.5235 - mae: 1.9638\n",
            "Epoch 67/150\n",
            "25/25 [==============================] - 1s 33ms/step - loss: 1.5213 - mae: 1.9630\n",
            "Epoch 68/150\n",
            "25/25 [==============================] - 1s 34ms/step - loss: 1.5253 - mae: 1.9674\n",
            "Epoch 69/150\n",
            "25/25 [==============================] - 1s 34ms/step - loss: 1.5288 - mae: 1.9703\n",
            "Epoch 70/150\n",
            "25/25 [==============================] - 1s 33ms/step - loss: 1.5248 - mae: 1.9644\n",
            "Epoch 71/150\n",
            "25/25 [==============================] - 1s 32ms/step - loss: 1.5209 - mae: 1.9621\n",
            "Epoch 72/150\n",
            "25/25 [==============================] - 1s 31ms/step - loss: 1.5204 - mae: 1.9611\n",
            "Epoch 73/150\n",
            "25/25 [==============================] - 1s 38ms/step - loss: 1.5211 - mae: 1.9634\n",
            "Epoch 74/150\n",
            "25/25 [==============================] - 1s 36ms/step - loss: 1.5199 - mae: 1.9605\n",
            "Epoch 75/150\n",
            "25/25 [==============================] - 1s 35ms/step - loss: 1.5171 - mae: 1.9593\n",
            "Epoch 76/150\n",
            "25/25 [==============================] - 1s 34ms/step - loss: 1.5183 - mae: 1.9589\n",
            "Epoch 77/150\n",
            "25/25 [==============================] - 1s 31ms/step - loss: 1.5203 - mae: 1.9618\n",
            "Epoch 78/150\n",
            "25/25 [==============================] - 1s 35ms/step - loss: 1.5176 - mae: 1.9587\n",
            "Epoch 79/150\n",
            "25/25 [==============================] - 1s 36ms/step - loss: 1.5176 - mae: 1.9588\n",
            "Epoch 80/150\n",
            "25/25 [==============================] - 1s 37ms/step - loss: 1.5170 - mae: 1.9579\n",
            "Epoch 81/150\n",
            "25/25 [==============================] - 1s 33ms/step - loss: 1.5157 - mae: 1.9572\n",
            "Epoch 82/150\n",
            "25/25 [==============================] - 1s 32ms/step - loss: 1.5177 - mae: 1.9589\n",
            "Epoch 83/150\n",
            "25/25 [==============================] - 1s 37ms/step - loss: 1.5182 - mae: 1.9589\n",
            "Epoch 84/150\n",
            "25/25 [==============================] - 1s 34ms/step - loss: 1.5152 - mae: 1.9563\n",
            "Epoch 85/150\n",
            "25/25 [==============================] - 1s 35ms/step - loss: 1.5157 - mae: 1.9559\n",
            "Epoch 86/150\n",
            "25/25 [==============================] - 1s 35ms/step - loss: 1.5145 - mae: 1.9556\n",
            "Epoch 87/150\n",
            "25/25 [==============================] - 1s 38ms/step - loss: 1.5141 - mae: 1.9553\n",
            "Epoch 88/150\n",
            "25/25 [==============================] - 1s 37ms/step - loss: 1.5125 - mae: 1.9542\n",
            "Epoch 89/150\n",
            "25/25 [==============================] - 1s 34ms/step - loss: 1.5134 - mae: 1.9535\n",
            "Epoch 90/150\n",
            "25/25 [==============================] - 1s 32ms/step - loss: 1.5115 - mae: 1.9534\n",
            "Epoch 91/150\n",
            "25/25 [==============================] - 1s 33ms/step - loss: 1.5129 - mae: 1.9539\n",
            "Epoch 92/150\n",
            "25/25 [==============================] - 1s 35ms/step - loss: 1.5125 - mae: 1.9533\n",
            "Epoch 93/150\n",
            "25/25 [==============================] - 1s 37ms/step - loss: 1.5110 - mae: 1.9519\n",
            "Epoch 94/150\n",
            "25/25 [==============================] - 1s 33ms/step - loss: 1.5117 - mae: 1.9529\n",
            "Epoch 95/150\n",
            "25/25 [==============================] - 1s 36ms/step - loss: 1.5104 - mae: 1.9512\n",
            "Epoch 96/150\n",
            "25/25 [==============================] - 1s 33ms/step - loss: 1.5143 - mae: 1.9552\n",
            "Epoch 97/150\n",
            "25/25 [==============================] - 1s 34ms/step - loss: 1.5113 - mae: 1.9514\n",
            "Epoch 98/150\n",
            "25/25 [==============================] - 1s 36ms/step - loss: 1.5107 - mae: 1.9516\n",
            "Epoch 99/150\n",
            "25/25 [==============================] - 1s 32ms/step - loss: 1.5085 - mae: 1.9498\n",
            "Epoch 100/150\n",
            "25/25 [==============================] - 1s 34ms/step - loss: 1.5077 - mae: 1.9492\n",
            "Epoch 101/150\n",
            "25/25 [==============================] - 1s 31ms/step - loss: 1.5076 - mae: 1.9484\n",
            "Epoch 102/150\n",
            "25/25 [==============================] - 1s 33ms/step - loss: 1.5073 - mae: 1.9483\n",
            "Epoch 103/150\n",
            "25/25 [==============================] - 1s 34ms/step - loss: 1.5072 - mae: 1.9478\n",
            "Epoch 104/150\n",
            "25/25 [==============================] - 1s 32ms/step - loss: 1.5065 - mae: 1.9471\n",
            "Epoch 105/150\n",
            "25/25 [==============================] - 1s 32ms/step - loss: 1.5061 - mae: 1.9471\n",
            "Epoch 106/150\n",
            "25/25 [==============================] - 1s 37ms/step - loss: 1.5054 - mae: 1.9463\n",
            "Epoch 107/150\n",
            "25/25 [==============================] - 1s 36ms/step - loss: 1.5070 - mae: 1.9489\n",
            "Epoch 108/150\n",
            "25/25 [==============================] - 1s 35ms/step - loss: 1.5080 - mae: 1.9490\n",
            "Epoch 109/150\n",
            "25/25 [==============================] - 1s 34ms/step - loss: 1.5038 - mae: 1.9464\n",
            "Epoch 110/150\n",
            "25/25 [==============================] - 1s 35ms/step - loss: 1.5060 - mae: 1.9470\n",
            "Epoch 111/150\n",
            "25/25 [==============================] - 1s 34ms/step - loss: 1.5023 - mae: 1.9432\n",
            "Epoch 112/150\n",
            "25/25 [==============================] - 1s 32ms/step - loss: 1.5036 - mae: 1.9438\n",
            "Epoch 113/150\n",
            "25/25 [==============================] - 1s 32ms/step - loss: 1.5048 - mae: 1.9461\n",
            "Epoch 114/150\n",
            "25/25 [==============================] - 1s 33ms/step - loss: 1.5003 - mae: 1.9421\n",
            "Epoch 115/150\n",
            "25/25 [==============================] - 1s 31ms/step - loss: 1.5002 - mae: 1.9409\n",
            "Epoch 116/150\n",
            "25/25 [==============================] - 1s 33ms/step - loss: 1.4999 - mae: 1.9398\n",
            "Epoch 117/150\n",
            "25/25 [==============================] - 1s 33ms/step - loss: 1.4987 - mae: 1.9401\n",
            "Epoch 118/150\n",
            "25/25 [==============================] - 1s 32ms/step - loss: 1.4967 - mae: 1.9394\n",
            "Epoch 119/150\n",
            "25/25 [==============================] - 1s 35ms/step - loss: 1.4996 - mae: 1.9405\n",
            "Epoch 120/150\n",
            "25/25 [==============================] - 1s 33ms/step - loss: 1.4984 - mae: 1.9393\n",
            "Epoch 121/150\n",
            "25/25 [==============================] - 1s 33ms/step - loss: 1.4979 - mae: 1.9381\n",
            "Epoch 122/150\n",
            "25/25 [==============================] - 1s 33ms/step - loss: 1.4986 - mae: 1.9398\n",
            "Epoch 123/150\n",
            "25/25 [==============================] - 1s 35ms/step - loss: 1.5005 - mae: 1.9414\n",
            "Epoch 124/150\n",
            "25/25 [==============================] - 1s 31ms/step - loss: 1.4975 - mae: 1.9385\n",
            "Epoch 125/150\n",
            "25/25 [==============================] - 1s 32ms/step - loss: 1.4973 - mae: 1.9375\n",
            "Epoch 126/150\n",
            "25/25 [==============================] - 1s 32ms/step - loss: 1.4960 - mae: 1.9372\n",
            "Epoch 127/150\n",
            "25/25 [==============================] - 1s 32ms/step - loss: 1.4990 - mae: 1.9396\n",
            "Epoch 128/150\n",
            "25/25 [==============================] - 1s 32ms/step - loss: 1.4960 - mae: 1.9367\n",
            "Epoch 129/150\n",
            "25/25 [==============================] - 1s 37ms/step - loss: 1.4979 - mae: 1.9387\n",
            "Epoch 130/150\n",
            "25/25 [==============================] - 1s 34ms/step - loss: 1.4944 - mae: 1.9368\n",
            "Epoch 131/150\n",
            "25/25 [==============================] - 1s 35ms/step - loss: 1.4956 - mae: 1.9373\n",
            "Epoch 132/150\n",
            "25/25 [==============================] - 1s 33ms/step - loss: 1.4974 - mae: 1.9384\n",
            "Epoch 133/150\n",
            "25/25 [==============================] - 1s 32ms/step - loss: 1.4982 - mae: 1.9386\n",
            "Epoch 134/150\n",
            "25/25 [==============================] - 1s 37ms/step - loss: 1.4947 - mae: 1.9352\n",
            "Epoch 135/150\n",
            "25/25 [==============================] - 1s 32ms/step - loss: 1.4957 - mae: 1.9367\n",
            "Epoch 136/150\n",
            "25/25 [==============================] - 1s 32ms/step - loss: 1.4945 - mae: 1.9358\n",
            "Epoch 137/150\n",
            "25/25 [==============================] - 1s 33ms/step - loss: 1.4953 - mae: 1.9361\n",
            "Epoch 138/150\n",
            "25/25 [==============================] - 1s 36ms/step - loss: 1.4959 - mae: 1.9364\n",
            "Epoch 139/150\n",
            "25/25 [==============================] - 1s 34ms/step - loss: 1.4944 - mae: 1.9345\n",
            "Epoch 140/150\n",
            "25/25 [==============================] - 1s 35ms/step - loss: 1.4951 - mae: 1.9345\n",
            "Epoch 141/150\n",
            "25/25 [==============================] - 1s 34ms/step - loss: 1.4945 - mae: 1.9344\n",
            "Epoch 142/150\n",
            "25/25 [==============================] - 1s 34ms/step - loss: 1.4920 - mae: 1.9331\n",
            "Epoch 143/150\n",
            "25/25 [==============================] - 1s 35ms/step - loss: 1.4919 - mae: 1.9335\n",
            "Epoch 144/150\n",
            "25/25 [==============================] - 1s 33ms/step - loss: 1.4928 - mae: 1.9336\n",
            "Epoch 145/150\n",
            "25/25 [==============================] - 1s 34ms/step - loss: 1.4936 - mae: 1.9342\n",
            "Epoch 146/150\n",
            "25/25 [==============================] - 1s 38ms/step - loss: 1.4931 - mae: 1.9338\n",
            "Epoch 147/150\n",
            "25/25 [==============================] - 1s 34ms/step - loss: 1.4947 - mae: 1.9353\n",
            "Epoch 148/150\n",
            "25/25 [==============================] - 1s 34ms/step - loss: 1.4917 - mae: 1.9323\n",
            "Epoch 149/150\n",
            "25/25 [==============================] - 1s 36ms/step - loss: 1.4932 - mae: 1.9336\n",
            "Epoch 150/150\n",
            "25/25 [==============================] - 1s 35ms/step - loss: 1.4923 - mae: 1.9338\n"
          ],
          "name": "stdout"
        }
      ]
    },
    {
      "cell_type": "code",
      "metadata": {
        "id": "GaC6NNMRp0lb",
        "colab_type": "code",
        "colab": {}
      },
      "source": [
        "rnn_forecast = model_forecast(model, series[..., np.newaxis], window_size)\n",
        "rnn_forecast = rnn_forecast[split_time - window_size:-1, -1, 0]"
      ],
      "execution_count": 0,
      "outputs": []
    },
    {
      "cell_type": "code",
      "metadata": {
        "id": "PrktQX3hKYex",
        "colab_type": "code",
        "outputId": "3a0522b6-73fb-48e3-9ad4-7206f6d5ef56",
        "colab": {
          "base_uri": "https://localhost:8080/",
          "height": 389
        }
      },
      "source": [
        "plt.figure(figsize=(10, 6))\n",
        "plot_series(time_valid, x_valid)\n",
        "plot_series(time_valid, rnn_forecast)"
      ],
      "execution_count": 32,
      "outputs": [
        {
          "output_type": "display_data",
          "data": {
            "image/png": "[encoded data removed]",
            "text/plain": [
              "<Figure size 720x432 with 1 Axes>"
            ]
          },
          "metadata": {
            "tags": []
          }
        }
      ]
    },
    {
      "cell_type": "code",
      "metadata": {
        "id": "13XrorC5wQoE",
        "colab_type": "code",
        "outputId": "30b760dd-3398-4703-943d-2012906abefb",
        "colab": {
          "base_uri": "https://localhost:8080/",
          "height": 34
        }
      },
      "source": [
        "tf.keras.metrics.mean_absolute_error(x_valid, rnn_forecast).numpy()"
      ],
      "execution_count": 33,
      "outputs": [
        {
          "output_type": "execute_result",
          "data": {
            "text/plain": [
              "1.7951478"
            ]
          },
          "metadata": {
            "tags": []
          },
          "execution_count": 33
        }
      ]
    },
    {
      "cell_type": "code",
      "metadata": {
        "id": "AOVzQXxCwkzP",
        "colab_type": "code",
        "outputId": "35f2b8ec-5d93-4cbb-851f-e93f7876a803",
        "colab": {
          "base_uri": "https://localhost:8080/",
          "height": 34
        }
      },
      "source": [
        "print(rnn_forecast)"
      ],
      "execution_count": 34,
      "outputs": [
        {
          "output_type": "stream",
          "text": [
            "[11.736877 11.052055 12.451245 ... 13.933638 14.107073 15.366797]\n"
          ],
          "name": "stdout"
        }
      ]
    },
    {
      "cell_type": "code",
      "metadata": {
        "id": "SqU7IPOLOu7e",
        "colab_type": "code",
        "colab": {}
      },
      "source": [
        ""
      ],
      "execution_count": 0,
      "outputs": []
    }
  ]
}